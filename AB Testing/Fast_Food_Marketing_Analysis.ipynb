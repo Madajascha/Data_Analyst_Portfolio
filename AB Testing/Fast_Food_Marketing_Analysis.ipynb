{
  "nbformat": 4,
  "nbformat_minor": 5,
  "metadata": {
    "noteable-chatgpt": {
      "create_notebook": {
        "openai_conversation_id": "877cb758-f27f-55d6-8d21-e9f5220596dd",
        "openai_ephemeral_user_id": "3ed66e92-8a7c-5466-85b8-904a0733bf9c",
        "openai_subdivision1_iso_code": "AU-VIC"
      }
    },
    "kernel_info": {
      "name": "python3"
    },
    "noteable": {
      "last_transaction_id": "ed0b7b8b-d509-4a94-a98c-f6c8b2600752"
    },
    "kernelspec": {
      "display_name": "Python 3.9",
      "language": "python",
      "name": "python3"
    },
    "selected_hardware_size": "small"
  },
  "cells": [
    {
      "id": "c6d7b906-a7bc-47a3-b56c-471b2327984e",
      "cell_type": "code",
      "metadata": {
        "jupyter": {
          "outputs_hidden": false,
          "source_hidden": false
        },
        "noteable": {
          "cell_type": "code",
          "output_collection_id": "820052da-883f-4946-adf9-12da881410d0"
        },
        "ExecuteTime": {
          "end_time": "2023-08-22T10:51:59.656584+00:00",
          "start_time": "2023-08-22T10:51:59.500658+00:00"
        }
      },
      "execution_count": null,
      "source": "import numpy as np\nimport pandas as pd\nimport matplotlib.pyplot as plt\nimport seaborn as sns",
      "outputs": []
    },
    {
      "id": "4cb214ed-99a2-4524-966d-ae7bbb54e091",
      "cell_type": "code",
      "metadata": {
        "noteable": {
          "cell_type": "code",
          "output_collection_id": "caac6174-4bcc-4468-863a-ea283578d774"
        },
        "ExecuteTime": {
          "end_time": "2023-08-22T10:51:59.944092+00:00",
          "start_time": "2023-08-22T10:51:59.665853+00:00"
        },
        "datalink": {
          "959ca954-8f9b-4202-b946-9ebf3c71b0c9": {
            "applied_filters": [],
            "dataframe_info": {
              "default_index_used": true,
              "orig_num_cols": 7,
              "orig_num_rows": 5,
              "orig_size_bytes": 320,
              "truncated_num_cols": 7,
              "truncated_num_rows": 5,
              "truncated_size_bytes": 320,
              "truncated_string_columns": []
            },
            "display_id": "959ca954-8f9b-4202-b946-9ebf3c71b0c9",
            "dx_settings": {
              "ALLOW_NOTEABLE_ATTRS": true,
              "COLUMN_SAMPLING_METHOD": "outer",
              "DB_LOCATION": ":memory:",
              "DEV_MODE": false,
              "DISPLAY_MAX_COLUMNS": 100,
              "DISPLAY_MAX_ROWS": 50000,
              "DISPLAY_MODE": "simple",
              "ENABLE_ASSIGNMENT": true,
              "ENABLE_DATALINK": true,
              "FLATTEN_COLUMN_VALUES": true,
              "FLATTEN_INDEX_VALUES": false,
              "GENERATE_DEX_METADATA": false,
              "HTML_TABLE_SCHEMA": false,
              "LOG_LEVEL": 30,
              "MAX_RENDER_SIZE_BYTES": 104857600,
              "MAX_STRING_LENGTH": 250,
              "NUM_PAST_SAMPLES_TRACKED": 3,
              "RANDOM_STATE": 12648430,
              "RESET_INDEX_VALUES": false,
              "ROW_SAMPLING_METHOD": "random",
              "SAMPLING_FACTOR": 0.1,
              "SAMPLING_METHOD": "random",
              "STRINGIFY_COLUMN_VALUES": true,
              "STRINGIFY_INDEX_VALUES": false
            },
            "sample_history": [],
            "sampling_time": "2023-08-22T03:25:23.556401",
            "user_variable_name": null,
            "variable_name": "unk_dataframe_9cd918ed5d1947e8a5ad60d1177e310f"
          },
          "404dc4aa-5a7d-4a1b-ac48-17702feb39de": {
            "applied_filters": [],
            "dataframe_info": {
              "default_index_used": true,
              "orig_num_cols": 7,
              "orig_num_rows": 5,
              "orig_size_bytes": 320,
              "truncated_num_cols": 7,
              "truncated_num_rows": 5,
              "truncated_size_bytes": 320,
              "truncated_string_columns": []
            },
            "display_id": "404dc4aa-5a7d-4a1b-ac48-17702feb39de",
            "dx_settings": {
              "ALLOW_NOTEABLE_ATTRS": true,
              "COLUMN_SAMPLING_METHOD": "outer",
              "DB_LOCATION": ":memory:",
              "DEV_MODE": false,
              "DISPLAY_MAX_COLUMNS": 100,
              "DISPLAY_MAX_ROWS": 50000,
              "DISPLAY_MODE": "simple",
              "ENABLE_ASSIGNMENT": true,
              "ENABLE_DATALINK": true,
              "FLATTEN_COLUMN_VALUES": true,
              "FLATTEN_INDEX_VALUES": false,
              "GENERATE_DEX_METADATA": false,
              "HTML_TABLE_SCHEMA": false,
              "LOG_LEVEL": 30,
              "MAX_RENDER_SIZE_BYTES": 104857600,
              "MAX_STRING_LENGTH": 250,
              "NUM_PAST_SAMPLES_TRACKED": 3,
              "RANDOM_STATE": 12648430,
              "RESET_INDEX_VALUES": false,
              "ROW_SAMPLING_METHOD": "random",
              "SAMPLING_FACTOR": 0.1,
              "SAMPLING_METHOD": "random",
              "STRINGIFY_COLUMN_VALUES": true,
              "STRINGIFY_INDEX_VALUES": false
            },
            "sample_history": [],
            "sampling_time": "2023-08-22T10:18:59.947047",
            "user_variable_name": null,
            "variable_name": "unk_dataframe_7a71ab30e0f84d929c933e4fa6cb3aed"
          },
          "6e845eff-5562-427b-b8f7-b90f7e6022f3": {
            "applied_filters": [],
            "dataframe_info": {
              "default_index_used": true,
              "orig_num_cols": 7,
              "orig_num_rows": 5,
              "orig_size_bytes": 320,
              "truncated_num_cols": 7,
              "truncated_num_rows": 5,
              "truncated_size_bytes": 320,
              "truncated_string_columns": []
            },
            "display_id": "6e845eff-5562-427b-b8f7-b90f7e6022f3",
            "dx_settings": {
              "ALLOW_NOTEABLE_ATTRS": true,
              "COLUMN_SAMPLING_METHOD": "outer",
              "DB_LOCATION": ":memory:",
              "DEV_MODE": false,
              "DISPLAY_MAX_COLUMNS": 100,
              "DISPLAY_MAX_ROWS": 50000,
              "DISPLAY_MODE": "simple",
              "ENABLE_ASSIGNMENT": true,
              "ENABLE_DATALINK": true,
              "FLATTEN_COLUMN_VALUES": true,
              "FLATTEN_INDEX_VALUES": false,
              "GENERATE_DEX_METADATA": false,
              "HTML_TABLE_SCHEMA": false,
              "LOG_LEVEL": 30,
              "MAX_RENDER_SIZE_BYTES": 104857600,
              "MAX_STRING_LENGTH": 250,
              "NUM_PAST_SAMPLES_TRACKED": 3,
              "RANDOM_STATE": 12648430,
              "RESET_INDEX_VALUES": false,
              "ROW_SAMPLING_METHOD": "random",
              "SAMPLING_FACTOR": 0.1,
              "SAMPLING_METHOD": "random",
              "STRINGIFY_COLUMN_VALUES": true,
              "STRINGIFY_INDEX_VALUES": false
            },
            "sample_history": [],
            "sampling_time": "2023-08-22T10:27:02.782149",
            "user_variable_name": null,
            "variable_name": "unk_dataframe_065a14bf449f4a7f9dcf669a810774e6"
          },
          "94a8dba4-a182-4c82-a9fb-40197b39a49a": {
            "applied_filters": [],
            "dataframe_info": {
              "default_index_used": true,
              "orig_num_cols": 7,
              "orig_num_rows": 5,
              "orig_size_bytes": 320,
              "truncated_num_cols": 7,
              "truncated_num_rows": 5,
              "truncated_size_bytes": 320,
              "truncated_string_columns": []
            },
            "display_id": "94a8dba4-a182-4c82-a9fb-40197b39a49a",
            "dx_settings": {
              "ALLOW_NOTEABLE_ATTRS": true,
              "COLUMN_SAMPLING_METHOD": "outer",
              "DB_LOCATION": ":memory:",
              "DEV_MODE": false,
              "DISPLAY_MAX_COLUMNS": 100,
              "DISPLAY_MAX_ROWS": 50000,
              "DISPLAY_MODE": "simple",
              "ENABLE_ASSIGNMENT": true,
              "ENABLE_DATALINK": true,
              "FLATTEN_COLUMN_VALUES": true,
              "FLATTEN_INDEX_VALUES": false,
              "GENERATE_DEX_METADATA": false,
              "HTML_TABLE_SCHEMA": false,
              "LOG_LEVEL": 30,
              "MAX_RENDER_SIZE_BYTES": 104857600,
              "MAX_STRING_LENGTH": 250,
              "NUM_PAST_SAMPLES_TRACKED": 3,
              "RANDOM_STATE": 12648430,
              "RESET_INDEX_VALUES": false,
              "ROW_SAMPLING_METHOD": "random",
              "SAMPLING_FACTOR": 0.1,
              "SAMPLING_METHOD": "random",
              "STRINGIFY_COLUMN_VALUES": true,
              "STRINGIFY_INDEX_VALUES": false
            },
            "sample_history": [],
            "sampling_time": "2023-08-22T10:51:59.776927",
            "user_variable_name": null,
            "variable_name": "unk_dataframe_f5720e99f3464868b7ea15571250412f"
          }
        }
      },
      "execution_count": null,
      "source": "# Load the CSV data into a DataFrame\nwa_marketing_data = pd.read_csv('WA_Marketing-Campaign.csv')\n\n# Display the first few rows of the data\nwa_marketing_data.head()",
      "outputs": []
    },
    {
      "id": "0407f82d-2874-4cbb-9d96-71bd05fbf5e0",
      "cell_type": "code",
      "metadata": {
        "noteable": {
          "cell_type": "code",
          "output_collection_id": "c838d05f-f41c-4c42-a11c-3267ccba9f57"
        },
        "ExecuteTime": {
          "end_time": "2023-08-22T10:52:00.216538+00:00",
          "start_time": "2023-08-22T10:51:59.951245+00:00"
        },
        "datalink": {
          "8085ae80-f8d3-4584-8ed4-291a1c033529": {
            "applied_filters": [],
            "dataframe_info": {
              "default_index_used": false,
              "orig_num_cols": 2,
              "orig_num_rows": 7,
              "orig_size_bytes": 168,
              "truncated_num_cols": 2,
              "truncated_num_rows": 7,
              "truncated_size_bytes": 168,
              "truncated_string_columns": []
            },
            "display_id": "8085ae80-f8d3-4584-8ed4-291a1c033529",
            "dx_settings": {
              "ALLOW_NOTEABLE_ATTRS": true,
              "COLUMN_SAMPLING_METHOD": "outer",
              "DB_LOCATION": ":memory:",
              "DEV_MODE": false,
              "DISPLAY_MAX_COLUMNS": 100,
              "DISPLAY_MAX_ROWS": 50000,
              "DISPLAY_MODE": "simple",
              "ENABLE_ASSIGNMENT": true,
              "ENABLE_DATALINK": true,
              "FLATTEN_COLUMN_VALUES": true,
              "FLATTEN_INDEX_VALUES": false,
              "GENERATE_DEX_METADATA": false,
              "HTML_TABLE_SCHEMA": false,
              "LOG_LEVEL": 30,
              "MAX_RENDER_SIZE_BYTES": 104857600,
              "MAX_STRING_LENGTH": 250,
              "NUM_PAST_SAMPLES_TRACKED": 3,
              "RANDOM_STATE": 12648430,
              "RESET_INDEX_VALUES": false,
              "ROW_SAMPLING_METHOD": "random",
              "SAMPLING_FACTOR": 0.1,
              "SAMPLING_METHOD": "random",
              "STRINGIFY_COLUMN_VALUES": true,
              "STRINGIFY_INDEX_VALUES": false
            },
            "sample_history": [],
            "sampling_time": "2023-08-22T03:28:55.729891",
            "user_variable_name": "analysis_result",
            "variable_name": "analysis_result"
          },
          "0ba3ec8e-f87f-41b9-b598-7466793abbc0": {
            "applied_filters": [],
            "dataframe_info": {
              "default_index_used": false,
              "orig_num_cols": 2,
              "orig_num_rows": 7,
              "orig_size_bytes": 168,
              "truncated_num_cols": 2,
              "truncated_num_rows": 7,
              "truncated_size_bytes": 168,
              "truncated_string_columns": []
            },
            "display_id": "0ba3ec8e-f87f-41b9-b598-7466793abbc0",
            "dx_settings": {
              "ALLOW_NOTEABLE_ATTRS": true,
              "COLUMN_SAMPLING_METHOD": "outer",
              "DB_LOCATION": ":memory:",
              "DEV_MODE": false,
              "DISPLAY_MAX_COLUMNS": 100,
              "DISPLAY_MAX_ROWS": 50000,
              "DISPLAY_MODE": "simple",
              "ENABLE_ASSIGNMENT": true,
              "ENABLE_DATALINK": true,
              "FLATTEN_COLUMN_VALUES": true,
              "FLATTEN_INDEX_VALUES": false,
              "GENERATE_DEX_METADATA": false,
              "HTML_TABLE_SCHEMA": false,
              "LOG_LEVEL": 30,
              "MAX_RENDER_SIZE_BYTES": 104857600,
              "MAX_STRING_LENGTH": 250,
              "NUM_PAST_SAMPLES_TRACKED": 3,
              "RANDOM_STATE": 12648430,
              "RESET_INDEX_VALUES": false,
              "ROW_SAMPLING_METHOD": "random",
              "SAMPLING_FACTOR": 0.1,
              "SAMPLING_METHOD": "random",
              "STRINGIFY_COLUMN_VALUES": true,
              "STRINGIFY_INDEX_VALUES": false
            },
            "sample_history": [],
            "sampling_time": "2023-08-22T10:19:00.233976",
            "user_variable_name": "analysis_result",
            "variable_name": "analysis_result"
          },
          "0390a5e5-1ecf-498f-a1fc-cc3bf53feb2c": {
            "applied_filters": [],
            "dataframe_info": {
              "default_index_used": false,
              "orig_num_cols": 2,
              "orig_num_rows": 7,
              "orig_size_bytes": 168,
              "truncated_num_cols": 2,
              "truncated_num_rows": 7,
              "truncated_size_bytes": 168,
              "truncated_string_columns": []
            },
            "display_id": "0390a5e5-1ecf-498f-a1fc-cc3bf53feb2c",
            "dx_settings": {
              "ALLOW_NOTEABLE_ATTRS": true,
              "COLUMN_SAMPLING_METHOD": "outer",
              "DB_LOCATION": ":memory:",
              "DEV_MODE": false,
              "DISPLAY_MAX_COLUMNS": 100,
              "DISPLAY_MAX_ROWS": 50000,
              "DISPLAY_MODE": "simple",
              "ENABLE_ASSIGNMENT": true,
              "ENABLE_DATALINK": true,
              "FLATTEN_COLUMN_VALUES": true,
              "FLATTEN_INDEX_VALUES": false,
              "GENERATE_DEX_METADATA": false,
              "HTML_TABLE_SCHEMA": false,
              "LOG_LEVEL": 30,
              "MAX_RENDER_SIZE_BYTES": 104857600,
              "MAX_STRING_LENGTH": 250,
              "NUM_PAST_SAMPLES_TRACKED": 3,
              "RANDOM_STATE": 12648430,
              "RESET_INDEX_VALUES": false,
              "ROW_SAMPLING_METHOD": "random",
              "SAMPLING_FACTOR": 0.1,
              "SAMPLING_METHOD": "random",
              "STRINGIFY_COLUMN_VALUES": true,
              "STRINGIFY_INDEX_VALUES": false
            },
            "sample_history": [],
            "sampling_time": "2023-08-22T10:20:52.786382",
            "user_variable_name": "analysis_result",
            "variable_name": "analysis_result"
          },
          "aa8df88a-5eea-4915-bdc7-cd80c26db3ee": {
            "applied_filters": [],
            "dataframe_info": {
              "default_index_used": false,
              "orig_num_cols": 2,
              "orig_num_rows": 7,
              "orig_size_bytes": 168,
              "truncated_num_cols": 2,
              "truncated_num_rows": 7,
              "truncated_size_bytes": 168,
              "truncated_string_columns": []
            },
            "display_id": "aa8df88a-5eea-4915-bdc7-cd80c26db3ee",
            "dx_settings": {
              "ALLOW_NOTEABLE_ATTRS": true,
              "COLUMN_SAMPLING_METHOD": "outer",
              "DB_LOCATION": ":memory:",
              "DEV_MODE": false,
              "DISPLAY_MAX_COLUMNS": 100,
              "DISPLAY_MAX_ROWS": 50000,
              "DISPLAY_MODE": "simple",
              "ENABLE_ASSIGNMENT": true,
              "ENABLE_DATALINK": true,
              "FLATTEN_COLUMN_VALUES": true,
              "FLATTEN_INDEX_VALUES": false,
              "GENERATE_DEX_METADATA": false,
              "HTML_TABLE_SCHEMA": false,
              "LOG_LEVEL": 30,
              "MAX_RENDER_SIZE_BYTES": 104857600,
              "MAX_STRING_LENGTH": 250,
              "NUM_PAST_SAMPLES_TRACKED": 3,
              "RANDOM_STATE": 12648430,
              "RESET_INDEX_VALUES": false,
              "ROW_SAMPLING_METHOD": "random",
              "SAMPLING_FACTOR": 0.1,
              "SAMPLING_METHOD": "random",
              "STRINGIFY_COLUMN_VALUES": true,
              "STRINGIFY_INDEX_VALUES": false
            },
            "sample_history": [],
            "sampling_time": "2023-08-22T10:21:03.006280",
            "user_variable_name": "analysis_result",
            "variable_name": "analysis_result"
          },
          "039e9686-de95-4b84-a9c1-0d56bb112435": {
            "applied_filters": [],
            "dataframe_info": {
              "default_index_used": false,
              "orig_num_cols": 2,
              "orig_num_rows": 7,
              "orig_size_bytes": 168,
              "truncated_num_cols": 2,
              "truncated_num_rows": 7,
              "truncated_size_bytes": 168,
              "truncated_string_columns": []
            },
            "display_id": "039e9686-de95-4b84-a9c1-0d56bb112435",
            "dx_settings": {
              "ALLOW_NOTEABLE_ATTRS": true,
              "COLUMN_SAMPLING_METHOD": "outer",
              "DB_LOCATION": ":memory:",
              "DEV_MODE": false,
              "DISPLAY_MAX_COLUMNS": 100,
              "DISPLAY_MAX_ROWS": 50000,
              "DISPLAY_MODE": "simple",
              "ENABLE_ASSIGNMENT": true,
              "ENABLE_DATALINK": true,
              "FLATTEN_COLUMN_VALUES": true,
              "FLATTEN_INDEX_VALUES": false,
              "GENERATE_DEX_METADATA": false,
              "HTML_TABLE_SCHEMA": false,
              "LOG_LEVEL": 30,
              "MAX_RENDER_SIZE_BYTES": 104857600,
              "MAX_STRING_LENGTH": 250,
              "NUM_PAST_SAMPLES_TRACKED": 3,
              "RANDOM_STATE": 12648430,
              "RESET_INDEX_VALUES": false,
              "ROW_SAMPLING_METHOD": "random",
              "SAMPLING_FACTOR": 0.1,
              "SAMPLING_METHOD": "random",
              "STRINGIFY_COLUMN_VALUES": true,
              "STRINGIFY_INDEX_VALUES": false
            },
            "sample_history": [],
            "sampling_time": "2023-08-22T10:27:03.044961",
            "user_variable_name": "analysis_result",
            "variable_name": "analysis_result"
          },
          "6b5d6bbf-ba8f-48e4-9a84-3ab24cfc1555": {
            "applied_filters": [],
            "dataframe_info": {
              "default_index_used": false,
              "orig_num_cols": 2,
              "orig_num_rows": 7,
              "orig_size_bytes": 168,
              "truncated_num_cols": 2,
              "truncated_num_rows": 7,
              "truncated_size_bytes": 168,
              "truncated_string_columns": []
            },
            "display_id": "6b5d6bbf-ba8f-48e4-9a84-3ab24cfc1555",
            "dx_settings": {
              "ALLOW_NOTEABLE_ATTRS": true,
              "COLUMN_SAMPLING_METHOD": "outer",
              "DB_LOCATION": ":memory:",
              "DEV_MODE": false,
              "DISPLAY_MAX_COLUMNS": 100,
              "DISPLAY_MAX_ROWS": 50000,
              "DISPLAY_MODE": "simple",
              "ENABLE_ASSIGNMENT": true,
              "ENABLE_DATALINK": true,
              "FLATTEN_COLUMN_VALUES": true,
              "FLATTEN_INDEX_VALUES": false,
              "GENERATE_DEX_METADATA": false,
              "HTML_TABLE_SCHEMA": false,
              "LOG_LEVEL": 30,
              "MAX_RENDER_SIZE_BYTES": 104857600,
              "MAX_STRING_LENGTH": 250,
              "NUM_PAST_SAMPLES_TRACKED": 3,
              "RANDOM_STATE": 12648430,
              "RESET_INDEX_VALUES": false,
              "ROW_SAMPLING_METHOD": "random",
              "SAMPLING_FACTOR": 0.1,
              "SAMPLING_METHOD": "random",
              "STRINGIFY_COLUMN_VALUES": true,
              "STRINGIFY_INDEX_VALUES": false
            },
            "sample_history": [],
            "sampling_time": "2023-08-22T10:52:00.052489",
            "user_variable_name": "analysis_result",
            "variable_name": "analysis_result"
          }
        },
        "dx": {
          "dashboard": {
            "multiViews": []
          },
          "fieldMetadata": {},
          "updated": 1692699643628,
          "views": []
        },
        "scrolled": false
      },
      "execution_count": null,
      "source": "# Check for missing values in all columns\nmissing_values = wa_marketing_data.isnull().sum()\n\n# Check for any abnormalities in data types\ndata_types = wa_marketing_data.dtypes\n\nanalysis_result = pd.DataFrame({'Missing Values': missing_values, 'Data Type': data_types})\nanalysis_result",
      "outputs": []
    },
    {
      "id": "d6b6e2a8-60b3-417b-87c4-cf650fb9ab5f",
      "cell_type": "code",
      "metadata": {
        "noteable": {
          "cell_type": "code",
          "output_collection_id": "e6ea165b-bedc-4e11-baef-ea6b65dcd5a8"
        },
        "ExecuteTime": {
          "end_time": "2023-08-22T10:52:00.506531+00:00",
          "start_time": "2023-08-22T10:52:00.225300+00:00"
        },
        "datalink": {
          "1b83b89b-1cbe-44eb-a853-1c9d8f0125ab": {
            "applied_filters": [],
            "dataframe_info": {
              "default_index_used": false,
              "orig_num_cols": 6,
              "orig_num_rows": 8,
              "orig_size_bytes": 448,
              "truncated_num_cols": 6,
              "truncated_num_rows": 8,
              "truncated_size_bytes": 448,
              "truncated_string_columns": []
            },
            "display_id": "1b83b89b-1cbe-44eb-a853-1c9d8f0125ab",
            "dx_settings": {
              "ALLOW_NOTEABLE_ATTRS": true,
              "COLUMN_SAMPLING_METHOD": "outer",
              "DB_LOCATION": ":memory:",
              "DEV_MODE": false,
              "DISPLAY_MAX_COLUMNS": 100,
              "DISPLAY_MAX_ROWS": 50000,
              "DISPLAY_MODE": "simple",
              "ENABLE_ASSIGNMENT": true,
              "ENABLE_DATALINK": true,
              "FLATTEN_COLUMN_VALUES": true,
              "FLATTEN_INDEX_VALUES": false,
              "GENERATE_DEX_METADATA": false,
              "HTML_TABLE_SCHEMA": false,
              "LOG_LEVEL": 30,
              "MAX_RENDER_SIZE_BYTES": 104857600,
              "MAX_STRING_LENGTH": 250,
              "NUM_PAST_SAMPLES_TRACKED": 3,
              "RANDOM_STATE": 12648430,
              "RESET_INDEX_VALUES": false,
              "ROW_SAMPLING_METHOD": "random",
              "SAMPLING_FACTOR": 0.1,
              "SAMPLING_METHOD": "random",
              "STRINGIFY_COLUMN_VALUES": true,
              "STRINGIFY_INDEX_VALUES": false
            },
            "sample_history": [],
            "sampling_time": "2023-08-22T03:29:45.471476",
            "user_variable_name": "numerical_stats",
            "variable_name": "numerical_stats"
          },
          "d6f1dc52-3b8a-45a2-8fbf-b0e1dc0ce5cc": {
            "applied_filters": [],
            "dataframe_info": {
              "default_index_used": false,
              "orig_num_cols": 6,
              "orig_num_rows": 8,
              "orig_size_bytes": 448,
              "truncated_num_cols": 6,
              "truncated_num_rows": 8,
              "truncated_size_bytes": 448,
              "truncated_string_columns": []
            },
            "display_id": "d6f1dc52-3b8a-45a2-8fbf-b0e1dc0ce5cc",
            "dx_settings": {
              "ALLOW_NOTEABLE_ATTRS": true,
              "COLUMN_SAMPLING_METHOD": "outer",
              "DB_LOCATION": ":memory:",
              "DEV_MODE": false,
              "DISPLAY_MAX_COLUMNS": 100,
              "DISPLAY_MAX_ROWS": 50000,
              "DISPLAY_MODE": "simple",
              "ENABLE_ASSIGNMENT": true,
              "ENABLE_DATALINK": true,
              "FLATTEN_COLUMN_VALUES": true,
              "FLATTEN_INDEX_VALUES": false,
              "GENERATE_DEX_METADATA": false,
              "HTML_TABLE_SCHEMA": false,
              "LOG_LEVEL": 30,
              "MAX_RENDER_SIZE_BYTES": 104857600,
              "MAX_STRING_LENGTH": 250,
              "NUM_PAST_SAMPLES_TRACKED": 3,
              "RANDOM_STATE": 12648430,
              "RESET_INDEX_VALUES": false,
              "ROW_SAMPLING_METHOD": "random",
              "SAMPLING_FACTOR": 0.1,
              "SAMPLING_METHOD": "random",
              "STRINGIFY_COLUMN_VALUES": true,
              "STRINGIFY_INDEX_VALUES": false
            },
            "sample_history": [],
            "sampling_time": "2023-08-22T10:19:00.484259",
            "user_variable_name": "numerical_stats",
            "variable_name": "numerical_stats"
          },
          "2495ffe8-18a6-4584-b81d-67d569127b3b": {
            "applied_filters": [],
            "dataframe_info": {
              "default_index_used": false,
              "orig_num_cols": 6,
              "orig_num_rows": 8,
              "orig_size_bytes": 448,
              "truncated_num_cols": 6,
              "truncated_num_rows": 8,
              "truncated_size_bytes": 448,
              "truncated_string_columns": []
            },
            "display_id": "2495ffe8-18a6-4584-b81d-67d569127b3b",
            "dx_settings": {
              "ALLOW_NOTEABLE_ATTRS": true,
              "COLUMN_SAMPLING_METHOD": "outer",
              "DB_LOCATION": ":memory:",
              "DEV_MODE": false,
              "DISPLAY_MAX_COLUMNS": 100,
              "DISPLAY_MAX_ROWS": 50000,
              "DISPLAY_MODE": "simple",
              "ENABLE_ASSIGNMENT": true,
              "ENABLE_DATALINK": true,
              "FLATTEN_COLUMN_VALUES": true,
              "FLATTEN_INDEX_VALUES": false,
              "GENERATE_DEX_METADATA": false,
              "HTML_TABLE_SCHEMA": false,
              "LOG_LEVEL": 30,
              "MAX_RENDER_SIZE_BYTES": 104857600,
              "MAX_STRING_LENGTH": 250,
              "NUM_PAST_SAMPLES_TRACKED": 3,
              "RANDOM_STATE": 12648430,
              "RESET_INDEX_VALUES": false,
              "ROW_SAMPLING_METHOD": "random",
              "SAMPLING_FACTOR": 0.1,
              "SAMPLING_METHOD": "random",
              "STRINGIFY_COLUMN_VALUES": true,
              "STRINGIFY_INDEX_VALUES": false
            },
            "sample_history": [],
            "sampling_time": "2023-08-22T10:27:03.319672",
            "user_variable_name": "numerical_stats",
            "variable_name": "numerical_stats"
          },
          "96848d95-77c2-4f0b-9f9e-8e0571f57363": {
            "applied_filters": [],
            "dataframe_info": {
              "default_index_used": false,
              "orig_num_cols": 6,
              "orig_num_rows": 8,
              "orig_size_bytes": 448,
              "truncated_num_cols": 6,
              "truncated_num_rows": 8,
              "truncated_size_bytes": 448,
              "truncated_string_columns": []
            },
            "display_id": "96848d95-77c2-4f0b-9f9e-8e0571f57363",
            "dx_settings": {
              "ALLOW_NOTEABLE_ATTRS": true,
              "COLUMN_SAMPLING_METHOD": "outer",
              "DB_LOCATION": ":memory:",
              "DEV_MODE": false,
              "DISPLAY_MAX_COLUMNS": 100,
              "DISPLAY_MAX_ROWS": 50000,
              "DISPLAY_MODE": "simple",
              "ENABLE_ASSIGNMENT": true,
              "ENABLE_DATALINK": true,
              "FLATTEN_COLUMN_VALUES": true,
              "FLATTEN_INDEX_VALUES": false,
              "GENERATE_DEX_METADATA": false,
              "HTML_TABLE_SCHEMA": false,
              "LOG_LEVEL": 30,
              "MAX_RENDER_SIZE_BYTES": 104857600,
              "MAX_STRING_LENGTH": 250,
              "NUM_PAST_SAMPLES_TRACKED": 3,
              "RANDOM_STATE": 12648430,
              "RESET_INDEX_VALUES": false,
              "ROW_SAMPLING_METHOD": "random",
              "SAMPLING_FACTOR": 0.1,
              "SAMPLING_METHOD": "random",
              "STRINGIFY_COLUMN_VALUES": true,
              "STRINGIFY_INDEX_VALUES": false
            },
            "sample_history": [],
            "sampling_time": "2023-08-22T10:52:00.341411",
            "user_variable_name": "numerical_stats",
            "variable_name": "numerical_stats"
          }
        }
      },
      "execution_count": null,
      "source": "# Descriptive statistics for numerical columns\nnumerical_stats = wa_marketing_data.describe()\nnumerical_stats",
      "outputs": []
    },
    {
      "id": "dbe50ec2-9465-4c75-944c-34e0716af46f",
      "cell_type": "code",
      "metadata": {
        "noteable": {
          "cell_type": "code",
          "output_collection_id": "5f5f8e01-d506-4215-807d-ceee5f1e01ec"
        },
        "ExecuteTime": {
          "end_time": "2023-08-22T10:52:00.810679+00:00",
          "start_time": "2023-08-22T10:52:00.551344+00:00"
        },
        "datalink": {
          "6472b4f4-5d52-42a3-b99a-f473fa336abb": {
            "applied_filters": [],
            "dataframe_info": {
              "default_index_used": false,
              "orig_num_cols": 1,
              "orig_num_rows": 3,
              "orig_size_bytes": 48,
              "truncated_num_cols": 1,
              "truncated_num_rows": 3,
              "truncated_size_bytes": 48,
              "truncated_string_columns": []
            },
            "display_id": "6472b4f4-5d52-42a3-b99a-f473fa336abb",
            "dx_settings": {
              "ALLOW_NOTEABLE_ATTRS": true,
              "COLUMN_SAMPLING_METHOD": "outer",
              "DB_LOCATION": ":memory:",
              "DEV_MODE": false,
              "DISPLAY_MAX_COLUMNS": 100,
              "DISPLAY_MAX_ROWS": 50000,
              "DISPLAY_MODE": "simple",
              "ENABLE_ASSIGNMENT": true,
              "ENABLE_DATALINK": true,
              "FLATTEN_COLUMN_VALUES": true,
              "FLATTEN_INDEX_VALUES": false,
              "GENERATE_DEX_METADATA": false,
              "HTML_TABLE_SCHEMA": false,
              "LOG_LEVEL": 30,
              "MAX_RENDER_SIZE_BYTES": 104857600,
              "MAX_STRING_LENGTH": 250,
              "NUM_PAST_SAMPLES_TRACKED": 3,
              "RANDOM_STATE": 12648430,
              "RESET_INDEX_VALUES": false,
              "ROW_SAMPLING_METHOD": "random",
              "SAMPLING_FACTOR": 0.1,
              "SAMPLING_METHOD": "random",
              "STRINGIFY_COLUMN_VALUES": true,
              "STRINGIFY_INDEX_VALUES": false
            },
            "sample_history": [],
            "sampling_time": "2023-08-22T03:30:51.071410",
            "user_variable_name": "market_size_counts",
            "variable_name": "market_size_counts"
          },
          "3e439e9d-6c73-4313-ac02-3429d285e08c": {
            "applied_filters": [],
            "dataframe_info": {
              "default_index_used": false,
              "orig_num_cols": 1,
              "orig_num_rows": 3,
              "orig_size_bytes": 48,
              "truncated_num_cols": 1,
              "truncated_num_rows": 3,
              "truncated_size_bytes": 48,
              "truncated_string_columns": []
            },
            "display_id": "3e439e9d-6c73-4313-ac02-3429d285e08c",
            "dx_settings": {
              "ALLOW_NOTEABLE_ATTRS": true,
              "COLUMN_SAMPLING_METHOD": "outer",
              "DB_LOCATION": ":memory:",
              "DEV_MODE": false,
              "DISPLAY_MAX_COLUMNS": 100,
              "DISPLAY_MAX_ROWS": 50000,
              "DISPLAY_MODE": "simple",
              "ENABLE_ASSIGNMENT": true,
              "ENABLE_DATALINK": true,
              "FLATTEN_COLUMN_VALUES": true,
              "FLATTEN_INDEX_VALUES": false,
              "GENERATE_DEX_METADATA": false,
              "HTML_TABLE_SCHEMA": false,
              "LOG_LEVEL": 30,
              "MAX_RENDER_SIZE_BYTES": 104857600,
              "MAX_STRING_LENGTH": 250,
              "NUM_PAST_SAMPLES_TRACKED": 3,
              "RANDOM_STATE": 12648430,
              "RESET_INDEX_VALUES": false,
              "ROW_SAMPLING_METHOD": "random",
              "SAMPLING_FACTOR": 0.1,
              "SAMPLING_METHOD": "random",
              "STRINGIFY_COLUMN_VALUES": true,
              "STRINGIFY_INDEX_VALUES": false
            },
            "sample_history": [],
            "sampling_time": "2023-08-22T10:19:00.719967",
            "user_variable_name": "market_size_counts",
            "variable_name": "market_size_counts"
          },
          "1f2cce3e-efbb-4872-952d-93ba08d95a5b": {
            "applied_filters": [],
            "dataframe_info": {
              "default_index_used": false,
              "orig_num_cols": 1,
              "orig_num_rows": 3,
              "orig_size_bytes": 48,
              "truncated_num_cols": 1,
              "truncated_num_rows": 3,
              "truncated_size_bytes": 48,
              "truncated_string_columns": []
            },
            "display_id": "1f2cce3e-efbb-4872-952d-93ba08d95a5b",
            "dx_settings": {
              "ALLOW_NOTEABLE_ATTRS": true,
              "COLUMN_SAMPLING_METHOD": "outer",
              "DB_LOCATION": ":memory:",
              "DEV_MODE": false,
              "DISPLAY_MAX_COLUMNS": 100,
              "DISPLAY_MAX_ROWS": 50000,
              "DISPLAY_MODE": "simple",
              "ENABLE_ASSIGNMENT": true,
              "ENABLE_DATALINK": true,
              "FLATTEN_COLUMN_VALUES": true,
              "FLATTEN_INDEX_VALUES": false,
              "GENERATE_DEX_METADATA": false,
              "HTML_TABLE_SCHEMA": false,
              "LOG_LEVEL": 30,
              "MAX_RENDER_SIZE_BYTES": 104857600,
              "MAX_STRING_LENGTH": 250,
              "NUM_PAST_SAMPLES_TRACKED": 3,
              "RANDOM_STATE": 12648430,
              "RESET_INDEX_VALUES": false,
              "ROW_SAMPLING_METHOD": "random",
              "SAMPLING_FACTOR": 0.1,
              "SAMPLING_METHOD": "random",
              "STRINGIFY_COLUMN_VALUES": true,
              "STRINGIFY_INDEX_VALUES": false
            },
            "sample_history": [],
            "sampling_time": "2023-08-22T10:27:03.566362",
            "user_variable_name": "market_size_counts",
            "variable_name": "market_size_counts"
          },
          "efe758e2-6f22-4f6c-9e44-0520c99c414f": {
            "applied_filters": [],
            "dataframe_info": {
              "default_index_used": false,
              "orig_num_cols": 1,
              "orig_num_rows": 3,
              "orig_size_bytes": 48,
              "truncated_num_cols": 1,
              "truncated_num_rows": 3,
              "truncated_size_bytes": 48,
              "truncated_string_columns": []
            },
            "display_id": "efe758e2-6f22-4f6c-9e44-0520c99c414f",
            "dx_settings": {
              "ALLOW_NOTEABLE_ATTRS": true,
              "COLUMN_SAMPLING_METHOD": "outer",
              "DB_LOCATION": ":memory:",
              "DEV_MODE": false,
              "DISPLAY_MAX_COLUMNS": 100,
              "DISPLAY_MAX_ROWS": 50000,
              "DISPLAY_MODE": "simple",
              "ENABLE_ASSIGNMENT": true,
              "ENABLE_DATALINK": true,
              "FLATTEN_COLUMN_VALUES": true,
              "FLATTEN_INDEX_VALUES": false,
              "GENERATE_DEX_METADATA": false,
              "HTML_TABLE_SCHEMA": false,
              "LOG_LEVEL": 30,
              "MAX_RENDER_SIZE_BYTES": 104857600,
              "MAX_STRING_LENGTH": 250,
              "NUM_PAST_SAMPLES_TRACKED": 3,
              "RANDOM_STATE": 12648430,
              "RESET_INDEX_VALUES": false,
              "ROW_SAMPLING_METHOD": "random",
              "SAMPLING_FACTOR": 0.1,
              "SAMPLING_METHOD": "random",
              "STRINGIFY_COLUMN_VALUES": true,
              "STRINGIFY_INDEX_VALUES": false
            },
            "sample_history": [],
            "sampling_time": "2023-08-22T10:52:00.642900",
            "user_variable_name": "market_size_counts",
            "variable_name": "market_size_counts"
          }
        }
      },
      "execution_count": null,
      "source": "# Analysis for 'MarketSize' categorical column\nmarket_size_counts = wa_marketing_data['MarketSize'].value_counts()\nmarket_size_counts",
      "outputs": []
    },
    {
      "id": "acb5f644-59c3-4cc4-8082-e236c093e127",
      "cell_type": "code",
      "metadata": {
        "noteable": {
          "cell_type": "code",
          "output_collection_id": "a7a4d021-8b56-4742-a877-d41b72e85484"
        },
        "ExecuteTime": {
          "end_time": "2023-08-22T10:52:01.708237+00:00",
          "start_time": "2023-08-22T10:52:00.849947+00:00"
        },
        "scrolled": true
      },
      "execution_count": null,
      "source": "# Set up the figure and axes\nfig, ax = plt.subplots(nrows=2, ncols=1, figsize=(10, 8))\n\n# Histogram for AgeOfStore\nax[0].hist(wa_marketing_data['AgeOfStore'], bins=20, color='skyblue', edgecolor='black')\nax[0].set_title('Distribution of AgeOfStore')\nax[0].set_xlabel('AgeOfStore')\nax[0].set_ylabel('Frequency')\n\n# Histogram for SalesInThousands\nax[1].hist(wa_marketing_data['SalesInThousands'], bins=20, color='salmon', edgecolor='black')\nax[1].set_title('Distribution of SalesInThousands')\nax[1].set_xlabel('SalesInThousands')\nax[1].set_ylabel('Frequency')\n\n# Adjust the layout\nplt.tight_layout()\nplt.show()",
      "outputs": []
    },
    {
      "id": "3fe5f439-6eb7-4353-bd96-6be4c781fd39",
      "cell_type": "code",
      "metadata": {
        "jupyter": {
          "outputs_hidden": false,
          "source_hidden": false
        },
        "noteable": {
          "cell_type": "code",
          "output_collection_id": "33d0c4c0-6bb1-4c8f-8e66-16273deb905e"
        },
        "ExecuteTime": {
          "end_time": "2023-08-22T10:52:02.475218+00:00",
          "start_time": "2023-08-22T10:52:01.928913+00:00"
        }
      },
      "execution_count": null,
      "source": "# Group data by 'week' and 'Promotion' and calculate average sales for each group\nweekly_sales = wa_marketing_data.groupby(['week', 'Promotion'])['SalesInThousands'].mean().reset_index()\n\n# Plotting the sales over time for each promotion\nplt.figure(figsize=(12, 7))\nfor promo in weekly_sales['Promotion'].unique():\n    subset = weekly_sales[weekly_sales['Promotion'] == promo]\n    plt.plot(subset['week'], subset['SalesInThousands'], label=f'Promotion {promo}', marker='o')\n\nplt.title('Average Sales Over Time by Promotion')\nplt.xlabel('Week')\nplt.ylabel('Average Sales (in Thousands)')\nplt.legend()\nplt.grid(True, which='both', linestyle='--', linewidth=0.5)\nplt.xticks(weekly_sales['week'].unique())\nplt.show()",
      "outputs": []
    },
    {
      "id": "20bfca74-8676-452b-8411-b1b69df55946",
      "cell_type": "code",
      "metadata": {
        "jupyter": {
          "outputs_hidden": false,
          "source_hidden": false
        },
        "noteable": {
          "cell_type": "code",
          "output_collection_id": "544facbb-37da-4e9d-b23e-63dc93c4127b"
        },
        "ExecuteTime": {
          "end_time": "2023-08-22T10:52:03.597880+00:00",
          "start_time": "2023-08-22T10:52:02.934970+00:00"
        }
      },
      "execution_count": null,
      "source": "# Group data by 'week', 'Promotion', and 'MarketSize' and calculate average sales for each group\nweekly_sales_market = wa_marketing_data.groupby(['week', 'Promotion', 'MarketSize'])['SalesInThousands'].mean().reset_index()\n\n# Plotting the sales over time for each promotion and market size with different markers for each market size\nplt.figure(figsize=(14, 8))\npromo_colors = {1: 'red', 2: 'blue', 3: 'green'}\nmarket_markers = {'Small': 'o', 'Medium': '^', 'Large': 's'}\nfor promo in weekly_sales_market['Promotion'].unique():\n    for market in weekly_sales_market['MarketSize'].unique():\n        subset = weekly_sales_market[(weekly_sales_market['Promotion'] == promo) & (weekly_sales_market['MarketSize'] == market)]\n        plt.plot(subset['week'], subset['SalesInThousands'], label=f'Promotion {promo} - {market}', marker=market_markers[market], color=promo_colors[promo], linestyle='-')\n\nplt.title('Average Sales Over Time by Promotion and Market Size')\nplt.xlabel('Week')\nplt.ylabel('Average Sales (in Thousands)')\nplt.legend()\nplt.grid(True, which='both', linestyle='--', linewidth=0.5)\nplt.xticks(weekly_sales_market['week'].unique())\nplt.show()",
      "outputs": []
    },
    {
      "id": "37298fef-72df-4c2c-a85f-c0d43081ea8f",
      "cell_type": "markdown",
      "source": "From the plot:\n\nPromotion 1:\n\nSales in Medium and Large markets are relatively stable across the weeks.\nSales in Small markets show a slight increase in the third week.\n\nPromotion 2:\n\nSales in Medium markets start high in the first week but see a decline in the subsequent weeks.\nSales in Large markets show a consistent decline over the weeks.\nSales in Small markets are relatively stable.\n\nPromotion 3:\n\nSales in Medium markets show a consistent upward trend over the weeks.\nSales in Large markets start lower in the first week but show an increase in the subsequent weeks.\nSales in Small markets are relatively stable.\n\nThe overlay of market sizes provides insights into how each promotion performed in different market segments over time. For instance, Promotion 3 seems to be particularly effective in Medium markets, showing a consistent upward trend.",
      "metadata": {}
    },
    {
      "id": "d612269f-2639-425d-881c-ba2728211a22",
      "cell_type": "code",
      "metadata": {
        "jupyter": {
          "outputs_hidden": false,
          "source_hidden": false
        },
        "noteable": {
          "cell_type": "code",
          "output_collection_id": "c40cc2a7-e331-4966-b73c-ec9fb42edf81"
        },
        "ExecuteTime": {
          "end_time": "2023-08-22T10:52:04.397592+00:00",
          "start_time": "2023-08-22T10:52:03.853019+00:00"
        }
      },
      "execution_count": null,
      "source": "# Calculate week-over-week growth rate for each promotion\ngrowth_rates = []\nfor promo in weekly_sales['Promotion'].unique():\n    subset = weekly_sales[weekly_sales['Promotion'] == promo].sort_values(by='week')\n    subset['GrowthRate'] = subset['SalesInThousands'].pct_change() * 100\n    growth_rates.append(subset)\n\ngrowth_rates_df = pd.concat(growth_rates)\n\n# Plotting the growth rates over time for each promotion\nplt.figure(figsize=(12, 7))\nfor promo in growth_rates_df['Promotion'].unique():\n    subset = growth_rates_df[growth_rates_df['Promotion'] == promo]\n    plt.plot(subset['week'], subset['GrowthRate'], label=f'Promotion {promo}', marker='o')\n\nplt.title('Week-over-Week Sales Growth Rate by Promotion')\nplt.xlabel('Week')\nplt.ylabel('Growth Rate (%)')\nplt.legend()\nplt.grid(True, which='both', linestyle='--', linewidth=0.5)\nplt.xticks(growth_rates_df['week'].unique())\nplt.axhline(y=0, color='black', linestyle='-')\nplt.show()",
      "outputs": []
    },
    {
      "id": "58060d53-7d21-4188-b892-cda1e9701216",
      "cell_type": "markdown",
      "source": "Here's the visualization of the week-over-week sales growth rate for each promotion:\n\nPromotion 1: The growth rate fluctuates around the zero line, indicating relatively stable sales with a slight increase in the third week.\n\nPromotion 2: There's a sharp decline in the growth rate after the first week, indicating a drop in sales.\n\nPromotion 3: The growth rate shows a consistent positive trend, indicating increasing sales over the weeks.\n\nFrom this visualization:\n\nPromotion 3 shows a consistent positive growth rate, suggesting that its effectiveness increased over time.\n\nPromotion 2 had a strong start but couldn't sustain its performance.\n\nPromotion 1 had relatively stable sales with minor fluctuations.",
      "metadata": {}
    },
    {
      "id": "c43ed5ff-e950-438c-bacb-0f6bcf5291f9",
      "cell_type": "code",
      "metadata": {
        "jupyter": {
          "outputs_hidden": false,
          "source_hidden": false
        },
        "noteable": {
          "cell_type": "code",
          "output_collection_id": "ad7e0d82-1563-4a4c-be5e-0acac6893551"
        },
        "ExecuteTime": {
          "end_time": "2023-08-22T10:52:05.464104+00:00",
          "start_time": "2023-08-22T10:52:04.797097+00:00"
        }
      },
      "execution_count": null,
      "source": "# Group data by 'Promotion' and 'MarketSize' and calculate average sales for each group\npromo_market_sales = wa_marketing_data.groupby(['Promotion', 'MarketSize'])['SalesInThousands'].mean().unstack()\n\n# Using a different color palette for the stacked bar chart\ncolors = ['lightcoral', 'lightskyblue', 'lightgreen']\n\n# Plotting the updated stacked bar chart\nax = promo_market_sales.plot(kind='bar', stacked=True, figsize=(10, 7), color=colors)\nplt.title('Average Sales by Promotion and Market Size')\nplt.xlabel('Promotion')\nplt.ylabel('Average Sales (in Thousands)')\nplt.xticks(rotation=0)\nplt.legend(title='Market Size')\nplt.tight_layout()\nplt.show()",
      "outputs": []
    },
    {
      "id": "5080eeb4-88a8-4910-b1e9-c7fb5b47885d",
      "cell_type": "markdown",
      "source": "From the chart:\n\nPromotion 1: Has a balanced contribution from all three market sizes, with the Large market contributing the most.\n\nPromotion 2: The Medium market size contributes the most to the sales, followed by the Large and Small market sizes.\n\nPromotion 3: The Medium market size again contributes the most, but the Small market size has a more significant contribution compared to Promotion 2.\n\nThis visualization provides insights into how each promotion performed in different market segments.",
      "metadata": {}
    },
    {
      "id": "7dbb210d-9b48-4bd8-9492-b7620ae99586",
      "cell_type": "code",
      "metadata": {
        "noteable": {
          "cell_type": "code",
          "output_collection_id": "f4fbb439-491d-412a-8fe5-e5d1a0042b40"
        },
        "ExecuteTime": {
          "end_time": "2023-08-22T10:52:06.018648+00:00",
          "start_time": "2023-08-22T10:52:05.745161+00:00"
        },
        "datalink": {
          "68171642-c277-42a6-b9b5-e6d957d12a03": {
            "applied_filters": [],
            "dataframe_info": {
              "default_index_used": false,
              "orig_num_cols": 1,
              "orig_num_rows": 3,
              "orig_size_bytes": 48,
              "truncated_num_cols": 1,
              "truncated_num_rows": 3,
              "truncated_size_bytes": 48,
              "truncated_string_columns": []
            },
            "display_id": "68171642-c277-42a6-b9b5-e6d957d12a03",
            "dx_settings": {
              "ALLOW_NOTEABLE_ATTRS": true,
              "COLUMN_SAMPLING_METHOD": "outer",
              "DB_LOCATION": ":memory:",
              "DEV_MODE": false,
              "DISPLAY_MAX_COLUMNS": 100,
              "DISPLAY_MAX_ROWS": 50000,
              "DISPLAY_MODE": "simple",
              "ENABLE_ASSIGNMENT": true,
              "ENABLE_DATALINK": true,
              "FLATTEN_COLUMN_VALUES": true,
              "FLATTEN_INDEX_VALUES": false,
              "GENERATE_DEX_METADATA": false,
              "HTML_TABLE_SCHEMA": false,
              "LOG_LEVEL": 30,
              "MAX_RENDER_SIZE_BYTES": 104857600,
              "MAX_STRING_LENGTH": 250,
              "NUM_PAST_SAMPLES_TRACKED": 3,
              "RANDOM_STATE": 12648430,
              "RESET_INDEX_VALUES": false,
              "ROW_SAMPLING_METHOD": "random",
              "SAMPLING_FACTOR": 0.1,
              "SAMPLING_METHOD": "random",
              "STRINGIFY_COLUMN_VALUES": true,
              "STRINGIFY_INDEX_VALUES": false
            },
            "sample_history": [],
            "sampling_time": "2023-08-22T03:34:46.358695",
            "user_variable_name": "average_sales_per_promotion",
            "variable_name": "average_sales_per_promotion"
          },
          "c56772ba-3784-4c46-ad2e-c73b05bfdf3e": {
            "applied_filters": [],
            "dataframe_info": {
              "default_index_used": false,
              "orig_num_cols": 1,
              "orig_num_rows": 3,
              "orig_size_bytes": 48,
              "truncated_num_cols": 1,
              "truncated_num_rows": 3,
              "truncated_size_bytes": 48,
              "truncated_string_columns": []
            },
            "display_id": "c56772ba-3784-4c46-ad2e-c73b05bfdf3e",
            "dx_settings": {
              "ALLOW_NOTEABLE_ATTRS": true,
              "COLUMN_SAMPLING_METHOD": "outer",
              "DB_LOCATION": ":memory:",
              "DEV_MODE": false,
              "DISPLAY_MAX_COLUMNS": 100,
              "DISPLAY_MAX_ROWS": 50000,
              "DISPLAY_MODE": "simple",
              "ENABLE_ASSIGNMENT": true,
              "ENABLE_DATALINK": true,
              "FLATTEN_COLUMN_VALUES": true,
              "FLATTEN_INDEX_VALUES": false,
              "GENERATE_DEX_METADATA": false,
              "HTML_TABLE_SCHEMA": false,
              "LOG_LEVEL": 30,
              "MAX_RENDER_SIZE_BYTES": 104857600,
              "MAX_STRING_LENGTH": 250,
              "NUM_PAST_SAMPLES_TRACKED": 3,
              "RANDOM_STATE": 12648430,
              "RESET_INDEX_VALUES": false,
              "ROW_SAMPLING_METHOD": "random",
              "SAMPLING_FACTOR": 0.1,
              "SAMPLING_METHOD": "random",
              "STRINGIFY_COLUMN_VALUES": true,
              "STRINGIFY_INDEX_VALUES": false
            },
            "sample_history": [],
            "sampling_time": "2023-08-22T10:19:02.222347",
            "user_variable_name": "average_sales_per_promotion",
            "variable_name": "average_sales_per_promotion"
          },
          "30d6a5ca-1ecb-41df-ab80-4b036db8600d": {
            "applied_filters": [],
            "dataframe_info": {
              "default_index_used": false,
              "orig_num_cols": 1,
              "orig_num_rows": 3,
              "orig_size_bytes": 48,
              "truncated_num_cols": 1,
              "truncated_num_rows": 3,
              "truncated_size_bytes": 48,
              "truncated_string_columns": []
            },
            "display_id": "30d6a5ca-1ecb-41df-ab80-4b036db8600d",
            "dx_settings": {
              "ALLOW_NOTEABLE_ATTRS": true,
              "COLUMN_SAMPLING_METHOD": "outer",
              "DB_LOCATION": ":memory:",
              "DEV_MODE": false,
              "DISPLAY_MAX_COLUMNS": 100,
              "DISPLAY_MAX_ROWS": 50000,
              "DISPLAY_MODE": "simple",
              "ENABLE_ASSIGNMENT": true,
              "ENABLE_DATALINK": true,
              "FLATTEN_COLUMN_VALUES": true,
              "FLATTEN_INDEX_VALUES": false,
              "GENERATE_DEX_METADATA": false,
              "HTML_TABLE_SCHEMA": false,
              "LOG_LEVEL": 30,
              "MAX_RENDER_SIZE_BYTES": 104857600,
              "MAX_STRING_LENGTH": 250,
              "NUM_PAST_SAMPLES_TRACKED": 3,
              "RANDOM_STATE": 12648430,
              "RESET_INDEX_VALUES": false,
              "ROW_SAMPLING_METHOD": "random",
              "SAMPLING_FACTOR": 0.1,
              "SAMPLING_METHOD": "random",
              "STRINGIFY_COLUMN_VALUES": true,
              "STRINGIFY_INDEX_VALUES": false
            },
            "sample_history": [],
            "sampling_time": "2023-08-22T10:27:04.926966",
            "user_variable_name": "average_sales_per_promotion",
            "variable_name": "average_sales_per_promotion"
          },
          "8622bfcb-b44c-4441-933e-c9c9e6d325d9": {
            "applied_filters": [],
            "dataframe_info": {
              "default_index_used": false,
              "orig_num_cols": 1,
              "orig_num_rows": 3,
              "orig_size_bytes": 48,
              "truncated_num_cols": 1,
              "truncated_num_rows": 3,
              "truncated_size_bytes": 48,
              "truncated_string_columns": []
            },
            "display_id": "8622bfcb-b44c-4441-933e-c9c9e6d325d9",
            "dx_settings": {
              "ALLOW_NOTEABLE_ATTRS": true,
              "COLUMN_SAMPLING_METHOD": "outer",
              "DB_LOCATION": ":memory:",
              "DEV_MODE": false,
              "DISPLAY_MAX_COLUMNS": 100,
              "DISPLAY_MAX_ROWS": 50000,
              "DISPLAY_MODE": "simple",
              "ENABLE_ASSIGNMENT": true,
              "ENABLE_DATALINK": true,
              "FLATTEN_COLUMN_VALUES": true,
              "FLATTEN_INDEX_VALUES": false,
              "GENERATE_DEX_METADATA": false,
              "HTML_TABLE_SCHEMA": false,
              "LOG_LEVEL": 30,
              "MAX_RENDER_SIZE_BYTES": 104857600,
              "MAX_STRING_LENGTH": 250,
              "NUM_PAST_SAMPLES_TRACKED": 3,
              "RANDOM_STATE": 12648430,
              "RESET_INDEX_VALUES": false,
              "ROW_SAMPLING_METHOD": "random",
              "SAMPLING_FACTOR": 0.1,
              "SAMPLING_METHOD": "random",
              "STRINGIFY_COLUMN_VALUES": true,
              "STRINGIFY_INDEX_VALUES": false
            },
            "sample_history": [],
            "sampling_time": "2023-08-22T10:52:05.852916",
            "user_variable_name": "average_sales_per_promotion",
            "variable_name": "average_sales_per_promotion"
          }
        },
        "dx": {
          "dashboard": {
            "multiViews": []
          },
          "fieldMetadata": {},
          "updated": 1692699698428,
          "views": [
            {
              "annotationRules": [],
              "chart": {},
              "chartMode": "grid",
              "confoRules": [],
              "decoration": {
                "footer": "",
                "subtitle": "",
                "title": "Table"
              },
              "facets": [],
              "filterSettings": {
                "SHOW_FILTER_PANEL": true,
                "filters": []
              },
              "id": "first-view",
              "isDefault": true,
              "type": "public",
              "userID": ""
            },
            {
              "annotationRules": [],
              "chart": {
                "tableSparklines": false
              },
              "chartMode": "grid",
              "confoRules": [],
              "decoration": {
                "footer": "",
                "subtitle": "",
                "title": "Table"
              },
              "facets": [],
              "filterSettings": {
                "SHOW_FILTER_PANEL": true,
                "filters": []
              },
              "id": "first-view",
              "isDefault": true,
              "isTransitory": true,
              "type": "public",
              "userID": ""
            }
          ]
        }
      },
      "execution_count": null,
      "source": "# Segment the data based on the 'Promotion' column\npromotion_groups = wa_marketing_data.groupby('Promotion')\n\n# Calculate the average sales for each promotion\naverage_sales_per_promotion = promotion_groups['SalesInThousands'].mean()\naverage_sales_per_promotion",
      "outputs": []
    },
    {
      "id": "1c03c718-e219-4c31-b25d-ff88c4d09d37",
      "cell_type": "code",
      "metadata": {
        "noteable": {
          "cell_type": "code",
          "output_collection_id": "b7170bba-0f79-47e4-bf2b-803aaa4da1eb"
        },
        "ExecuteTime": {
          "end_time": "2023-08-22T10:52:06.500318+00:00",
          "start_time": "2023-08-22T10:52:06.051418+00:00"
        }
      },
      "execution_count": null,
      "source": "# Create a pie chart for average sales for each promotion\nlabels = average_sales_per_promotion.index\nsizes = average_sales_per_promotion.values\ncolors = ['gold', 'lightskyblue', 'lightcoral']\nexplode = (0.1, 0, 0)  # explode 1st slice for emphasis\n\nplt.figure(figsize=(10, 6))\nplt.pie(sizes, explode=explode, labels=labels, colors=colors, autopct='%1.1f%%', shadow=True, startangle=140)\nplt.title('Average Sales Distribution for Each Promotion')\nplt.axis('equal')  # Equal aspect ratio ensures that pie is drawn as a circle.\nplt.show()",
      "outputs": []
    },
    {
      "id": "2988082a-6e7a-4bfe-9a16-29236ef0a4a5",
      "cell_type": "code",
      "metadata": {
        "jupyter": {
          "outputs_hidden": false,
          "source_hidden": false
        },
        "noteable": {
          "cell_type": "code",
          "output_collection_id": "74a638df-6c25-40bd-a53f-d5b987a9251b"
        },
        "ExecuteTime": {
          "end_time": "2023-08-22T10:52:07.014713+00:00",
          "start_time": "2023-08-22T10:52:06.855168+00:00"
        }
      },
      "execution_count": null,
      "source": "# Identify the promotion with the highest average sales\nbest_promotion = average_sales_per_promotion.idxmax()\nbest_promotion_sales = average_sales_per_promotion.max()\nbest_promotion, best_promotion_sales",
      "outputs": []
    },
    {
      "id": "09647aff-6c26-401f-845b-2cbeededeee4",
      "cell_type": "markdown",
      "source": "The best promotion, based on the highest average sales, is Promotion 1 with an average sales value of approximately 58.10 thousand.\n\nThis suggests that Promotion 1 was the most effective in driving sales among the three promotions tested.",
      "metadata": {}
    },
    {
      "id": "79257e84-bf97-4e2d-92fe-bb2151b2648b",
      "cell_type": "code",
      "metadata": {
        "noteable": {
          "cell_type": "code",
          "output_collection_id": "1251b85d-4822-481d-bf8b-58f64d7a91b3"
        },
        "ExecuteTime": {
          "end_time": "2023-08-22T10:52:07.196631+00:00",
          "start_time": "2023-08-22T10:52:07.022423+00:00"
        }
      },
      "execution_count": null,
      "source": "import scipy.stats as stats\n\n# Extract sales data for each promotion\nsales_promo_1 = wa_marketing_data[wa_marketing_data['Promotion'] == 1]['SalesInThousands']\nsales_promo_2 = wa_marketing_data[wa_marketing_data['Promotion'] == 2]['SalesInThousands']\nsales_promo_3 = wa_marketing_data[wa_marketing_data['Promotion'] == 3]['SalesInThousands']\n\n# Perform ANOVA test\nf_statistic, p_value = stats.f_oneway(sales_promo_1, sales_promo_2, sales_promo_3)\nf_statistic, p_value",
      "outputs": []
    },
    {
      "id": "f4a488a7-1435-4ba1-9ce5-145f0e0f487b",
      "cell_type": "markdown",
      "source": "The p-value is extremely small, which indicates that there is a statistically significant difference in the average sales between the three promotions. In other words, the observed differences in average sales for the promotions are unlikely to have occurred by random chance.\n\nGiven the results, we can conclude that the promotions had a significant impact on sales. ",
      "metadata": {}
    },
    {
      "id": "4d018a84-d89d-494b-a852-135611c7ab54",
      "cell_type": "code",
      "metadata": {
        "noteable": {
          "cell_type": "code",
          "output_collection_id": "13bc8107-1a1c-429d-b669-6eefec6cebe6"
        },
        "ExecuteTime": {
          "end_time": "2023-08-22T10:52:07.696076+00:00",
          "start_time": "2023-08-22T10:52:07.204725+00:00"
        }
      },
      "execution_count": null,
      "source": "from statsmodels.stats.multicomp import pairwise_tukeyhsd\n\n# Perform Tukey HSD test\ntukey_results = pairwise_tukeyhsd(endog=wa_marketing_data['SalesInThousands'], groups=wa_marketing_data['Promotion'], alpha=0.05)\ntukey_summary = tukey_results.summary()\ntukey_summary",
      "outputs": []
    },
    {
      "id": "4f37c8e6-3252-48aa-b116-26bf8e5dc3f1",
      "cell_type": "markdown",
      "source": "In summary:\n\nPromotion 1 significantly outperforms Promotion 2.\n\nThere's no significant difference between Promotions 1 and 3.\n\nPromotion 3 significantly outperforms Promotion 2.",
      "metadata": {}
    },
    {
      "id": "51852ba7-f28f-44a7-b3f4-31ac474a7609",
      "cell_type": "code",
      "metadata": {
        "noteable": {
          "cell_type": "code",
          "output_collection_id": "996bbaa0-01dd-445d-99a3-9b9b1e169e73"
        },
        "ExecuteTime": {
          "end_time": "2023-08-22T10:52:07.888121+00:00",
          "start_time": "2023-08-22T10:52:07.708891+00:00"
        }
      },
      "execution_count": null,
      "source": "import statsmodels.api as sm\nfrom statsmodels.formula.api import ols\n# Fit the ANOVA model\nmodel = ols('SalesInThousands ~ C(Promotion)', data=wa_marketing_data).fit()\nanova_table = sm.stats.anova_lm(model, typ=2)\n# Calculate the effect size (Cohen's f)\nbetween_group_variance = anova_table['sum_sq'][0] / anova_table['df'][0]\nwithin_group_variance = anova_table['sum_sq'][1] / anova_table['df'][1]\ncohens_f = (between_group_variance / within_group_variance) ** 0.5\ncohens_f",
      "outputs": []
    },
    {
      "id": "1824b59b-ae57-4892-bbf0-034631c71855",
      "cell_type": "markdown",
      "source": "Given the general guidelines for interpreting Cohen's f:\n\nSmall effect: f = 0.10\n\nMedium effect: f = 0.25\n\nLarge effect: f = 0.40\n\nOur calculated value of 4.69 is significantly larger than the threshold for a \"large\" effect. This indicates that the effect of the promotions on sales is not only statistically significant (as we found with the ANOVA test) but also practically significant with a very strong magnitude of effect.",
      "metadata": {}
    },
    {
      "id": "f2ea152f-c472-4efe-8722-9a91615ed489",
      "cell_type": "markdown",
      "source": "",
      "metadata": {
        "noteable": {
          "cell_type": "markdown"
        }
      }
    },
    {
      "id": "4a648140-ffd6-4597-8e08-9648ff5d1399",
      "cell_type": "code",
      "metadata": {
        "noteable": {
          "cell_type": "code",
          "output_collection_id": "2a79672c-1fd6-4790-b677-cf04cc79db5d"
        },
        "ExecuteTime": {
          "end_time": "2023-08-22T10:56:49.976881+00:00",
          "start_time": "2023-08-22T10:56:49.406400+00:00"
        }
      },
      "execution_count": null,
      "source": "import itertools\ndef cohens_d(group1, group2):\n    \"\"\"Calculate Cohen's d for pairwise comparison.\"\"\"\n    mean_diff = group1.mean() - group2.mean()\n    pooled_var = (len(group1) * group1.var() + len(group2) * group2.var()) / (len(group1) + len(group2))\n    pooled_std = np.sqrt(pooled_var)\n    return mean_diff / pooled_std\n# Calculate Cohen's d for pairwise comparisons between the promotions\npromotions = wa_marketing_data['Promotion'].unique()\neffect_sizes = {}\nfor promo1, promo2 in itertools.combinations(promotions, 2):\n    group1 = wa_marketing_data[wa_marketing_data['Promotion'] == promo1]['SalesInThousands']\n    group2 = wa_marketing_data[wa_marketing_data['Promotion'] == promo2]['SalesInThousands']\n    effect_sizes[f'Promo {promo1} vs Promo {promo2}'] = cohens_d(group1, group2)\n# Visualize the effect sizes\nplt.figure(figsize=(10, 6))\nplt.bar(effect_sizes.keys(), effect_sizes.values(), color=['blue', 'green', 'red'])\nplt.title('Effect Sizes (Cohens d) for Pairwise Promotion Comparisons')\nplt.ylabel('Effect Size (Cohens d)')\nplt.axhline(y=0, color='black', linestyle='-')\nplt.xticks(rotation=45)\nplt.tight_layout()\nplt.show()",
      "outputs": []
    },
    {
      "id": "9f4d02e3-7e7b-4f27-99f7-bc1dc187f68f",
      "cell_type": "markdown",
      "source": "Promo 1 vs Promo 2: The effect size is positive, indicating that Promo 1 has a higher average sales value than Promo 2.\n\nPromo 1 vs Promo 3: The effect size is negative, indicating that Promo 3 has a higher average sales value than Promo 1.\n\nPromo 2 vs Promo 3: The effect size is negative, indicating that Promo 3 has a higher average sales value than Promo 2.\n\nThe magnitude of Cohen's d provides insights into the size of the difference between the promotions. A larger absolute value indicates a larger difference in effect.",
      "metadata": {}
    },
    {
      "id": "380edabf-0b84-4f0b-8ea3-6522a55cdff9",
      "cell_type": "code",
      "metadata": {
        "noteable": {
          "cell_type": "code",
          "output_collection_id": "bbc30d64-b4d0-4f51-923d-05c8fe2b5e43"
        },
        "ExecuteTime": {
          "end_time": "2023-08-22T11:03:30.881329+00:00",
          "start_time": "2023-08-22T11:03:30.673452+00:00"
        }
      },
      "execution_count": null,
      "source": "# Fit an ANOVA model with interaction terms for Promotion and MarketSize, and Promotion and AgeOfStore\ninteraction_model_market = ols('SalesInThousands ~ C(Promotion) * C(MarketSize)', data=wa_marketing_data).fit()\ninteraction_model_age = ols('SalesInThousands ~ C(Promotion) * AgeOfStore', data=wa_marketing_data).fit()\n# Extract the summary for the interaction terms\ninteraction_summary_market = sm.stats.anova_lm(interaction_model_market, typ=2)\ninteraction_summary_age = sm.stats.anova_lm(interaction_model_age, typ=2)\ninteraction_summary_market, interaction_summary_age",
      "outputs": []
    },
    {
      "id": "91927818-1ceb-4e58-bf13-26a5ed951085",
      "cell_type": "markdown",
      "source": "Here are the results of the interaction effects:\n\n#Interaction between Promotion and MarketSize:\n\nPromotion: F-statistic = 56.24, p-value < 0.001\n\nMarketSize: F-statistic = 337.14, p-value < 0.001\n\nInteraction Term (Promotion x MarketSize): F-statistic = 4.59, p-value = 0.0012\n\nThe interaction between Promotion and MarketSize is statistically significant, suggesting that the effect of promotions on sales varies depending on the market size.\n\n#Interaction between Promotion and AgeOfStore:\n\nPromotion: F-statistic = 22.27, p-value < 0.001\n\nAgeOfStore: F-statistic = 0.94, p-value = 0.331\n\nInteraction Term (Promotion x AgeOfStore): F-statistic = 2.10, p-value = 0.124\n\nThe interaction between Promotion and AgeOfStore is not statistically significant at the 0.05 level, suggesting that the effect of promotions on sales does not vary significantly with the age of the store.",
      "metadata": {}
    },
    {
      "id": "d21ce089-9fb0-467c-a578-c3e1ae5a9890",
      "cell_type": "code",
      "metadata": {
        "noteable": {
          "cell_type": "code",
          "output_collection_id": "ffc992ac-6aa8-4670-be85-ccb5c096f318"
        },
        "ExecuteTime": {
          "end_time": "2023-08-22T11:04:35.446972+00:00",
          "start_time": "2023-08-22T11:04:34.812629+00:00"
        }
      },
      "execution_count": null,
      "source": "import seaborn as sns\n# Create density plots for the distribution of sales for each promotion\nplt.figure(figsize=(12, 7))\nsns.kdeplot(wa_marketing_data[wa_marketing_data['Promotion'] == 1]['SalesInThousands'], label='Promotion 1', shade=True)\nsns.kdeplot(wa_marketing_data[wa_marketing_data['Promotion'] == 2]['SalesInThousands'], label='Promotion 2', shade=True)\nsns.kdeplot(wa_marketing_data[wa_marketing_data['Promotion'] == 3]['SalesInThousands'], label='Promotion 3', shade=True)\nplt.title('Density Plot of Sales Distributions for Each Promotion')\nplt.xlabel('Sales (in Thousands)')\nplt.ylabel('Density')\nplt.legend()\nplt.grid(True, which='both', linestyle='--', linewidth=0.5)\nplt.show()",
      "outputs": []
    },
    {
      "id": "8ac10a2c-c7ff-41e0-9723-de9291a6f274",
      "cell_type": "markdown",
      "source": "Here's the density plot of sales distributions for each promotion:\n\nPromotion 1: The distribution for Promotion 1 is slightly right-skewed, with a peak around 50-60 thousand in sales.\n\nPromotion 2: The distribution for Promotion 2 is more spread out and has a broader peak around 40-60 thousand in sales.\n\nPromotion 3: The distribution for Promotion 3 is also right-skewed, with a peak around 40-50 thousand in sales.\n\nFrom the density plots, we can observe that while the distributions of sales for the three promotions have some overlap, there are distinct differences in their shapes and peaks. This visualization complements our earlier statistical analyses, providing a visual representation of the sales distributions for each promotion.",
      "metadata": {}
    }
  ]
}