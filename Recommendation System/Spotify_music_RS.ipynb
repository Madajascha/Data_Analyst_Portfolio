{
  "nbformat": 4,
  "nbformat_minor": 5,
  "metadata": {
    "noteable-chatgpt": {
      "create_notebook": {
        "openai_conversation_id": "ffdfb51e-2b32-5030-8f9f-490150908bbd",
        "openai_ephemeral_user_id": "ec41b749-6b7a-5bba-b732-6ac5a21e8455",
        "openai_subdivision1_iso_code": "AU-VIC"
      }
    },
    "kernel_info": {
      "name": "python3"
    },
    "kernelspec": {
      "display_name": "Python 3.9",
      "identifier": "legacy",
      "language": "python",
      "language_version": "3.9",
      "name": "python3"
    },
    "selected_hardware_size": "small"
  },
  "cells": [
    {
      "id": "ea9b5e6b-81b2-41ed-b4f0-2daf90e8bf82",
      "cell_type": "code",
      "metadata": {
        "jupyter": {
          "outputs_hidden": false,
          "source_hidden": false
        },
        "noteable": {
          "cell_type": "code"
        }
      },
      "execution_count": null,
      "source": "",
      "outputs": []
    },
    {
      "id": "f3e9e4ed-d8b1-4683-94b4-f58e7b946ba9",
      "cell_type": "code",
      "metadata": {
        "noteable": {
          "cell_type": "code",
          "output_collection_id": "f817ede7-89df-429e-ab59-b6d4ceb21000"
        },
        "ExecuteTime": {
          "end_time": "2023-10-16T03:20:37.894892+00:00",
          "start_time": "2023-10-16T03:20:34.249469+00:00"
        },
        "datalink": {
          "4f269f52-c4ea-468b-9bcb-64f6429542ae": {
            "applied_filters": [],
            "dataframe_info": {
              "default_index_used": true,
              "orig_num_cols": 21,
              "orig_num_rows": 5,
              "orig_size_bytes": 845,
              "truncated_num_cols": 21,
              "truncated_num_rows": 5,
              "truncated_size_bytes": 845,
              "truncated_string_columns": []
            },
            "display_id": "4f269f52-c4ea-468b-9bcb-64f6429542ae",
            "dx_settings": {
              "ALLOW_NOTEABLE_ATTRS": true,
              "COLUMN_SAMPLING_METHOD": "outer",
              "DB_LOCATION": ":memory:",
              "DEV_MODE": false,
              "DISPLAY_MAX_COLUMNS": 100,
              "DISPLAY_MAX_ROWS": 50000,
              "DISPLAY_MODE": "simple",
              "ENABLE_ASSIGNMENT": true,
              "ENABLE_DATALINK": true,
              "FLATTEN_COLUMN_VALUES": true,
              "FLATTEN_INDEX_VALUES": false,
              "GENERATE_DEX_METADATA": false,
              "HTML_TABLE_SCHEMA": false,
              "LOG_LEVEL": 30,
              "MAX_RENDER_SIZE_BYTES": 104857600,
              "MAX_STRING_LENGTH": 250,
              "NUM_PAST_SAMPLES_TRACKED": 3,
              "RANDOM_STATE": 12648430,
              "RESET_INDEX_VALUES": false,
              "ROW_SAMPLING_METHOD": "random",
              "SAMPLING_FACTOR": 0.1,
              "SAMPLING_METHOD": "random",
              "STRINGIFY_COLUMN_VALUES": true,
              "STRINGIFY_INDEX_VALUES": false
            },
            "sample_history": [],
            "sampling_time": "2023-10-16T03:11:51.977937",
            "user_variable_name": null,
            "variable_name": "unk_dataframe_9989baa6e9584e759da31959aeed9416"
          },
          "780cce66-cabb-4262-9092-d8e7c5c1881f": {
            "applied_filters": [],
            "dataframe_info": {
              "default_index_used": true,
              "orig_num_cols": 21,
              "orig_num_rows": 5,
              "orig_size_bytes": 845,
              "truncated_num_cols": 21,
              "truncated_num_rows": 5,
              "truncated_size_bytes": 845,
              "truncated_string_columns": []
            },
            "display_id": "780cce66-cabb-4262-9092-d8e7c5c1881f",
            "dx_settings": {
              "ALLOW_NOTEABLE_ATTRS": true,
              "COLUMN_SAMPLING_METHOD": "outer",
              "DB_LOCATION": ":memory:",
              "DEV_MODE": false,
              "DISPLAY_MAX_COLUMNS": 100,
              "DISPLAY_MAX_ROWS": 50000,
              "DISPLAY_MODE": "simple",
              "ENABLE_ASSIGNMENT": true,
              "ENABLE_DATALINK": true,
              "FLATTEN_COLUMN_VALUES": true,
              "FLATTEN_INDEX_VALUES": false,
              "GENERATE_DEX_METADATA": false,
              "HTML_TABLE_SCHEMA": false,
              "LOG_LEVEL": 30,
              "MAX_RENDER_SIZE_BYTES": 104857600,
              "MAX_STRING_LENGTH": 250,
              "NUM_PAST_SAMPLES_TRACKED": 3,
              "RANDOM_STATE": 12648430,
              "RESET_INDEX_VALUES": false,
              "ROW_SAMPLING_METHOD": "random",
              "SAMPLING_FACTOR": 0.1,
              "SAMPLING_METHOD": "random",
              "STRINGIFY_COLUMN_VALUES": true,
              "STRINGIFY_INDEX_VALUES": false
            },
            "sample_history": [],
            "sampling_time": "2023-10-16T03:20:37.727618",
            "user_variable_name": null,
            "variable_name": "unk_dataframe_c24cc1aea7c04fb4989f33f5dd44b312"
          }
        }
      },
      "execution_count": null,
      "source": "!pip install -q pandas scikit-learn\nimport pandas as pd\nspotify_data = pd.read_csv('spotify_music_data.csv')\nspotify_data.head()",
      "outputs": []
    },
    {
      "id": "819cdfc6-f6ba-44ed-b4b3-7522ee97f757",
      "cell_type": "code",
      "metadata": {
        "jupyter": {
          "outputs_hidden": false,
          "source_hidden": false
        },
        "noteable": {
          "cell_type": "code"
        }
      },
      "execution_count": null,
      "source": "",
      "outputs": []
    },
    {
      "id": "504a5df3-d9a3-469d-affd-70a897aa4b5a",
      "cell_type": "code",
      "metadata": {
        "noteable": {
          "cell_type": "code",
          "output_collection_id": "f9846d0e-66f5-498f-a757-5a192ae29dc4"
        },
        "ExecuteTime": {
          "end_time": "2023-10-16T03:20:38.233016+00:00",
          "start_time": "2023-10-16T03:20:37.932862+00:00"
        }
      },
      "execution_count": null,
      "source": "# Checking for missing values\nmissing_values = spotify_data.isnull().sum()\n\n# Checking for duplicates\nduplicates = spotify_data.duplicated().sum()\n\n# Data types of columns\ndata_types = spotify_data.dtypes\n\nmissing_values, duplicates, data_types",
      "outputs": []
    },
    {
      "id": "544ec476-d57d-48d3-8ee0-d6cb4ec9dbe0",
      "cell_type": "code",
      "metadata": {
        "noteable": {
          "cell_type": "code",
          "output_collection_id": "82384022-bce1-4dc7-b491-28197d2f2494"
        },
        "ExecuteTime": {
          "end_time": "2023-10-16T03:20:38.511880+00:00",
          "start_time": "2023-10-16T03:20:38.241398+00:00"
        }
      },
      "execution_count": null,
      "source": "# Handling missing values by dropping rows with missing values\nspotify_data.dropna(inplace=True)\n\n# Verifying if missing values are handled\nmissing_values_after = spotify_data.isnull().sum()\n\n# Converting 'explicit' column to int type\nspotify_data['explicit'] = spotify_data['explicit'].astype(int)\n\nmissing_values_after, spotify_data['explicit'].dtype",
      "outputs": []
    },
    {
      "id": "046d7cdc-029d-4c1d-b8bc-220c1b33a7e5",
      "cell_type": "code",
      "metadata": {
        "jupyter": {
          "outputs_hidden": false,
          "source_hidden": false
        },
        "noteable": {
          "cell_type": "code",
          "output_collection_id": "840ee0d9-4f3d-4802-a03d-ae5406734cd0"
        },
        "ExecuteTime": {
          "end_time": "2023-10-16T03:22:56.713309+00:00",
          "start_time": "2023-10-16T03:22:56.506380+00:00"
        }
      },
      "execution_count": null,
      "source": "spotify_data.info()",
      "outputs": []
    },
    {
      "id": "51064dca-b793-4b2e-8de1-af509bd5073b",
      "cell_type": "code",
      "metadata": {
        "noteable": {
          "cell_type": "code",
          "output_collection_id": "f3214c82-c55d-4d5e-81c8-5f2c10bb17bf"
        },
        "ExecuteTime": {
          "end_time": "2023-10-16T03:23:40.056177+00:00",
          "start_time": "2023-10-16T03:23:39.892528+00:00"
        }
      },
      "execution_count": null,
      "source": "# Selecting a subset of the dataset with 5000 rows\nsubset_songs = spotify_data.sample(n=5000, random_state=42)\nsubset_songs.shape",
      "outputs": []
    },
    {
      "id": "e6875907-bfdd-424e-818b-e103a35d2cbc",
      "cell_type": "code",
      "metadata": {
        "noteable": {
          "cell_type": "code",
          "output_collection_id": "329136fa-ae43-4ad8-80f7-090f1e718e71"
        },
        "ExecuteTime": {
          "end_time": "2023-10-16T03:25:04.294315+00:00",
          "start_time": "2023-10-16T03:25:03.241063+00:00"
        }
      },
      "execution_count": null,
      "source": "from sklearn.metrics.pairwise import cosine_similarity\nfrom sklearn.preprocessing import StandardScaler\n# Defining the features and the scaler again\nfeatures = ['danceability', 'energy', 'key', 'loudness', 'mode', 'speechiness', 'acousticness', 'instrumentalness', 'liveness', 'valence', 'tempo']\nscaler = StandardScaler()\n# Extracting features for the subset\nsubset_songs_features = subset_songs[features]\n# Standardizing the features for the subset\nsubset_songs_features_scaled = scaler.fit_transform(subset_songs_features)\n# Computing the cosine similarity matrix for the subset\nsubset_similarity_matrix = cosine_similarity(subset_songs_features_scaled)\nsubset_similarity_matrix",
      "outputs": []
    },
    {
      "id": "db509bc9-edb6-4de3-ad5f-3f71a3135d0e",
      "cell_type": "markdown",
      "source": "This matrix represents the similarity between each pair of songs in our subset. A value close to 1 indicates high similarity, while a value close to -1 indicates low similarity.",
      "metadata": {}
    },
    {
      "id": "0a7d6eac-3d9d-404c-811d-5e8b90b85962",
      "cell_type": "code",
      "metadata": {
        "noteable": {
          "cell_type": "code",
          "output_collection_id": "2f476c0c-ce17-474b-b255-fe6446564243"
        },
        "ExecuteTime": {
          "end_time": "2023-10-16T03:45:12.044314+00:00",
          "start_time": "2023-10-16T03:45:11.881918+00:00"
        }
      },
      "execution_count": null,
      "source": "# Selecting a random song from the subset using the correct indices\nrandom_song_index = np.random.choice(subset_songs.index, 1)[0]\nrandom_song = subset_songs.loc[random_song_index]\n# Finding the most similar songs to the random song based on the cosine similarity matrix\nsubset_index = subset_songs.index.get_loc(random_song_index)\nsimilarities = subset_similarity_matrix[subset_index]\ntop_similar_indices = np.argsort(similarities)[-6:-1][::-1]\nrandom_song[['artists', 'track_name']], subset_songs.iloc[top_similar_indices][['artists', 'track_name']]",
      "outputs": []
    },
    {
      "id": "5271e666-7ce9-468a-a490-f02c4575c534",
      "cell_type": "code",
      "metadata": {
        "jupyter": {
          "outputs_hidden": false,
          "source_hidden": false
        },
        "noteable": {
          "cell_type": "code"
        }
      },
      "execution_count": null,
      "source": "",
      "outputs": []
    },
    {
      "id": "79e59cbf-e7fa-4c27-9acd-77d359d04255",
      "cell_type": "code",
      "metadata": {
        "noteable": {
          "cell_type": "code",
          "output_collection_id": "368ddc08-438c-4363-b9f5-4dbb750385bb"
        },
        "ExecuteTime": {
          "end_time": "2023-10-16T03:47:09.007972+00:00",
          "start_time": "2023-10-16T03:46:45.242637+00:00"
        },
        "datalink": {
          "9a265006-89d9-44e9-9c5e-508c185dbded": {
            "applied_filters": [],
            "dataframe_info": {
              "default_index_used": true,
              "orig_num_cols": 5000,
              "orig_num_rows": 5,
              "orig_size_bytes": 200040,
              "truncated_num_cols": 100,
              "truncated_num_rows": 5,
              "truncated_size_bytes": 4040,
              "truncated_string_columns": []
            },
            "display_id": "9a265006-89d9-44e9-9c5e-508c185dbded",
            "dx_settings": {
              "ALLOW_NOTEABLE_ATTRS": true,
              "COLUMN_SAMPLING_METHOD": "outer",
              "DB_LOCATION": ":memory:",
              "DEV_MODE": false,
              "DISPLAY_MAX_COLUMNS": 100,
              "DISPLAY_MAX_ROWS": 50000,
              "DISPLAY_MODE": "simple",
              "ENABLE_ASSIGNMENT": true,
              "ENABLE_DATALINK": true,
              "FLATTEN_COLUMN_VALUES": true,
              "FLATTEN_INDEX_VALUES": false,
              "GENERATE_DEX_METADATA": false,
              "HTML_TABLE_SCHEMA": false,
              "LOG_LEVEL": 30,
              "MAX_RENDER_SIZE_BYTES": 104857600,
              "MAX_STRING_LENGTH": 250,
              "NUM_PAST_SAMPLES_TRACKED": 3,
              "RANDOM_STATE": 12648430,
              "RESET_INDEX_VALUES": false,
              "ROW_SAMPLING_METHOD": "random",
              "SAMPLING_FACTOR": 0.1,
              "SAMPLING_METHOD": "random",
              "STRINGIFY_COLUMN_VALUES": true,
              "STRINGIFY_INDEX_VALUES": false
            },
            "sample_history": [],
            "sampling_time": "2023-10-16T03:47:08.351523",
            "user_variable_name": null,
            "variable_name": "unk_dataframe_b36055daf1324588a0dfa635276af4e3"
          }
        }
      },
      "execution_count": null,
      "source": "import numpy as np\n# Number of users and songs for simulation\nnum_users = 100\nnum_songs = subset_songs.shape[0]\n# Simulating the user-song interaction matrix with play counts ranging from 0 to 10\nnp.random.seed(42)  # for reproducibility\ninteraction_matrix = np.random.randint(0, 11, size=(num_users, num_songs))\n# Convert to DataFrame for better visualization\ninteraction_df = pd.DataFrame(interaction_matrix, columns=subset_songs['track_name'])\ninteraction_df.head()",
      "outputs": []
    }
  ]
}