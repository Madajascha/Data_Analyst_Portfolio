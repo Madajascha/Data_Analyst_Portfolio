{
  "cells": [
    {
      "cell_type": "code",
      "execution_count": 1,
      "id": "8b0b9fa3",
      "metadata": {},
      "outputs": [],
      "source": [
        "import numpy as np\n",
        "import pandas as pd\n",
        "import matplotlib.pyplot as plt\n",
        "import matplotlib.ticker as mtick\n",
        "import seaborn as sns\n",
        "import warnings\n",
        "import plotly.graph_objects as go\n",
        "\n",
        "from sklearn.preprocessing import LabelEncoder\n",
        "\n",
        "warnings.filterwarnings(\"ignore\")"
      ]
    },
    {
      "cell_type": "code",
      "execution_count": 2,
      "id": "a8e5fc47",
      "metadata": {},
      "outputs": [],
      "source": [
        "teleco = pd.read_csv('telco_customer_churn.csv')"
      ]
    },
    {
      "cell_type": "code",
      "execution_count": 3,
      "id": "27bfbb34",
      "metadata": {
        "noteable": {
          "output_collection_id": "a7292b99-e2d2-4c44-b579-8d2e214ec389"
        }
      },
      "outputs": [],
      "source": [
        "teleco.head()"
      ]
    },
    {
      "cell_type": "code",
      "execution_count": 4,
      "id": "77defb51",
      "metadata": {
        "scrolled": false,
        "noteable": {
          "output_collection_id": "53c0cae7-02e3-494d-8945-0f985be46759"
        }
      },
      "outputs": [],
      "source": [
        "teleco.info()"
      ]
    },
    {
      "cell_type": "code",
      "execution_count": 5,
      "id": "8e79a249",
      "metadata": {},
      "outputs": [],
      "source": [
        "teleco.TotalCharges = pd.to_numeric(teleco.TotalCharges, errors = 'coerce')"
      ]
    },
    {
      "cell_type": "code",
      "execution_count": 6,
      "id": "9341d579",
      "metadata": {
        "noteable": {
          "output_collection_id": "92e9622a-6272-4eb3-bcdb-7a414b4953b1"
        }
      },
      "outputs": [],
      "source": [
        "teleco.TotalCharges.dtype"
      ]
    },
    {
      "cell_type": "code",
      "execution_count": 7,
      "id": "ae7bc41c",
      "metadata": {
        "scrolled": true,
        "noteable": {
          "output_collection_id": "5188b6ae-b7af-4a38-9c56-3e221cfca08b"
        }
      },
      "outputs": [],
      "source": [
        "#teleco.describe(include = 'all')\n",
        "teleco.describe()"
      ]
    },
    {
      "cell_type": "code",
      "execution_count": 8,
      "id": "217ae10a",
      "metadata": {
        "scrolled": true,
        "noteable": {
          "output_collection_id": "a9b68197-3a76-4d9e-968f-382b22136df2"
        }
      },
      "outputs": [],
      "source": [
        "teleco.isnull().sum()"
      ]
    },
    {
      "cell_type": "code",
      "execution_count": 9,
      "id": "cf6ac826",
      "metadata": {},
      "outputs": [],
      "source": [
        "teleco.dropna(inplace = True)"
      ]
    },
    {
      "cell_type": "code",
      "execution_count": 10,
      "id": "1dbc15f7",
      "metadata": {},
      "outputs": [],
      "source": [
        "tchurn = teleco.drop('customerID', axis = 1)"
      ]
    },
    {
      "cell_type": "code",
      "execution_count": 11,
      "id": "ee3f0e35",
      "metadata": {
        "noteable": {
          "output_collection_id": "e0d287b5-1cf0-4265-8040-da8824e0183f"
        }
      },
      "outputs": [],
      "source": [
        "tchurn.head()"
      ]
    },
    {
      "cell_type": "code",
      "execution_count": 12,
      "id": "6ce6020c",
      "metadata": {
        "scrolled": false,
        "noteable": {
          "output_collection_id": "c15a8c8f-3c18-41c5-8752-f1240973e0f3"
        }
      },
      "outputs": [],
      "source": [
        "tchurn['Churn'].replace(to_replace = 'Yes', value = 1, inplace = True)\n",
        "tchurn['Churn'].replace(to_replace = 'No', value = 0, inplace = True)\n",
        "df_dummies = pd.get_dummies(tchurn)\n",
        "\n",
        "label_encoder = LabelEncoder()\n",
        "df_dummies['Churn'] = label_encoder.fit_transform(df_dummies['Churn'])\n",
        "df_dummies.head()"
      ]
    },
    {
      "cell_type": "code",
      "execution_count": 13,
      "id": "29cae975",
      "metadata": {
        "scrolled": false,
        "noteable": {
          "output_collection_id": "dc6a0f2f-c660-4833-aa01-66f1c488a8c8"
        }
      },
      "outputs": [],
      "source": [
        "# Plotting the churn distribution\n",
        "plt.figure(figsize=(8, 5))\n",
        "sns.countplot(x='Churn', data=df_dummies, palette='coolwarm')\n",
        "plt.title('Churn Distribution')\n",
        "plt.xlabel('Churn')\n",
        "plt.ylabel('Count')\n",
        "plt.xticks(ticks=[0, 1], labels=['No', 'Yes'])\n",
        "plt.show()\n",
        "\n",
        "# Calculating the percentage of customers who have churned\n",
        "churn_rate = df_dummies['Churn'].mean() * 100\n",
        "churn_rate"
      ]
    },
    {
      "cell_type": "markdown",
      "id": "58124193",
      "metadata": {},
      "source": [
        "-The majority of customers have not churned (represented by \"No\").\n",
        "\n",
        "-Approximately 26.58% of customers have churned (represented by \"Yes\").\n",
        "\n",
        "This information provides valuable insights into customer retention and can guide further analysis to understand the factors influencing churn."
      ]
    },
    {
      "cell_type": "code",
      "execution_count": 14,
      "id": "e5f15e92",
      "metadata": {
        "scrolled": true,
        "noteable": {
          "output_collection_id": "c1f43120-0efa-4809-ad51-b104e6831612"
        }
      },
      "outputs": [],
      "source": [
        "pd.DataFrame(df_dummies.corr()['Churn'])"
      ]
    },
    {
      "cell_type": "markdown",
      "id": "7d9f838b",
      "metadata": {},
      "source": [
        "The correlation coefficients indicate the strength and direction of the relationship between each feature and the \"Churn\" variable."
      ]
    },
    {
      "cell_type": "code",
      "execution_count": 15,
      "id": "d9fc219c",
      "metadata": {
        "scrolled": false,
        "noteable": {
          "output_collection_id": "d331e890-3892-4087-8975-3e6103c10ec2"
        }
      },
      "outputs": [],
      "source": [
        "plt.figure(figsize = (12,8))\n",
        "df_dummies.corr()['Churn'].sort_values(ascending = False).plot(kind='bar')"
      ]
    },
    {
      "cell_type": "code",
      "execution_count": 16,
      "id": "bf501ee7",
      "metadata": {
        "scrolled": true,
        "noteable": {
          "output_collection_id": "682d882e-e922-4c9f-a1b4-095ac500511c"
        }
      },
      "outputs": [],
      "source": [
        "plt.figure(figsize = (18,22))\n",
        "sns.heatmap(pd.DataFrame(df_dummies.corr()['Churn'].sort_values(ascending = False)), annot=False, cmap='coolwarm', center=0, linewidths=0.5, )"
      ]
    },
    {
      "cell_type": "markdown",
      "id": "a9335634",
      "metadata": {},
      "source": [
        "Positive Correlations: Features like \"InternetService_Fiber optic,\" \"PaymentMethod_Electronic check,\" and \"MonthlyCharges\" have positive correlations, suggesting that higher values in these features may be associated with higher churn.\n",
        "\n",
        "Negative Correlations: Features like \"tenure,\" \"Contract_Two year,\" and \"TotalCharges\" have negative correlations, suggesting that higher values in these features may be associated with lower churn."
      ]
    },
    {
      "cell_type": "markdown",
      "id": "8cdd65db",
      "metadata": {},
      "source": [
        "## Demographs"
      ]
    },
    {
      "cell_type": "code",
      "execution_count": 17,
      "id": "d0f2686a",
      "metadata": {
        "noteable": {
          "output_collection_id": "25c950b3-581d-4955-9774-a37385946747"
        }
      },
      "outputs": [],
      "source": [
        "teleco.columns"
      ]
    },
    {
      "cell_type": "code",
      "execution_count": 18,
      "id": "9a8723ff",
      "metadata": {
        "scrolled": false,
        "noteable": {
          "output_collection_id": "eda86fb1-5b10-4b88-8549-15a87a8c8938"
        }
      },
      "outputs": [],
      "source": [
        "demograph = ['gender', 'SeniorCitizen', 'Partner', 'Dependents']\n",
        "fig, axes = plt.subplots(nrows=2, ncols=2, figsize=(20, 15))\n",
        "\n",
        "for n_col, demograph in enumerate(demograph):\n",
        "    if n_col < 2:\n",
        "        churn_counts = teleco.groupby(demograph)['Churn'].value_counts(normalize=True).unstack() * 100\n",
        "        ax = churn_counts.plot(kind='bar', stacked=False, ax=axes[n_col, 0], rot=0)\n",
        "    elif n_col >= 2:\n",
        "        churn_counts = teleco.groupby(demograph)['Churn'].value_counts(normalize=True).unstack() * 100\n",
        "        ax = churn_counts.plot(kind='bar', stacked=False, ax=axes[n_col - 3, 1], rot=0)\n",
        "\n",
        "        \n",
        "    ax.yaxis.set_major_formatter(mtick.PercentFormatter(xmax=100.0))\n",
        "    ax.set_ylabel('Percentage of Total Count')\n",
        "    ax.legend(title='Churn', labels=['No', 'Yes'])\n",
        "\n",
        "plt.tight_layout()\n",
        "plt.show()"
      ]
    },
    {
      "cell_type": "markdown",
      "id": "9d5e42c1",
      "metadata": {},
      "source": [
        "---"
      ]
    },
    {
      "cell_type": "code",
      "execution_count": 19,
      "id": "317049cb",
      "metadata": {
        "noteable": {
          "output_collection_id": "62dd87a1-dfb4-4942-8762-d556fcaf6fb8"
        }
      },
      "outputs": [],
      "source": [
        "sns.displot(teleco['tenure'], bins = 30)\n",
        "plt.ylabel('Number of customers')"
      ]
    },
    {
      "cell_type": "code",
      "execution_count": 20,
      "id": "7c0c6137",
      "metadata": {
        "noteable": {
          "output_collection_id": "e780aee7-a94e-42e3-a2ce-3e516f74d3c9"
        }
      },
      "outputs": [],
      "source": [
        "plt.bar(teleco['Contract'].value_counts().index, teleco['Contract'].value_counts())"
      ]
    },
    {
      "cell_type": "code",
      "execution_count": 21,
      "id": "671ea30d",
      "metadata": {
        "noteable": {
          "output_collection_id": "850d0bf9-a630-4e0d-a493-3fd1f30f2e2a"
        }
      },
      "outputs": [],
      "source": [
        "fig, (ax1, ax2, ax3) = plt.subplots(nrows=1, ncols=3, sharey=True, figsize=(20, 6))\n",
        "\n",
        "sns.histplot(teleco[teleco['Contract'] == 'Month-to-month']['tenure'], ax=ax1)\n",
        "ax1.set_title('Month-to-month Contract')\n",
        "\n",
        "sns.histplot(teleco[teleco['Contract'] == 'One year']['tenure'], ax=ax2)\n",
        "ax2.set_title('One Year Contract')\n",
        "\n",
        "sns.histplot(teleco[teleco['Contract'] == 'Two year']['tenure'], ax=ax3)\n",
        "ax3.set_title('Two Year Contract')\n",
        "\n",
        "plt.show()"
      ]
    },
    {
      "cell_type": "code",
      "execution_count": 22,
      "id": "d340daf9",
      "metadata": {
        "noteable": {
          "output_collection_id": "09e3336b-6d06-4050-9ee5-952d6e5965df"
        }
      },
      "outputs": [],
      "source": [
        "sns.scatterplot(teleco, x= 'MonthlyCharges', y = 'TotalCharges', hue ='Churn')"
      ]
    },
    {
      "cell_type": "code",
      "execution_count": 23,
      "id": "60b1a8f7",
      "metadata": {
        "noteable": {
          "output_collection_id": "91171f03-af3e-408f-8050-969b2c744011"
        }
      },
      "outputs": [],
      "source": [
        "services = ['PhoneService','MultipleLines','InternetService','OnlineSecurity',\n",
        "           'OnlineBackup','DeviceProtection','TechSupport','StreamingTV','StreamingMovies']\n",
        "\n",
        "fig, axes = plt.subplots(nrows=3, ncols=3, figsize=(20, 15))\n",
        "\n",
        "for n_col, item in enumerate(services):\n",
        "    if n_col < 3:\n",
        "        churn_counts = teleco.groupby(item)['Churn'].value_counts(normalize=True).unstack() * 100\n",
        "        ax = churn_counts.plot(kind='bar', stacked=False, ax=axes[n_col, 0], rot=0)\n",
        "    elif n_col >= 3 and n_col < 6:\n",
        "        churn_counts = teleco.groupby(item)['Churn'].value_counts(normalize=True).unstack() * 100\n",
        "        ax = churn_counts.plot(kind='bar', stacked=False, ax=axes[n_col - 3, 1], rot=0)\n",
        "    elif n_col < 9:\n",
        "        churn_counts = teleco.groupby(item)['Churn'].value_counts(normalize=True).unstack() * 100\n",
        "        ax = churn_counts.plot(kind='bar', stacked=False, ax=axes[n_col - 6, 2], rot=0)\n",
        "        \n",
        "    ax.yaxis.set_major_formatter(mtick.PercentFormatter(xmax=100.0))\n",
        "    ax.set_title(item)\n",
        "    ax.set_ylabel('Percentage of Total Count')\n",
        "    ax.legend(title='Churn', labels=['No', 'Yes'])\n",
        "\n",
        "plt.tight_layout()\n",
        "plt.show()"
      ]
    },
    {
      "cell_type": "markdown",
      "id": "03117e7d",
      "metadata": {},
      "source": [
        "# Predictive Modeling"
      ]
    },
    {
      "cell_type": "code",
      "execution_count": 24,
      "id": "8964acbe",
      "metadata": {},
      "outputs": [],
      "source": [
        "from sklearn.model_selection import train_test_split\n",
        "\n",
        "from sklearn.linear_model import LogisticRegression\n",
        "from sklearn.ensemble import RandomForestClassifier\n",
        "from sklearn.tree import DecisionTreeClassifier\n",
        "from sklearn.neighbors import KNeighborsClassifier\n",
        "from sklearn.svm import SVC\n",
        "from xgboost import XGBClassifier\n",
        "from sklearn.ensemble import AdaBoostClassifier\n",
        "\n",
        "from sklearn.metrics import accuracy_score,recall_score, precision_score, f1_score, roc_auc_score, classification_report\n",
        "from sklearn.model_selection import GridSearchCV, cross_validate, RandomizedSearchCV, validation_curve\n",
        "from sklearn.model_selection import cross_val_score\n",
        "from sklearn.metrics import classification_report, confusion_matrix  \n",
        "\n",
        "from sklearn.model_selection import cross_val_score, cross_val_predict\n",
        "from sklearn.preprocessing import MinMaxScaler, StandardScaler\n",
        "from sklearn import metrics\n"
      ]
    },
    {
      "cell_type": "code",
      "execution_count": 37,
      "id": "1b47e8d7",
      "metadata": {},
      "outputs": [],
      "source": [
        "y = df_dummies['Churn'].values\n",
        "X = df_dummies.drop(columns = ['Churn'])"
      ]
    },
    {
      "cell_type": "code",
      "execution_count": 38,
      "id": "eab7ef57",
      "metadata": {
        "noteable": {
          "output_collection_id": "3c883ddd-1d9c-41e9-bd22-bc04499ce552"
        }
      },
      "outputs": [],
      "source": [
        "X_train, X_test, y_train, y_test = train_test_split(X, y, test_size=0.2, random_state=42)\n",
        "X_train.shape, X_test.shape"
      ]
    },
    {
      "cell_type": "code",
      "execution_count": 39,
      "id": "211072e1",
      "metadata": {},
      "outputs": [],
      "source": [
        "feature_names = X.columns\n",
        "scaler = MinMaxScaler()\n",
        "X_train = scaler.fit_transform(X_train)\n",
        "X_test = scaler.transform(X_test)"
      ]
    },
    {
      "cell_type": "markdown",
      "id": "542a1923",
      "metadata": {},
      "source": [
        "## Choosing Best Model"
      ]
    },
    {
      "cell_type": "code",
      "execution_count": 28,
      "id": "31125d60",
      "metadata": {},
      "outputs": [],
      "source": [
        "models = [('LOGR', LogisticRegression(max_iter= 1000, random_state=42)),\n",
        "          ('SVC', SVC(probability = True)),\n",
        "          ('DT', DecisionTreeClassifier(random_state=42)),\n",
        "          ('RF', RandomForestClassifier(random_state=42)),\n",
        "          ('XGB', XGBClassifier(random_state=42, objective ='binary:logistic',).set_params(eval_metric='error')),\n",
        "          ('ADA', AdaBoostClassifier(random_state=42))]"
      ]
    },
    {
      "cell_type": "code",
      "execution_count": 29,
      "id": "f67dfced",
      "metadata": {
        "scrolled": true,
        "noteable": {
          "output_collection_id": "07b973ac-0b88-4a8c-a8f7-bcbdd7805833"
        }
      },
      "outputs": [],
      "source": [
        "models = {\n",
        "    'Logistic Regression': LogisticRegression(max_iter=1000, random_state=42),\n",
        "    'SVC': SVC(probability=True),\n",
        "    'Decision Tree': DecisionTreeClassifier(random_state=42),\n",
        "    'Random Forest': RandomForestClassifier(random_state=42),\n",
        "    'XGBoost Classifier': XGBClassifier(use_label_encoder=False, eval_metric='mlogloss'),\n",
        "    'AdaBoost': AdaBoostClassifier(random_state=42)\n",
        "}\n",
        "\n",
        "# Function to evaluate a model\n",
        "def evaluate_model(model, X_train, y_train, X_test, y_test):\n",
        "    model.fit(X_train, y_train)\n",
        "    y_pred = model.predict(X_test)\n",
        "    y_prob = model.predict_proba(X_test)[:, 1]\n",
        "    return {\n",
        "        'Accuracy': accuracy_score(y_test, y_pred),\n",
        "        'Recall': recall_score(y_test, y_pred),\n",
        "        'Precision': precision_score(y_test, y_pred),\n",
        "        'ROC AUC': roc_auc_score(y_test, y_prob),\n",
        "        'F1 Score': f1_score(y_test, y_pred)\n",
        "    }\n",
        "\n",
        "# Evaluating all models and storing the results\n",
        "model_results = {name: evaluate_model(model, X_train, y_train, X_test, y_test) for name, model in models.items()}\n",
        "model_results_df = pd.DataFrame(model_results).T\n",
        "model_results_df\n"
      ]
    },
    {
      "cell_type": "code",
      "execution_count": 30,
      "id": "70a628b5",
      "metadata": {
        "scrolled": false,
        "noteable": {
          "output_collection_id": "f8cf10ff-7470-4657-9dae-cdedaeb6aed8"
        }
      },
      "outputs": [],
      "source": [
        "model_results_df.plot(kind='bar', figsize=(15, 8), colormap='viridis')\n",
        "plt.title('Comparison of Different Classification Models')\n",
        "plt.ylabel('Score')\n",
        "plt.xlabel('Model')\n",
        "plt.xticks(rotation=45)\n",
        "plt.ylim(0, 1)\n",
        "plt.legend(title='Metrics', bbox_to_anchor=(1.05, 1), loc='upper left')\n",
        "plt.grid(axis='y', linestyle='--')\n",
        "plt.tight_layout()\n",
        "plt.show()"
      ]
    },
    {
      "cell_type": "markdown",
      "id": "41f85f6d",
      "metadata": {},
      "source": [
        "## ADABoost"
      ]
    },
    {
      "cell_type": "markdown",
      "id": "0adb0f66",
      "metadata": {},
      "source": [
        "### Hyperparameter tuning"
      ]
    },
    {
      "cell_type": "code",
      "execution_count": 31,
      "id": "59aa72b8",
      "metadata": {
        "noteable": {
          "output_collection_id": "66c5271b-02bb-4a4d-bcd1-60e78d4faecc"
        }
      },
      "outputs": [],
      "source": [
        "param_grid = {\n",
        "    'n_estimators': [50, 100, 150],\n",
        "    'learning_rate': [0.01, 0.05, 0.1, 0.5, 1],\n",
        "    'algorithm': ['SAMME', 'SAMME.R']\n",
        "}\n",
        "\n",
        "# Creating the AdaBoost model\n",
        "adaboost_model = AdaBoostClassifier(random_state=42)\n",
        "\n",
        "# Using Grid Search with 5-fold cross-validation to find the best hyperparameters\n",
        "grid_search = GridSearchCV(adaboost_model, param_grid, cv=5, scoring='accuracy', verbose=1, n_jobs=-1)\n",
        "grid_search.fit(X_train, y_train)\n",
        "\n",
        "# Getting the best hyperparameters and the corresponding accuracy\n",
        "best_params = grid_search.best_params_\n",
        "best_score = grid_search.best_score_\n",
        "\n",
        "best_params, best_score"
      ]
    },
    {
      "cell_type": "code",
      "execution_count": 58,
      "id": "bb4b5c95",
      "metadata": {
        "scrolled": false,
        "noteable": {
          "output_collection_id": "5e72a145-f6c7-470c-ae07-7b6732e5852b"
        }
      },
      "outputs": [],
      "source": [
        "# Creating the AdaBoost model with the best hyperparameters\n",
        "best_adaboost_model = AdaBoostClassifier(\n",
        "    algorithm=best_params['algorithm'],\n",
        "    learning_rate=best_params['learning_rate'],\n",
        "    n_estimators=best_params['n_estimators'],\n",
        "    random_state=42\n",
        ")\n",
        "\n",
        "# Training the model on the full training set\n",
        "best_adaboost_model.fit(X_train, y_train)\n",
        "\n",
        "# Evaluating the model on the test set\n",
        "adaboost_test_results = evaluate_model(best_adaboost_model, X_train, y_train, X_test, y_test)\n",
        "adaboost_test_results_df = pd.DataFrame(adaboost_test_results, index=['AdaBoost']).T\n",
        "adaboost_test_results_df\n"
      ]
    },
    {
      "cell_type": "code",
      "execution_count": 60,
      "id": "80e396dd",
      "metadata": {
        "scrolled": false,
        "noteable": {
          "output_collection_id": "3ebe067c-55b4-4761-b2f8-aa601e33279f"
        }
      },
      "outputs": [],
      "source": [
        "y_pred = best_adaboost_model.predict(X_test)\n",
        "\n",
        "# Creating the confusion matrix\n",
        "cm = confusion_matrix(y_test, y_pred)\n",
        "\n",
        "# Plotting the confusion matrix using Seaborn's heatmap\n",
        "plt.figure(figsize=(8, 6))\n",
        "sns.heatmap(cm, annot=True, fmt='d', cmap='Blues', cbar=False)\n",
        "plt.xlabel('Predicted')\n",
        "plt.ylabel('Actual')\n",
        "plt.title('Confusion Matrix for AdaBoost Model')\n",
        "plt.xticks([0.5, 1.5], labels=['No Churn', 'Churn'])\n",
        "plt.yticks([0.5, 1.5], labels=['No Churn', 'Churn'])\n",
        "plt.show()\n",
        "\n",
        "# Returning the confusion matrix values\n",
        "cm"
      ]
    },
    {
      "cell_type": "markdown",
      "id": "604e5a5a",
      "metadata": {},
      "source": [
        "True Positives (TP): 190 customers were correctly predicted to churn.\n",
        "\n",
        "True Negatives (TN): 923 customers were correctly predicted not to churn.\n",
        "\n",
        "False Positives (FP): 110 customers were incorrectly predicted to churn (they did not actually churn).\n",
        "\n",
        "False Negatives (FN): 184 customers were incorrectly predicted not to churn (they did actually churn)."
      ]
    },
    {
      "cell_type": "markdown",
      "id": "efd5aadc",
      "metadata": {},
      "source": [
        "### Feature Models"
      ]
    },
    {
      "cell_type": "code",
      "execution_count": 63,
      "id": "8c2b54ba",
      "metadata": {
        "noteable": {
          "output_collection_id": "3e6f6114-449d-4055-88c0-4f5881fd2baa"
        }
      },
      "outputs": [],
      "source": [
        "# Getting the feature importance from the AdaBoost model\n",
        "feature_importance = best_adaboost_model.feature_importances_\n",
        "\n",
        "# Creating a DataFrame to hold the feature names and their corresponding importance scores\n",
        "feature_importance_df = pd.DataFrame({'Feature': feature_names, 'Importance': feature_importance})\n",
        "\n",
        "# Sorting the features by importance\n",
        "feature_importance_df = feature_importance_df.sort_values(by='Importance', ascending=False)\n",
        "\n",
        "# Plotting the feature importance\n",
        "plt.figure(figsize=(12, 8))\n",
        "plt.barh(feature_importance_df['Feature'].head(10), feature_importance_df['Importance'].head(10), color='teal')\n",
        "plt.xlabel('Importance')\n",
        "plt.ylabel('Feature')\n",
        "plt.title('Feature Importance for AdaBoost Model')\n",
        "plt.gca().invert_yaxis() # Invert the y-axis to have the most important features on top\n",
        "plt.show()\n",
        "\n",
        "# Displaying the top 10 important features\n",
        "feature_importance_df.head(10)*100"
      ]
    },
    {
      "cell_type": "code",
      "execution_count": 61,
      "id": "7e355fcb",
      "metadata": {},
      "outputs": [],
      "source": [
        "import pickle"
      ]
    },
    {
      "cell_type": "code",
      "execution_count": 62,
      "id": "93419793",
      "metadata": {},
      "outputs": [],
      "source": [
        " pickle.dump(best_adaboost_model, open('best_adaboost.pickle', 'wb'))"
      ]
    },
    {
      "cell_type": "code",
      "execution_count": null,
      "id": "11d7ec47",
      "metadata": {},
      "outputs": [],
      "source": []
    }
  ],
  "metadata": {
    "kernelspec": {
      "display_name": "Python [conda env:root] *",
      "language": "python",
      "name": "conda-root-py"
    },
    "language_info": {
      "codemirror_mode": {
        "name": "ipython",
        "version": 3
      },
      "file_extension": ".py",
      "mimetype": "text/x-python",
      "name": "python",
      "nbconvert_exporter": "python",
      "pygments_lexer": "ipython3",
      "version": "3.8.17"
    },
    "selected_hardware_size": "small"
  },
  "nbformat": 4,
  "nbformat_minor": 5
}