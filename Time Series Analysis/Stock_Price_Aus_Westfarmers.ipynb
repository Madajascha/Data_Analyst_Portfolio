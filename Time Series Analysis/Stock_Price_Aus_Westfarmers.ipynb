{
  "nbformat": 4,
  "nbformat_minor": 5,
  "metadata": {
    "noteable-chatgpt": {
      "create_notebook": {
        "openai_conversation_id": "995e126d-20b7-5ae0-a9fe-4400899e683d",
        "openai_ephemeral_user_id": "5ccd0190-914e-5567-b82a-3dbf3a5ff17e",
        "openai_subdivision1_iso_code": "AU-VIC"
      }
    },
    "kernel_info": {
      "name": "python3"
    },
    "kernelspec": {
      "display_name": "Python 3.9",
      "language": "python",
      "name": "python3"
    },
    "selected_hardware_size": "small"
  },
  "cells": [
    {
      "id": "34267ec2-57b4-47fc-b25e-b56b03051941",
      "cell_type": "code",
      "metadata": {
        "jupyter": {
          "outputs_hidden": false,
          "source_hidden": false
        },
        "noteable": {
          "cell_type": "code"
        }
      },
      "execution_count": null,
      "source": "",
      "outputs": []
    },
    {
      "id": "eb763654-d1cb-4e00-bbc5-12911440d38b",
      "cell_type": "code",
      "metadata": {
        "noteable": {
          "cell_type": "code",
          "output_collection_id": "9d643209-a3df-4f1f-9b08-052fb6892fba"
        },
        "ExecuteTime": {
          "end_time": "2023-09-12T11:04:04.271492+00:00",
          "start_time": "2023-09-12T11:04:01.152847+00:00"
        }
      },
      "execution_count": null,
      "source": "!pip install -q yfinance",
      "outputs": []
    },
    {
      "id": "85d5dd72-7204-447f-87de-755e27579f6c",
      "cell_type": "code",
      "metadata": {
        "noteable": {
          "cell_type": "code",
          "output_collection_id": "a55d2949-e000-4682-bea0-a7cd76046273"
        },
        "ExecuteTime": {
          "end_time": "2023-09-12T11:04:05.099627+00:00",
          "start_time": "2023-09-12T11:04:04.598699+00:00"
        },
        "datalink": {
          "6ef6c0a1-f19d-4e51-a323-b551e0b579e4": {
            "applied_filters": [],
            "dataframe_info": {
              "default_index_used": false,
              "orig_num_cols": 6,
              "orig_num_rows": 5,
              "orig_size_bytes": 280,
              "truncated_num_cols": 6,
              "truncated_num_rows": 5,
              "truncated_size_bytes": 280,
              "truncated_string_columns": []
            },
            "display_id": "6ef6c0a1-f19d-4e51-a323-b551e0b579e4",
            "dx_settings": {
              "ALLOW_NOTEABLE_ATTRS": true,
              "COLUMN_SAMPLING_METHOD": "outer",
              "DB_LOCATION": ":memory:",
              "DEV_MODE": false,
              "DISPLAY_MAX_COLUMNS": 100,
              "DISPLAY_MAX_ROWS": 50000,
              "DISPLAY_MODE": "simple",
              "ENABLE_ASSIGNMENT": true,
              "ENABLE_DATALINK": true,
              "FLATTEN_COLUMN_VALUES": true,
              "FLATTEN_INDEX_VALUES": false,
              "GENERATE_DEX_METADATA": false,
              "HTML_TABLE_SCHEMA": false,
              "LOG_LEVEL": 30,
              "MAX_RENDER_SIZE_BYTES": 104857600,
              "MAX_STRING_LENGTH": 250,
              "NUM_PAST_SAMPLES_TRACKED": 3,
              "RANDOM_STATE": 12648430,
              "RESET_INDEX_VALUES": false,
              "ROW_SAMPLING_METHOD": "random",
              "SAMPLING_FACTOR": 0.1,
              "SAMPLING_METHOD": "random",
              "STRINGIFY_COLUMN_VALUES": true,
              "STRINGIFY_INDEX_VALUES": false
            },
            "sample_history": [],
            "sampling_time": "2023-09-12T10:28:49.561196",
            "user_variable_name": null,
            "variable_name": "unk_dataframe_9eb3c267e789441bb1d084ca401024ed"
          },
          "5c165932-9a5c-46d8-9664-9d62721832e7": {
            "applied_filters": [],
            "dataframe_info": {
              "default_index_used": false,
              "orig_num_cols": 6,
              "orig_num_rows": 5,
              "orig_size_bytes": 280,
              "truncated_num_cols": 6,
              "truncated_num_rows": 5,
              "truncated_size_bytes": 280,
              "truncated_string_columns": []
            },
            "display_id": "5c165932-9a5c-46d8-9664-9d62721832e7",
            "dx_settings": {
              "ALLOW_NOTEABLE_ATTRS": true,
              "COLUMN_SAMPLING_METHOD": "outer",
              "DB_LOCATION": ":memory:",
              "DEV_MODE": false,
              "DISPLAY_MAX_COLUMNS": 100,
              "DISPLAY_MAX_ROWS": 50000,
              "DISPLAY_MODE": "simple",
              "ENABLE_ASSIGNMENT": true,
              "ENABLE_DATALINK": true,
              "FLATTEN_COLUMN_VALUES": true,
              "FLATTEN_INDEX_VALUES": false,
              "GENERATE_DEX_METADATA": false,
              "HTML_TABLE_SCHEMA": false,
              "LOG_LEVEL": 30,
              "MAX_RENDER_SIZE_BYTES": 104857600,
              "MAX_STRING_LENGTH": 250,
              "NUM_PAST_SAMPLES_TRACKED": 3,
              "RANDOM_STATE": 12648430,
              "RESET_INDEX_VALUES": false,
              "ROW_SAMPLING_METHOD": "random",
              "SAMPLING_FACTOR": 0.1,
              "SAMPLING_METHOD": "random",
              "STRINGIFY_COLUMN_VALUES": true,
              "STRINGIFY_INDEX_VALUES": false
            },
            "sample_history": [],
            "sampling_time": "2023-09-12T11:02:41.808858",
            "user_variable_name": null,
            "variable_name": "unk_dataframe_89108c2f879b4793b6df0f4945a5e7c4"
          },
          "c189dfcf-26c1-440a-b26e-e29de9f31379": {
            "applied_filters": [],
            "dataframe_info": {
              "default_index_used": false,
              "orig_num_cols": 6,
              "orig_num_rows": 5,
              "orig_size_bytes": 280,
              "truncated_num_cols": 6,
              "truncated_num_rows": 5,
              "truncated_size_bytes": 280,
              "truncated_string_columns": []
            },
            "display_id": "c189dfcf-26c1-440a-b26e-e29de9f31379",
            "dx_settings": {
              "ALLOW_NOTEABLE_ATTRS": true,
              "COLUMN_SAMPLING_METHOD": "outer",
              "DB_LOCATION": ":memory:",
              "DEV_MODE": false,
              "DISPLAY_MAX_COLUMNS": 100,
              "DISPLAY_MAX_ROWS": 50000,
              "DISPLAY_MODE": "simple",
              "ENABLE_ASSIGNMENT": true,
              "ENABLE_DATALINK": true,
              "FLATTEN_COLUMN_VALUES": true,
              "FLATTEN_INDEX_VALUES": false,
              "GENERATE_DEX_METADATA": false,
              "HTML_TABLE_SCHEMA": false,
              "LOG_LEVEL": 30,
              "MAX_RENDER_SIZE_BYTES": 104857600,
              "MAX_STRING_LENGTH": 250,
              "NUM_PAST_SAMPLES_TRACKED": 3,
              "RANDOM_STATE": 12648430,
              "RESET_INDEX_VALUES": false,
              "ROW_SAMPLING_METHOD": "random",
              "SAMPLING_FACTOR": 0.1,
              "SAMPLING_METHOD": "random",
              "STRINGIFY_COLUMN_VALUES": true,
              "STRINGIFY_INDEX_VALUES": false
            },
            "sample_history": [],
            "sampling_time": "2023-09-12T11:04:04.935013",
            "user_variable_name": null,
            "variable_name": "unk_dataframe_cda48b311621422fb73c162be045b874"
          }
        }
      },
      "execution_count": null,
      "source": "import yfinance as yf\n\n# Define the ticker symbol for Aus Westfarmers\nticker_symbol = 'WES.AX'\n\n# Fetch the stock price data\nwestfarmers_data = yf.download(ticker_symbol, start='2020-01-01', end='2023-12-31')\n\n# Display the first few rows of the dataset\nwestfarmers_data.head()",
      "outputs": []
    },
    {
      "id": "8137ae5e-3b1e-4e8a-9a3b-0c5533d7bba3",
      "cell_type": "code",
      "metadata": {
        "noteable": {
          "cell_type": "code",
          "output_collection_id": "3279041b-1ce4-4466-93dc-1d49058bc9a8"
        },
        "ExecuteTime": {
          "end_time": "2023-09-12T11:04:05.283586+00:00",
          "start_time": "2023-09-12T11:04:05.105365+00:00"
        },
        "datalink": {
          "bd129a8a-75c2-46d7-8a74-c06d65c1c5bc": {
            "applied_filters": [],
            "dataframe_info": {
              "default_index_used": false,
              "orig_num_cols": 1,
              "orig_num_rows": 6,
              "orig_size_bytes": 96,
              "truncated_num_cols": 1,
              "truncated_num_rows": 6,
              "truncated_size_bytes": 96,
              "truncated_string_columns": []
            },
            "display_id": "bd129a8a-75c2-46d7-8a74-c06d65c1c5bc",
            "dx_settings": {
              "ALLOW_NOTEABLE_ATTRS": true,
              "COLUMN_SAMPLING_METHOD": "outer",
              "DB_LOCATION": ":memory:",
              "DEV_MODE": false,
              "DISPLAY_MAX_COLUMNS": 100,
              "DISPLAY_MAX_ROWS": 50000,
              "DISPLAY_MODE": "simple",
              "ENABLE_ASSIGNMENT": true,
              "ENABLE_DATALINK": true,
              "FLATTEN_COLUMN_VALUES": true,
              "FLATTEN_INDEX_VALUES": false,
              "GENERATE_DEX_METADATA": false,
              "HTML_TABLE_SCHEMA": false,
              "LOG_LEVEL": 30,
              "MAX_RENDER_SIZE_BYTES": 104857600,
              "MAX_STRING_LENGTH": 250,
              "NUM_PAST_SAMPLES_TRACKED": 3,
              "RANDOM_STATE": 12648430,
              "RESET_INDEX_VALUES": false,
              "ROW_SAMPLING_METHOD": "random",
              "SAMPLING_FACTOR": 0.1,
              "SAMPLING_METHOD": "random",
              "STRINGIFY_COLUMN_VALUES": true,
              "STRINGIFY_INDEX_VALUES": false
            },
            "sample_history": [],
            "sampling_time": "2023-09-12T10:30:59.344581",
            "user_variable_name": "missing_values",
            "variable_name": "missing_values"
          },
          "2bade96e-0a46-4d83-b382-5683542e62a9": {
            "applied_filters": [],
            "dataframe_info": {
              "default_index_used": false,
              "orig_num_cols": 1,
              "orig_num_rows": 6,
              "orig_size_bytes": 96,
              "truncated_num_cols": 1,
              "truncated_num_rows": 6,
              "truncated_size_bytes": 96,
              "truncated_string_columns": []
            },
            "display_id": "2bade96e-0a46-4d83-b382-5683542e62a9",
            "dx_settings": {
              "ALLOW_NOTEABLE_ATTRS": true,
              "COLUMN_SAMPLING_METHOD": "outer",
              "DB_LOCATION": ":memory:",
              "DEV_MODE": false,
              "DISPLAY_MAX_COLUMNS": 100,
              "DISPLAY_MAX_ROWS": 50000,
              "DISPLAY_MODE": "simple",
              "ENABLE_ASSIGNMENT": true,
              "ENABLE_DATALINK": true,
              "FLATTEN_COLUMN_VALUES": true,
              "FLATTEN_INDEX_VALUES": false,
              "GENERATE_DEX_METADATA": false,
              "HTML_TABLE_SCHEMA": false,
              "LOG_LEVEL": 30,
              "MAX_RENDER_SIZE_BYTES": 104857600,
              "MAX_STRING_LENGTH": 250,
              "NUM_PAST_SAMPLES_TRACKED": 3,
              "RANDOM_STATE": 12648430,
              "RESET_INDEX_VALUES": false,
              "ROW_SAMPLING_METHOD": "random",
              "SAMPLING_FACTOR": 0.1,
              "SAMPLING_METHOD": "random",
              "STRINGIFY_COLUMN_VALUES": true,
              "STRINGIFY_INDEX_VALUES": false
            },
            "sample_history": [],
            "sampling_time": "2023-09-12T11:02:42.123066",
            "user_variable_name": "missing_values",
            "variable_name": "missing_values"
          },
          "ffca9f8b-5533-4510-809f-7fa93138498c": {
            "applied_filters": [],
            "dataframe_info": {
              "default_index_used": false,
              "orig_num_cols": 1,
              "orig_num_rows": 6,
              "orig_size_bytes": 96,
              "truncated_num_cols": 1,
              "truncated_num_rows": 6,
              "truncated_size_bytes": 96,
              "truncated_string_columns": []
            },
            "display_id": "ffca9f8b-5533-4510-809f-7fa93138498c",
            "dx_settings": {
              "ALLOW_NOTEABLE_ATTRS": true,
              "COLUMN_SAMPLING_METHOD": "outer",
              "DB_LOCATION": ":memory:",
              "DEV_MODE": false,
              "DISPLAY_MAX_COLUMNS": 100,
              "DISPLAY_MAX_ROWS": 50000,
              "DISPLAY_MODE": "simple",
              "ENABLE_ASSIGNMENT": true,
              "ENABLE_DATALINK": true,
              "FLATTEN_COLUMN_VALUES": true,
              "FLATTEN_INDEX_VALUES": false,
              "GENERATE_DEX_METADATA": false,
              "HTML_TABLE_SCHEMA": false,
              "LOG_LEVEL": 30,
              "MAX_RENDER_SIZE_BYTES": 104857600,
              "MAX_STRING_LENGTH": 250,
              "NUM_PAST_SAMPLES_TRACKED": 3,
              "RANDOM_STATE": 12648430,
              "RESET_INDEX_VALUES": false,
              "ROW_SAMPLING_METHOD": "random",
              "SAMPLING_FACTOR": 0.1,
              "SAMPLING_METHOD": "random",
              "STRINGIFY_COLUMN_VALUES": true,
              "STRINGIFY_INDEX_VALUES": false
            },
            "sample_history": [],
            "sampling_time": "2023-09-12T11:04:05.125801",
            "user_variable_name": "missing_values",
            "variable_name": "missing_values"
          }
        }
      },
      "execution_count": null,
      "source": "# Check for missing values in the dataset\nmissing_values = westfarmers_data.isnull().sum()\nmissing_values",
      "outputs": []
    },
    {
      "id": "75f5e1cc-0c38-463e-8762-21d9ec328e67",
      "cell_type": "code",
      "metadata": {
        "noteable": {
          "cell_type": "code",
          "output_collection_id": "3a6557c9-0531-4434-a119-3c76c4036d89"
        },
        "ExecuteTime": {
          "end_time": "2023-09-12T11:04:05.473245+00:00",
          "start_time": "2023-09-12T11:04:05.289543+00:00"
        },
        "datalink": {
          "f26da3aa-428e-49b9-9a49-8ce575350f5f": {
            "applied_filters": [],
            "dataframe_info": {
              "default_index_used": false,
              "orig_num_cols": 2,
              "orig_num_rows": 5,
              "orig_size_bytes": 120,
              "truncated_num_cols": 2,
              "truncated_num_rows": 5,
              "truncated_size_bytes": 120,
              "truncated_string_columns": []
            },
            "display_id": "f26da3aa-428e-49b9-9a49-8ce575350f5f",
            "dx_settings": {
              "ALLOW_NOTEABLE_ATTRS": true,
              "COLUMN_SAMPLING_METHOD": "outer",
              "DB_LOCATION": ":memory:",
              "DEV_MODE": false,
              "DISPLAY_MAX_COLUMNS": 100,
              "DISPLAY_MAX_ROWS": 50000,
              "DISPLAY_MODE": "simple",
              "ENABLE_ASSIGNMENT": true,
              "ENABLE_DATALINK": true,
              "FLATTEN_COLUMN_VALUES": true,
              "FLATTEN_INDEX_VALUES": false,
              "GENERATE_DEX_METADATA": false,
              "HTML_TABLE_SCHEMA": false,
              "LOG_LEVEL": 30,
              "MAX_RENDER_SIZE_BYTES": 104857600,
              "MAX_STRING_LENGTH": 250,
              "NUM_PAST_SAMPLES_TRACKED": 3,
              "RANDOM_STATE": 12648430,
              "RESET_INDEX_VALUES": false,
              "ROW_SAMPLING_METHOD": "random",
              "SAMPLING_FACTOR": 0.1,
              "SAMPLING_METHOD": "random",
              "STRINGIFY_COLUMN_VALUES": true,
              "STRINGIFY_INDEX_VALUES": false
            },
            "sample_history": [],
            "sampling_time": "2023-09-12T10:31:35.143446",
            "user_variable_name": null,
            "variable_name": "unk_dataframe_1722e7f3984840b18cded64ded9dddeb"
          },
          "edacb2d9-86d1-4a9c-90d7-ce71b34c607d": {
            "applied_filters": [],
            "dataframe_info": {
              "default_index_used": false,
              "orig_num_cols": 2,
              "orig_num_rows": 5,
              "orig_size_bytes": 120,
              "truncated_num_cols": 2,
              "truncated_num_rows": 5,
              "truncated_size_bytes": 120,
              "truncated_string_columns": []
            },
            "display_id": "edacb2d9-86d1-4a9c-90d7-ce71b34c607d",
            "dx_settings": {
              "ALLOW_NOTEABLE_ATTRS": true,
              "COLUMN_SAMPLING_METHOD": "outer",
              "DB_LOCATION": ":memory:",
              "DEV_MODE": false,
              "DISPLAY_MAX_COLUMNS": 100,
              "DISPLAY_MAX_ROWS": 50000,
              "DISPLAY_MODE": "simple",
              "ENABLE_ASSIGNMENT": true,
              "ENABLE_DATALINK": true,
              "FLATTEN_COLUMN_VALUES": true,
              "FLATTEN_INDEX_VALUES": false,
              "GENERATE_DEX_METADATA": false,
              "HTML_TABLE_SCHEMA": false,
              "LOG_LEVEL": 30,
              "MAX_RENDER_SIZE_BYTES": 104857600,
              "MAX_STRING_LENGTH": 250,
              "NUM_PAST_SAMPLES_TRACKED": 3,
              "RANDOM_STATE": 12648430,
              "RESET_INDEX_VALUES": false,
              "ROW_SAMPLING_METHOD": "random",
              "SAMPLING_FACTOR": 0.1,
              "SAMPLING_METHOD": "random",
              "STRINGIFY_COLUMN_VALUES": true,
              "STRINGIFY_INDEX_VALUES": false
            },
            "sample_history": [],
            "sampling_time": "2023-09-12T11:02:42.332646",
            "user_variable_name": null,
            "variable_name": "unk_dataframe_68a649cd47e847ab8e893461e53d9d16"
          },
          "faa92647-7fec-4412-b2be-9f08be058f62": {
            "applied_filters": [],
            "dataframe_info": {
              "default_index_used": false,
              "orig_num_cols": 2,
              "orig_num_rows": 5,
              "orig_size_bytes": 120,
              "truncated_num_cols": 2,
              "truncated_num_rows": 5,
              "truncated_size_bytes": 120,
              "truncated_string_columns": []
            },
            "display_id": "faa92647-7fec-4412-b2be-9f08be058f62",
            "dx_settings": {
              "ALLOW_NOTEABLE_ATTRS": true,
              "COLUMN_SAMPLING_METHOD": "outer",
              "DB_LOCATION": ":memory:",
              "DEV_MODE": false,
              "DISPLAY_MAX_COLUMNS": 100,
              "DISPLAY_MAX_ROWS": 50000,
              "DISPLAY_MODE": "simple",
              "ENABLE_ASSIGNMENT": true,
              "ENABLE_DATALINK": true,
              "FLATTEN_COLUMN_VALUES": true,
              "FLATTEN_INDEX_VALUES": false,
              "GENERATE_DEX_METADATA": false,
              "HTML_TABLE_SCHEMA": false,
              "LOG_LEVEL": 30,
              "MAX_RENDER_SIZE_BYTES": 104857600,
              "MAX_STRING_LENGTH": 250,
              "NUM_PAST_SAMPLES_TRACKED": 3,
              "RANDOM_STATE": 12648430,
              "RESET_INDEX_VALUES": false,
              "ROW_SAMPLING_METHOD": "random",
              "SAMPLING_FACTOR": 0.1,
              "SAMPLING_METHOD": "random",
              "STRINGIFY_COLUMN_VALUES": true,
              "STRINGIFY_INDEX_VALUES": false
            },
            "sample_history": [],
            "sampling_time": "2023-09-12T11:04:05.314751",
            "user_variable_name": null,
            "variable_name": "unk_dataframe_d67a535e725c46adb30fbf3d22dec9c1"
          }
        }
      },
      "execution_count": null,
      "source": "# Drop irrelevant columns\ncolumns_to_drop = ['Open', 'High', 'Low', 'Adj Close']\nwestfarmers_data_cleaned = westfarmers_data.drop(columns=columns_to_drop)\n\n# Display the first few rows of the cleaned dataset\nwestfarmers_data_cleaned.head()",
      "outputs": []
    },
    {
      "id": "42bf3ba1-a063-4a21-a47b-2130b62462db",
      "cell_type": "code",
      "metadata": {
        "noteable": {
          "cell_type": "code",
          "output_collection_id": "08e5ba0b-09fc-4dc3-b1bb-bb9a1dc5ceb8"
        },
        "ExecuteTime": {
          "end_time": "2023-09-12T11:04:44.005538+00:00",
          "start_time": "2023-09-12T11:04:43.145994+00:00"
        }
      },
      "execution_count": null,
      "source": "import matplotlib.pyplot as plt\n# Visualizing the cleaned dataset\nplt.figure(figsize=(14, 7))\nwestfarmers_data_cleaned['Close'].plot(title='Westfarmers Closing Prices')\nplt.xlabel('Date')\nplt.ylabel('Close Price')\nplt.grid(True)\nplt.show()",
      "outputs": []
    },
    {
      "id": "7171ee1b-926d-4295-9acb-9b097da336aa",
      "cell_type": "code",
      "metadata": {
        "noteable": {
          "cell_type": "code",
          "output_collection_id": "6672ce97-fd94-4f0a-9d81-2ab96502ae86"
        },
        "ExecuteTime": {
          "end_time": "2023-09-12T11:04:53.688630+00:00",
          "start_time": "2023-09-12T11:04:50.908265+00:00"
        }
      },
      "execution_count": null,
      "source": "from statsmodels.tsa.stattools import adfuller\n\n# Perform Augmented Dickey-Fuller test\nresult = adfuller(westfarmers_data_cleaned['Close'])\n\n# Extract and display test statistics\nadf_statistic = result[0]\np_value = result[1]\ncritical_values = result[4]\n\nadf_statistic, p_value, critical_values",
      "outputs": []
    },
    {
      "id": "6f7638f7-0c45-44d9-86b0-d6f7aac80c67",
      "cell_type": "code",
      "metadata": {
        "noteable": {
          "cell_type": "code",
          "output_collection_id": "61f94182-9f07-4aa7-9a68-acc33402ae46"
        },
        "ExecuteTime": {
          "end_time": "2023-09-12T11:04:56.885262+00:00",
          "start_time": "2023-09-12T11:04:53.694461+00:00"
        }
      },
      "execution_count": null,
      "source": "# Apply differencing to the 'Close' column\nwestfarmers_data_diff = westfarmers_data_cleaned['Close'].diff().dropna()\n\n# Perform Augmented Dickey-Fuller test on differenced data\nresult_diff = adfuller(westfarmers_data_diff)\n\n# Extract and display test statistics for differenced data\nadf_statistic_diff = result_diff[0]\np_value_diff = result_diff[1]\ncritical_values_diff = result_diff[4]\n\nadf_statistic_diff, p_value_diff, critical_values_diff",
      "outputs": []
    },
    {
      "id": "f7a39917-fefb-4b77-a08e-8cd9d3b302fd",
      "cell_type": "code",
      "metadata": {
        "noteable": {
          "cell_type": "code",
          "output_collection_id": "27957505-a9ca-4588-9d25-affc781dc90a"
        },
        "ExecuteTime": {
          "end_time": "2023-09-12T11:04:57.711269+00:00",
          "start_time": "2023-09-12T11:04:56.891869+00:00"
        }
      },
      "execution_count": null,
      "source": "from statsmodels.graphics.tsaplots import plot_acf, plot_pacf\n\n# Plot ACF and PACF\nfig, ax = plt.subplots(1, 2, figsize=(14, 4))\n\n# ACF plot\nplot_acf(westfarmers_data_diff, ax=ax[0], lags=40)\n\n# PACF plot\nplot_pacf(westfarmers_data_diff, ax=ax[1], lags=40)\n\nplt.tight_layout()\nplt.show()",
      "outputs": []
    },
    {
      "id": "64e49c92-bc4e-45fa-91f0-07d7acec65a3",
      "cell_type": "code",
      "metadata": {
        "noteable": {
          "cell_type": "code",
          "output_collection_id": "eb46a9b1-b49f-41bb-9d9d-4776ad4e4b8d"
        },
        "ExecuteTime": {
          "end_time": "2023-09-12T11:04:58.323128+00:00",
          "start_time": "2023-09-12T11:04:57.890337+00:00"
        },
        "scrolled": true
      },
      "execution_count": null,
      "source": "from statsmodels.tsa.arima.model import ARIMA\n\n# Fit ARIMA(1,1,1) model\nmodel = ARIMA(westfarmers_data_cleaned['Close'], order=(1,1,1))\nresults = model.fit()\n\n# Display model summary\nresults.summary()",
      "outputs": []
    },
    {
      "id": "8d083176-5465-4d75-bd67-67c1b8210ac5",
      "cell_type": "code",
      "metadata": {
        "jupyter": {
          "outputs_hidden": false,
          "source_hidden": false
        },
        "noteable": {
          "cell_type": "code",
          "output_collection_id": "cbdeda3f-aa17-4c23-95ef-82cea782b59f"
        },
        "ExecuteTime": {
          "end_time": "2023-09-12T11:07:49.582256+00:00",
          "start_time": "2023-09-12T11:07:49.095322+00:00"
        }
      },
      "execution_count": null,
      "source": "# Forecast the next 30 days\nforecast_steps = 30\nforecast = results.get_forecast(steps=forecast_steps)\nmean_forecast = forecast.predicted_mean\nconfidence_intervals = forecast.conf_int()\n\n# Adjusting the forecast's index to start after the last date in our dataset\nforecast_start_date = westfarmers_data_cleaned.index[-1] + pd.Timedelta(days=1)\nforecast_end_date = forecast_start_date + pd.Timedelta(days=forecast_steps-1)\nforecast_dates = pd.date_range(forecast_start_date, forecast_end_date)\nmean_forecast.index = forecast_dates\nconfidence_intervals.index = forecast_dates\n\n# Plotting the forecast\nplt.figure(figsize=(14, 7))\nwestfarmers_data_cleaned['Close'].plot(label='Past Closing Prices')\nmean_forecast.plot(label='Forecast', color='red')\nplt.fill_between(confidence_intervals.index,\n                 confidence_intervals.iloc[:, 0],\n                 confidence_intervals.iloc[:, 1], color='pink', alpha=0.3)\nplt.title('Westfarmers Closing Price Forecast')\nplt.xlabel('Date')\nplt.ylabel('Closing Price')\nplt.legend()\nplt.grid(True)\nplt.show()",
      "outputs": []
    },
    {
      "id": "334dd4bc-33b0-4fec-a43f-931ec5a35a92",
      "cell_type": "code",
      "metadata": {
        "noteable": {
          "cell_type": "code",
          "output_collection_id": "80244d3c-60a0-4fba-8073-996d232b9b70"
        },
        "ExecuteTime": {
          "end_time": "2023-09-12T11:27:05.483749+00:00",
          "start_time": "2023-09-12T11:27:03.982016+00:00"
        }
      },
      "execution_count": null,
      "source": "# Fit the SARIMA model with basic parameters\nbasic_sarima_model = SARIMAX(westfarmers_data_cleaned['Close'],\n                            order=(1, 1, 1),\n                            seasonal_order=(1, 1, 1, 12),\n                            enforce_stationarity=False,\n                            enforce_invertibility=False)\nbasic_sarima_results = basic_sarima_model.fit()",
      "outputs": []
    },
    {
      "id": "1d8c349f-fbf2-4f53-82d0-78efd03377f3",
      "cell_type": "code",
      "metadata": {
        "noteable": {
          "cell_type": "code",
          "output_collection_id": "2a095a60-8065-4e47-8586-ea658c9935bc"
        },
        "ExecuteTime": {
          "end_time": "2023-09-12T11:27:14.437288+00:00",
          "start_time": "2023-09-12T11:27:13.967255+00:00"
        }
      },
      "execution_count": null,
      "source": "# Adjusting the forecast dates\nforecast_start_date = westfarmers_data_cleaned.index[-1] + pd.Timedelta(days=1)\nforecast_end_date = forecast_start_date + pd.Timedelta(days=29)\nforecast_dates = pd.date_range(forecast_start_date, forecast_end_date)\nbasic_mean_forecast.index = forecast_dates\nbasic_confidence_intervals.index = forecast_dates\n\n# Plotting the adjusted forecast\nplt.figure(figsize=(14, 7))\nwestfarmers_data_cleaned['Close'].plot(label='Past Closing Prices')\nbasic_mean_forecast.plot(label='Forecast', color='red')\nplt.fill_between(basic_confidence_intervals.index,\n                 basic_confidence_intervals.iloc[:, 0],\n                 basic_confidence_intervals.iloc[:, 1], color='pink', alpha=0.3)\nplt.title('Adjusted Westfarmers Closing Price Basic SARIMA Forecast')\nplt.xlabel('Date')\nplt.ylabel('Closing Price')\nplt.legend()\nplt.grid(True)\nplt.show()",
      "outputs": []
    },
    {
      "id": "1c5f5700-08ac-4078-abd8-f9bbc32bb203",
      "cell_type": "code",
      "metadata": {
        "jupyter": {
          "outputs_hidden": false,
          "source_hidden": false
        },
        "noteable": {
          "cell_type": "code"
        }
      },
      "execution_count": null,
      "source": "",
      "outputs": []
    },
    {
      "id": "f7f84aca-aa0d-4720-bfc4-d4b3139f4f54",
      "cell_type": "code",
      "metadata": {
        "noteable": {
          "cell_type": "code",
          "output_collection_id": "58a04d9c-f0ff-490b-a2fb-ff8041614e0a"
        },
        "ExecuteTime": {
          "end_time": "2023-09-12T11:29:21.866568+00:00",
          "start_time": "2023-09-12T11:29:21.437375+00:00"
        }
      },
      "execution_count": null,
      "source": "# Zooming in on the last 6 months of historical data and the forecast\nzoom_start_date = westfarmers_data_cleaned.index[-1] - pd.Timedelta(days=180)\n\nplt.figure(figsize=(14, 7))\nwestfarmers_data_cleaned['Close'][zoom_start_date:].plot(label='Past 6 Months Closing Prices')\nbasic_mean_forecast.plot(label='Forecast', color='red')\nplt.fill_between(basic_confidence_intervals.index,\n                 basic_confidence_intervals.iloc[:, 0],\n                 basic_confidence_intervals.iloc[:, 1], color='pink', alpha=0.3)\nplt.title('Zoomed-in Westfarmers Closing Price Basic SARIMA Forecast')\nplt.xlabel('Date')\nplt.ylabel('Closing Price')\nplt.legend()\nplt.grid(True)\nplt.show()",
      "outputs": []
    },
    {
      "id": "35e3cb1c-18f9-4994-afbd-73f2861fa00d",
      "cell_type": "code",
      "metadata": {
        "noteable": {
          "cell_type": "code",
          "output_collection_id": "a493ad27-6609-43af-8380-975e42b51d25"
        },
        "ExecuteTime": {
          "end_time": "2023-09-12T11:34:34.416923+00:00",
          "start_time": "2023-09-12T11:34:33.724271+00:00"
        }
      },
      "execution_count": null,
      "source": "from statsmodels.tsa.seasonal import seasonal_decompose\n# Decompose the time series using the 'period' parameter\ndecomposition = seasonal_decompose(westfarmers_data_cleaned['Close'], model='multiplicative', period=12)\n\n# Plot the decomposed components\nfig = decomposition.plot()\nfig.set_size_inches(14, 7)\nplt.suptitle('Time Series Decomposition of Westfarmers Closing Prices')\nplt.show()",
      "outputs": []
    },
    {
      "id": "d93eb189-f1af-4e5d-8adc-78ca1ee908d4",
      "cell_type": "code",
      "metadata": {
        "noteable": {
          "cell_type": "code",
          "output_collection_id": "7a60e3f2-3466-4ba7-ab53-db6a4fce3e27"
        },
        "ExecuteTime": {
          "end_time": "2023-09-12T11:38:07.083127+00:00",
          "start_time": "2023-09-12T11:38:06.617618+00:00"
        }
      },
      "execution_count": null,
      "source": "# Creating lag features\nwestfarmers_data_cleaned['Lag_1'] = westfarmers_data_cleaned['Close'].shift(1)\nwestfarmers_data_cleaned['Lag_2'] = westfarmers_data_cleaned['Close'].shift(2)\nwestfarmers_data_cleaned['Lag_3'] = westfarmers_data_cleaned['Close'].shift(3)\n\n# Creating rolling window statistics\nwestfarmers_data_cleaned['Rolling_Mean_7'] = westfarmers_data_cleaned['Close'].rolling(window=7).mean()\nwestfarmers_data_cleaned['Rolling_Std_7'] = westfarmers_data_cleaned['Close'].rolling(window=7).std()\n\n# Visualizing the original closing prices with the engineered features\nplt.figure(figsize=(14, 7))\nwestfarmers_data_cleaned['Close'].plot(label='Closing Prices')\nwestfarmers_data_cleaned['Rolling_Mean_7'].plot(label='7-Day Rolling Mean', linestyle='--')\nwestfarmers_data_cleaned['Rolling_Std_7'].plot(label='7-Day Rolling Std. Dev.', linestyle=':')\nplt.title('Westfarmers Closing Prices with Engineered Features')\nplt.xlabel('Date')\nplt.ylabel('Price')\nplt.legend()\nplt.grid(True)\nplt.show()",
      "outputs": []
    },
    {
      "id": "3f62e73b-a31f-4af7-8574-7044605bbf8d",
      "cell_type": "code",
      "metadata": {
        "noteable": {
          "cell_type": "code",
          "output_collection_id": "dedb1a09-6564-4d18-bdb5-c175ac1eb38f"
        },
        "ExecuteTime": {
          "end_time": "2023-09-12T11:40:43.407566+00:00",
          "start_time": "2023-09-12T11:40:43.167301+00:00"
        }
      },
      "execution_count": null,
      "source": "from sklearn.linear_model import LinearRegression\nfrom sklearn.metrics import mean_squared_error\nfrom sklearn.model_selection import train_test_split\n\n# Dropping NA values (due to lag and rolling features)\ndata_with_features = westfarmers_data_cleaned.dropna()\n\n# Defining features and target variable\nfeatures = ['Lag_1', 'Lag_2', 'Lag_3', 'Rolling_Mean_7', 'Rolling_Std_7']\nX = data_with_features[features]\ny = data_with_features['Close']\n\n# Splitting the data into training and testing sets (80% train, 20% test)\nX_train, X_test, y_train, y_test = train_test_split(X, y, test_size=0.2, shuffle=False)\n\n# Training the Linear Regression model\nmodel = LinearRegression()\nmodel.fit(X_train, y_train)\n\n# Predicting on the test set\ny_pred = model.predict(X_test)\n\n# Calculating the Mean Squared Error (MSE) for the predictions\nmse = mean_squared_error(y_test, y_pred)\nmse",
      "outputs": []
    },
    {
      "id": "f30f187e-2f81-47fd-b276-b435e3f1953a",
      "cell_type": "code",
      "metadata": {
        "noteable": {
          "cell_type": "code",
          "output_collection_id": "b39e62ea-5911-4b14-87b8-080c1d8be92b"
        },
        "ExecuteTime": {
          "end_time": "2023-09-12T11:41:41.185786+00:00",
          "start_time": "2023-09-12T11:41:40.794971+00:00"
        }
      },
      "execution_count": null,
      "source": "plt.figure(figsize=(14, 7))\ny_test.plot(label='Actual Closing Prices')\nplt.plot(y_test.index, y_pred, label='Predicted Closing Prices', color='red', linestyle='--')\nplt.title('Actual vs. Predicted Westfarmers Closing Prices')\nplt.xlabel('Date')\nplt.ylabel('Price')\nplt.legend()\nplt.grid(True)\nplt.show()",
      "outputs": []
    },
    {
      "id": "bf5b1cb5-e26c-47ad-81dd-3116c742c62e",
      "cell_type": "code",
      "metadata": {
        "noteable": {
          "cell_type": "code",
          "output_collection_id": "1155bd74-fbf0-4b5a-bb9e-9de8700d5e99"
        },
        "ExecuteTime": {
          "end_time": "2023-09-12T11:45:28.469270+00:00",
          "start_time": "2023-09-12T11:45:27.870888+00:00"
        }
      },
      "execution_count": null,
      "source": "from statsmodels.tsa.holtwinters import ExponentialSmoothing\n\n# Splitting the data into training and testing sets (80% train, 20% test)\ntrain_data = westfarmers_data_cleaned['Close'].iloc[:-int(0.2*len(westfarmers_data_cleaned))]\ntest_data = westfarmers_data_cleaned['Close'].iloc[-int(0.2*len(westfarmers_data_cleaned)):]\n\n# Fitting the Holt-Winters' Exponential Smoothing model\nmodel_ets = ExponentialSmoothing(train_data, trend='add', seasonal='add', seasonal_periods=12)\nfit_ets = model_ets.fit()\n\n# Forecasting the next 30 days\nforecast_ets = fit_ets.forecast(steps=30)\n\n# Plotting the training data, test data, and forecast\nplt.figure(figsize=(14, 7))\ntrain_data.plot(label='Training Data')\ntest_data.plot(label='Test Data')\nforecast_ets.plot(label='ETS Forecast', color='red', linestyle='--')\nplt.title('Holt-Winters Exponential Smoothing Forecast')\nplt.xlabel('Date')\nplt.ylabel('Price')\nplt.legend()\nplt.grid(True)\nplt.show()",
      "outputs": []
    },
    {
      "id": "4590c3ac-0332-4cb3-a663-90598521a27d",
      "cell_type": "code",
      "metadata": {
        "noteable": {
          "cell_type": "code",
          "output_collection_id": "6e6938de-d600-4444-b003-35e25670bf55"
        },
        "ExecuteTime": {
          "end_time": "2023-09-12T11:48:03.494304+00:00",
          "start_time": "2023-09-12T11:48:03.053504+00:00"
        }
      },
      "execution_count": null,
      "source": "# Correcting the forecast index to start from the day after the last date in the training data\nforecast_start_date = train_data.index[-1] + pd.Timedelta(days=1)\nforecast_end_date = forecast_start_date + pd.Timedelta(days=29)  # 30 days including the start date\nforecast_dates = pd.date_range(forecast_start_date, forecast_end_date)\nforecast_ets.index = forecast_dates\n\n# Plotting the training data, test data, and corrected forecast\nplt.figure(figsize=(14, 7))\ntrain_data.plot(label='Training Data')\ntest_data.plot(label='Test Data')\nforecast_ets.plot(label='ETS Forecast', color='red', linestyle='--')\nplt.title('Holt-Winters Exponential Smoothing Forecast')\nplt.xlabel('Date')\nplt.ylabel('Price')\nplt.legend()\nplt.grid(True)\nplt.show()",
      "outputs": []
    },
    {
      "id": "3d288e25-c8fd-41f2-877b-7e1b0422e7a4",
      "cell_type": "code",
      "metadata": {
        "noteable": {
          "cell_type": "code",
          "output_collection_id": "d8feef6f-6fda-4baf-8683-c5b81b98db18"
        },
        "ExecuteTime": {
          "end_time": "2023-09-12T11:51:47.081944+00:00",
          "start_time": "2023-09-12T11:51:46.922321+00:00"
        }
      },
      "execution_count": null,
      "source": "from sklearn.metrics import mean_absolute_error, mean_squared_error\nimport numpy as np\n\n# Extracting the portion of the test data that corresponds to the forecast period\ntest_data_for_evaluation = test_data.head(len(forecast_ets))\n\n# Calculating the error metrics\nmae = mean_absolute_error(test_data_for_evaluation, forecast_ets)\nmse = mean_squared_error(test_data_for_evaluation, forecast_ets)\nrmse = np.sqrt(mse)\nmape = 100 * np.mean(np.abs((test_data_for_evaluation - forecast_ets) / test_data_for_evaluation))\n\nmae, mse, rmse, mape",
      "outputs": []
    },
    {
      "id": "e230905c-25ce-44ca-9b0c-2d461bfb374a",
      "cell_type": "code",
      "metadata": {
        "noteable": {
          "cell_type": "code",
          "output_collection_id": "08ab552c-a23e-40a7-a8b2-1b1d2529242e"
        },
        "ExecuteTime": {
          "end_time": "2023-09-12T11:54:19.570516+00:00",
          "start_time": "2023-09-12T11:54:19.137563+00:00"
        }
      },
      "execution_count": null,
      "source": "# Calculating daily returns\nwestfarmers_returns = westfarmers_data_cleaned['Close'].pct_change().dropna()\n\n# Plotting daily returns\nplt.figure(figsize=(14, 7))\nwestfarmers_returns.plot()\nplt.title('Westfarmers Daily Returns')\nplt.xlabel('Date')\nplt.ylabel('Daily Return')\nplt.grid(True)\nplt.show()",
      "outputs": []
    },
    {
      "id": "c3a78939-094f-4b6c-be9d-eedee93a1dea",
      "cell_type": "code",
      "metadata": {
        "noteable": {
          "cell_type": "code",
          "output_collection_id": "89c0ee2d-bb3b-41ae-901b-ec5b62cf8002"
        },
        "ExecuteTime": {
          "end_time": "2023-09-12T11:59:18.681007+00:00",
          "start_time": "2023-09-12T11:59:18.286593+00:00"
        }
      },
      "execution_count": null,
      "source": "# Calculating the 21-day rolling standard deviation\nrolling_volatility = westfarmers_returns.rolling(window=21).std()\n\n# Plotting the rolling volatility\nplt.figure(figsize=(14, 7))\nrolling_volatility.plot(color='blue', label='21-Day Rolling Volatility')\nplt.title('21-Day Rolling Volatility of Westfarmers Stock Returns')\nplt.xlabel('Date')\nplt.ylabel('Volatility')\nplt.legend()\nplt.grid(True)\nplt.show()",
      "outputs": []
    }
  ]
}