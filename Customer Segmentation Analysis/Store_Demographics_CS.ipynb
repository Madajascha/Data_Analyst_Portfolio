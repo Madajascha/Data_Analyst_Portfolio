{
  "nbformat": 4,
  "nbformat_minor": 5,
  "metadata": {
    "noteable-chatgpt": {
      "create_notebook": {
        "openai_conversation_id": "e0fb8d6b-80e4-544a-8a1c-576d149166b1",
        "openai_ephemeral_user_id": "aede970b-f64a-5664-bb82-14392e49b533",
        "openai_subdivision1_iso_code": "AU-VIC"
      }
    },
    "kernel_info": {
      "name": "python3"
    },
    "kernelspec": {
      "display_name": "Python 3.9",
      "language": "python",
      "name": "python3"
    },
    "selected_hardware_size": "small",
    "noteable": {
      "db_connection": "@noteable"
    }
  },
  "cells": [
    {
      "id": "08605cc4-e246-4e1b-9745-688e305c0026",
      "cell_type": "markdown",
      "source": "Objective:\nTo segment the customers into distinct groups based on their spending behavior, annual income, and other demographic factors. This will help in targeted marketing and personalized offers to enhance customer engagement and increase sales.",
      "metadata": {}
    },
    {
      "id": "10882800-bdb0-45a8-8a53-8e2751ce3750",
      "cell_type": "code",
      "metadata": {
        "noteable": {
          "cell_type": "python",
          "output_collection_id": "42d1b4eb-f55e-47a7-a3ae-8de4e5a429a0"
        },
        "ExecuteTime": {
          "end_time": "2023-09-04T08:02:15.894017+00:00",
          "start_time": "2023-09-04T08:02:15.739533+00:00"
        }
      },
      "execution_count": null,
      "source": "import numpy as np\nimport pandas as pd\nimport matplotlib.pyplot as plt\nimport seaborn as sns",
      "outputs": []
    },
    {
      "id": "4df33a5c-9c88-42d9-884d-12b8ebdb6440",
      "cell_type": "code",
      "metadata": {
        "noteable": {
          "cell_type": "code",
          "output_collection_id": "98e566cb-5ded-47ac-aeaa-1b6e9a19d1c6"
        },
        "ExecuteTime": {
          "end_time": "2023-09-04T08:02:16.121226+00:00",
          "start_time": "2023-09-04T08:02:15.898923+00:00"
        },
        "datalink": {
          "c728cdc4-3dbd-4a2e-8835-fccecc987f12": {
            "applied_filters": [],
            "dataframe_info": {
              "default_index_used": true,
              "orig_num_cols": 11,
              "orig_num_rows": 5,
              "orig_size_bytes": 480,
              "truncated_num_cols": 11,
              "truncated_num_rows": 5,
              "truncated_size_bytes": 480,
              "truncated_string_columns": []
            },
            "display_id": "c728cdc4-3dbd-4a2e-8835-fccecc987f12",
            "dx_settings": {
              "ALLOW_NOTEABLE_ATTRS": true,
              "COLUMN_SAMPLING_METHOD": "outer",
              "DB_LOCATION": ":memory:",
              "DEV_MODE": false,
              "DISPLAY_MAX_COLUMNS": 100,
              "DISPLAY_MAX_ROWS": 50000,
              "DISPLAY_MODE": "simple",
              "ENABLE_ASSIGNMENT": true,
              "ENABLE_DATALINK": true,
              "FLATTEN_COLUMN_VALUES": true,
              "FLATTEN_INDEX_VALUES": false,
              "GENERATE_DEX_METADATA": false,
              "HTML_TABLE_SCHEMA": false,
              "LOG_LEVEL": 30,
              "MAX_RENDER_SIZE_BYTES": 104857600,
              "MAX_STRING_LENGTH": 250,
              "NUM_PAST_SAMPLES_TRACKED": 3,
              "RANDOM_STATE": 12648430,
              "RESET_INDEX_VALUES": false,
              "ROW_SAMPLING_METHOD": "random",
              "SAMPLING_FACTOR": 0.1,
              "SAMPLING_METHOD": "random",
              "STRINGIFY_COLUMN_VALUES": true,
              "STRINGIFY_INDEX_VALUES": false
            },
            "sample_history": [],
            "sampling_time": "2023-09-04T07:29:46.880558",
            "user_variable_name": null,
            "variable_name": "unk_dataframe_893dd84e1af94154952b8fb6a530cb02"
          },
          "ea156b39-0f13-42d1-8615-a294c09b8cb9": {
            "applied_filters": [],
            "dataframe_info": {
              "default_index_used": true,
              "orig_num_cols": 11,
              "orig_num_rows": 5,
              "orig_size_bytes": 480,
              "truncated_num_cols": 11,
              "truncated_num_rows": 5,
              "truncated_size_bytes": 480,
              "truncated_string_columns": []
            },
            "display_id": "ea156b39-0f13-42d1-8615-a294c09b8cb9",
            "dx_settings": {
              "ALLOW_NOTEABLE_ATTRS": true,
              "COLUMN_SAMPLING_METHOD": "outer",
              "DB_LOCATION": ":memory:",
              "DEV_MODE": false,
              "DISPLAY_MAX_COLUMNS": 100,
              "DISPLAY_MAX_ROWS": 50000,
              "DISPLAY_MODE": "simple",
              "ENABLE_ASSIGNMENT": true,
              "ENABLE_DATALINK": true,
              "FLATTEN_COLUMN_VALUES": true,
              "FLATTEN_INDEX_VALUES": false,
              "GENERATE_DEX_METADATA": false,
              "HTML_TABLE_SCHEMA": false,
              "LOG_LEVEL": 30,
              "MAX_RENDER_SIZE_BYTES": 104857600,
              "MAX_STRING_LENGTH": 250,
              "NUM_PAST_SAMPLES_TRACKED": 3,
              "RANDOM_STATE": 12648430,
              "RESET_INDEX_VALUES": false,
              "ROW_SAMPLING_METHOD": "random",
              "SAMPLING_FACTOR": 0.1,
              "SAMPLING_METHOD": "random",
              "STRINGIFY_COLUMN_VALUES": true,
              "STRINGIFY_INDEX_VALUES": false
            },
            "sample_history": [],
            "sampling_time": "2023-09-04T08:02:15.961335",
            "user_variable_name": null,
            "variable_name": "unk_dataframe_33216caa4f6542b9b39e4a68fb5b4d04"
          }
        }
      },
      "execution_count": null,
      "source": "# Load the dataset\n\ncust_data = pd.read_csv('customer_segmentation_dataset.csv')\n\n# Display the first few rows of the dataset\ncust_data.head()",
      "outputs": []
    },
    {
      "id": "ba6d0774-74ce-4b80-96c1-e0d1e48e46e9",
      "cell_type": "code",
      "metadata": {
        "noteable": {
          "cell_type": "code",
          "output_collection_id": "6c85b242-c68e-48b0-afc9-67eae77ec103"
        },
        "ExecuteTime": {
          "end_time": "2023-09-04T08:02:16.286293+00:00",
          "start_time": "2023-09-04T08:02:16.126488+00:00"
        }
      },
      "execution_count": null,
      "source": "# Step 1: Basic Information\n\n# Display the shape of the dataset\nshape = df.shape\n\n# Display the columns and their data types\ndata_types = df.dtypes\n\nshape, data_types",
      "outputs": []
    },
    {
      "id": "5c42ff8f-b0b1-4699-8cb7-54553ebaaf83",
      "cell_type": "code",
      "metadata": {
        "noteable": {
          "cell_type": "code",
          "output_collection_id": "f08a0112-48da-4555-989f-4ec532661e83"
        },
        "ExecuteTime": {
          "end_time": "2023-09-04T08:02:16.488507+00:00",
          "start_time": "2023-09-04T08:02:16.291115+00:00"
        },
        "datalink": {
          "669eada9-7b0c-4c88-aae6-02ead1562cd5": {
            "applied_filters": [],
            "dataframe_info": {
              "default_index_used": false,
              "orig_num_cols": 1,
              "orig_num_rows": 11,
              "orig_size_bytes": 176,
              "truncated_num_cols": 1,
              "truncated_num_rows": 11,
              "truncated_size_bytes": 176,
              "truncated_string_columns": []
            },
            "display_id": "669eada9-7b0c-4c88-aae6-02ead1562cd5",
            "dx_settings": {
              "ALLOW_NOTEABLE_ATTRS": true,
              "COLUMN_SAMPLING_METHOD": "outer",
              "DB_LOCATION": ":memory:",
              "DEV_MODE": false,
              "DISPLAY_MAX_COLUMNS": 100,
              "DISPLAY_MAX_ROWS": 50000,
              "DISPLAY_MODE": "simple",
              "ENABLE_ASSIGNMENT": true,
              "ENABLE_DATALINK": true,
              "FLATTEN_COLUMN_VALUES": true,
              "FLATTEN_INDEX_VALUES": false,
              "GENERATE_DEX_METADATA": false,
              "HTML_TABLE_SCHEMA": false,
              "LOG_LEVEL": 30,
              "MAX_RENDER_SIZE_BYTES": 104857600,
              "MAX_STRING_LENGTH": 250,
              "NUM_PAST_SAMPLES_TRACKED": 3,
              "RANDOM_STATE": 12648430,
              "RESET_INDEX_VALUES": false,
              "ROW_SAMPLING_METHOD": "random",
              "SAMPLING_FACTOR": 0.1,
              "SAMPLING_METHOD": "random",
              "STRINGIFY_COLUMN_VALUES": true,
              "STRINGIFY_INDEX_VALUES": false
            },
            "sample_history": [],
            "sampling_time": "2023-09-04T07:33:49.604780",
            "user_variable_name": "missing_values",
            "variable_name": "missing_values"
          },
          "c694dfd4-eb21-4bc5-96bc-636e5764d806": {
            "applied_filters": [],
            "dataframe_info": {
              "default_index_used": false,
              "orig_num_cols": 1,
              "orig_num_rows": 12,
              "orig_size_bytes": 192,
              "truncated_num_cols": 1,
              "truncated_num_rows": 12,
              "truncated_size_bytes": 192,
              "truncated_string_columns": []
            },
            "display_id": "c694dfd4-eb21-4bc5-96bc-636e5764d806",
            "dx_settings": {
              "ALLOW_NOTEABLE_ATTRS": true,
              "COLUMN_SAMPLING_METHOD": "outer",
              "DB_LOCATION": ":memory:",
              "DEV_MODE": false,
              "DISPLAY_MAX_COLUMNS": 100,
              "DISPLAY_MAX_ROWS": 50000,
              "DISPLAY_MODE": "simple",
              "ENABLE_ASSIGNMENT": true,
              "ENABLE_DATALINK": true,
              "FLATTEN_COLUMN_VALUES": true,
              "FLATTEN_INDEX_VALUES": false,
              "GENERATE_DEX_METADATA": false,
              "HTML_TABLE_SCHEMA": false,
              "LOG_LEVEL": 30,
              "MAX_RENDER_SIZE_BYTES": 104857600,
              "MAX_STRING_LENGTH": 250,
              "NUM_PAST_SAMPLES_TRACKED": 3,
              "RANDOM_STATE": 12648430,
              "RESET_INDEX_VALUES": false,
              "ROW_SAMPLING_METHOD": "random",
              "SAMPLING_FACTOR": 0.1,
              "SAMPLING_METHOD": "random",
              "STRINGIFY_COLUMN_VALUES": true,
              "STRINGIFY_INDEX_VALUES": false
            },
            "sample_history": [],
            "sampling_time": "2023-09-04T08:02:16.331052",
            "user_variable_name": "missing_values",
            "variable_name": "missing_values"
          }
        }
      },
      "execution_count": null,
      "source": "# Step 2: Missing Values\n\n# Check for missing values in each column\nmissing_values = df.isnull().sum()\n\nmissing_values",
      "outputs": []
    },
    {
      "id": "73161fc0-35bf-4ba1-83ee-6502d84ff3d6",
      "cell_type": "code",
      "metadata": {
        "noteable": {
          "cell_type": "code",
          "output_collection_id": "ae8f40a5-055c-4b15-ad0d-97a7f110ddfb"
        },
        "ExecuteTime": {
          "end_time": "2023-09-04T08:02:16.746093+00:00",
          "start_time": "2023-09-04T08:02:16.538531+00:00"
        },
        "datalink": {
          "cabbecad-42fb-454d-a8ec-690eaf6a41d4": {
            "applied_filters": [],
            "dataframe_info": {
              "default_index_used": false,
              "orig_num_cols": 1,
              "orig_num_rows": 11,
              "orig_size_bytes": 176,
              "truncated_num_cols": 1,
              "truncated_num_rows": 11,
              "truncated_size_bytes": 176,
              "truncated_string_columns": []
            },
            "display_id": "cabbecad-42fb-454d-a8ec-690eaf6a41d4",
            "dx_settings": {
              "ALLOW_NOTEABLE_ATTRS": true,
              "COLUMN_SAMPLING_METHOD": "outer",
              "DB_LOCATION": ":memory:",
              "DEV_MODE": false,
              "DISPLAY_MAX_COLUMNS": 100,
              "DISPLAY_MAX_ROWS": 50000,
              "DISPLAY_MODE": "simple",
              "ENABLE_ASSIGNMENT": true,
              "ENABLE_DATALINK": true,
              "FLATTEN_COLUMN_VALUES": true,
              "FLATTEN_INDEX_VALUES": false,
              "GENERATE_DEX_METADATA": false,
              "HTML_TABLE_SCHEMA": false,
              "LOG_LEVEL": 30,
              "MAX_RENDER_SIZE_BYTES": 104857600,
              "MAX_STRING_LENGTH": 250,
              "NUM_PAST_SAMPLES_TRACKED": 3,
              "RANDOM_STATE": 12648430,
              "RESET_INDEX_VALUES": false,
              "ROW_SAMPLING_METHOD": "random",
              "SAMPLING_FACTOR": 0.1,
              "SAMPLING_METHOD": "random",
              "STRINGIFY_COLUMN_VALUES": true,
              "STRINGIFY_INDEX_VALUES": false
            },
            "sample_history": [],
            "sampling_time": "2023-09-04T07:34:24.040081",
            "user_variable_name": "updated_data_types",
            "variable_name": "updated_data_types"
          },
          "dc70c71b-07c8-4105-ad44-e5eeb8c490a2": {
            "applied_filters": [],
            "dataframe_info": {
              "default_index_used": false,
              "orig_num_cols": 1,
              "orig_num_rows": 12,
              "orig_size_bytes": 192,
              "truncated_num_cols": 1,
              "truncated_num_rows": 12,
              "truncated_size_bytes": 192,
              "truncated_string_columns": []
            },
            "display_id": "dc70c71b-07c8-4105-ad44-e5eeb8c490a2",
            "dx_settings": {
              "ALLOW_NOTEABLE_ATTRS": true,
              "COLUMN_SAMPLING_METHOD": "outer",
              "DB_LOCATION": ":memory:",
              "DEV_MODE": false,
              "DISPLAY_MAX_COLUMNS": 100,
              "DISPLAY_MAX_ROWS": 50000,
              "DISPLAY_MODE": "simple",
              "ENABLE_ASSIGNMENT": true,
              "ENABLE_DATALINK": true,
              "FLATTEN_COLUMN_VALUES": true,
              "FLATTEN_INDEX_VALUES": false,
              "GENERATE_DEX_METADATA": false,
              "HTML_TABLE_SCHEMA": false,
              "LOG_LEVEL": 30,
              "MAX_RENDER_SIZE_BYTES": 104857600,
              "MAX_STRING_LENGTH": 250,
              "NUM_PAST_SAMPLES_TRACKED": 3,
              "RANDOM_STATE": 12648430,
              "RESET_INDEX_VALUES": false,
              "ROW_SAMPLING_METHOD": "random",
              "SAMPLING_FACTOR": 0.1,
              "SAMPLING_METHOD": "random",
              "STRINGIFY_COLUMN_VALUES": true,
              "STRINGIFY_INDEX_VALUES": false
            },
            "sample_history": [],
            "sampling_time": "2023-09-04T08:02:16.588531",
            "user_variable_name": "data_types",
            "variable_name": "data_types"
          }
        }
      },
      "execution_count": null,
      "source": "# Step 3: Data Types\n\n# Convert object columns to category data type for efficiency\ncategorical_columns = ['Gender', 'Occupation', 'Education', 'Marital Status', 'Online Purchase Frequency', 'Preferred Shopping Mode', 'Loyalty Program Member']\nfor col in categorical_columns:\n    df[col] = df[col].astype('category')\n\n# Display the updated data types\nupdated_data_types = df.dtypes\n\nupdated_data_types",
      "outputs": []
    },
    {
      "id": "200d82c5-cb45-4294-b4a0-2cc0bf192622",
      "cell_type": "code",
      "metadata": {
        "noteable": {
          "cell_type": "code",
          "output_collection_id": "5aa18b58-7dd9-46c4-8e7e-22764acc0405"
        },
        "ExecuteTime": {
          "end_time": "2023-09-04T08:02:16.917629+00:00",
          "start_time": "2023-09-04T08:02:16.752639+00:00"
        }
      },
      "execution_count": null,
      "source": "# Step 4: Unique Values\n\n# Check for columns with a single unique value\nunique_values = df.nunique()\ncolumns_with_single_unique_value = unique_values[unique_values == 1].index.tolist()\n\ncolumns_with_single_unique_value",
      "outputs": []
    },
    {
      "id": "bde46feb-83fc-4da3-9ec6-426bd725f4f0",
      "cell_type": "code",
      "metadata": {
        "noteable": {
          "cell_type": "code",
          "output_collection_id": "190ef7e5-b8fe-41d8-88ec-bc52f1775d94"
        },
        "ExecuteTime": {
          "end_time": "2023-09-04T08:02:17.135850+00:00",
          "start_time": "2023-09-04T08:02:16.922867+00:00"
        },
        "datalink": {
          "446962fa-1d74-4bf8-80be-43c5996269b2": {
            "applied_filters": [],
            "dataframe_info": {
              "default_index_used": false,
              "orig_num_cols": 4,
              "orig_num_rows": 8,
              "orig_size_bytes": 320,
              "truncated_num_cols": 4,
              "truncated_num_rows": 8,
              "truncated_size_bytes": 320,
              "truncated_string_columns": []
            },
            "display_id": "446962fa-1d74-4bf8-80be-43c5996269b2",
            "dx_settings": {
              "ALLOW_NOTEABLE_ATTRS": true,
              "COLUMN_SAMPLING_METHOD": "outer",
              "DB_LOCATION": ":memory:",
              "DEV_MODE": false,
              "DISPLAY_MAX_COLUMNS": 100,
              "DISPLAY_MAX_ROWS": 50000,
              "DISPLAY_MODE": "simple",
              "ENABLE_ASSIGNMENT": true,
              "ENABLE_DATALINK": true,
              "FLATTEN_COLUMN_VALUES": true,
              "FLATTEN_INDEX_VALUES": false,
              "GENERATE_DEX_METADATA": false,
              "HTML_TABLE_SCHEMA": false,
              "LOG_LEVEL": 30,
              "MAX_RENDER_SIZE_BYTES": 104857600,
              "MAX_STRING_LENGTH": 250,
              "NUM_PAST_SAMPLES_TRACKED": 3,
              "RANDOM_STATE": 12648430,
              "RESET_INDEX_VALUES": false,
              "ROW_SAMPLING_METHOD": "random",
              "SAMPLING_FACTOR": 0.1,
              "SAMPLING_METHOD": "random",
              "STRINGIFY_COLUMN_VALUES": true,
              "STRINGIFY_INDEX_VALUES": false
            },
            "sample_history": [],
            "sampling_time": "2023-09-04T07:35:14.600649",
            "user_variable_name": "statistical_summary",
            "variable_name": "statistical_summary"
          },
          "74a5e373-54fc-4a37-9ae9-87576f25c18a": {
            "applied_filters": [],
            "dataframe_info": {
              "default_index_used": false,
              "orig_num_cols": 5,
              "orig_num_rows": 8,
              "orig_size_bytes": 384,
              "truncated_num_cols": 5,
              "truncated_num_rows": 8,
              "truncated_size_bytes": 384,
              "truncated_string_columns": []
            },
            "display_id": "74a5e373-54fc-4a37-9ae9-87576f25c18a",
            "dx_settings": {
              "ALLOW_NOTEABLE_ATTRS": true,
              "COLUMN_SAMPLING_METHOD": "outer",
              "DB_LOCATION": ":memory:",
              "DEV_MODE": false,
              "DISPLAY_MAX_COLUMNS": 100,
              "DISPLAY_MAX_ROWS": 50000,
              "DISPLAY_MODE": "simple",
              "ENABLE_ASSIGNMENT": true,
              "ENABLE_DATALINK": true,
              "FLATTEN_COLUMN_VALUES": true,
              "FLATTEN_INDEX_VALUES": false,
              "GENERATE_DEX_METADATA": false,
              "HTML_TABLE_SCHEMA": false,
              "LOG_LEVEL": 30,
              "MAX_RENDER_SIZE_BYTES": 104857600,
              "MAX_STRING_LENGTH": 250,
              "NUM_PAST_SAMPLES_TRACKED": 3,
              "RANDOM_STATE": 12648430,
              "RESET_INDEX_VALUES": false,
              "ROW_SAMPLING_METHOD": "random",
              "SAMPLING_FACTOR": 0.1,
              "SAMPLING_METHOD": "random",
              "STRINGIFY_COLUMN_VALUES": true,
              "STRINGIFY_INDEX_VALUES": false
            },
            "sample_history": [],
            "sampling_time": "2023-09-04T08:02:16.976363",
            "user_variable_name": "statistical_summary",
            "variable_name": "statistical_summary"
          }
        }
      },
      "execution_count": null,
      "source": "# Step 5: Statistical Summary\n\n# Get a statistical overview of the numerical columns\nstatistical_summary = df.describe()\n\nstatistical_summary",
      "outputs": []
    },
    {
      "id": "78364c10-bdd9-4170-9aed-02b6a507d4ee",
      "cell_type": "code",
      "metadata": {
        "noteable": {
          "cell_type": "code",
          "output_collection_id": "1dc40778-48ec-4428-a6ab-4796a9105925"
        },
        "ExecuteTime": {
          "end_time": "2023-09-04T08:02:17.655858+00:00",
          "start_time": "2023-09-04T08:02:17.140070+00:00"
        },
        "scrolled": false
      },
      "execution_count": null,
      "source": "# Step 6: Outliers\n\n# Set the style for seaborn plots\nsns.set_style('whitegrid')\n\n# Plot boxplots for numerical columns to identify outliers\nnumerical_columns = ['Age', 'Annual Income (k$)', 'Spending Score (1-100)']\nplt.figure(figsize=(15, 7))\n\nfor i, col in enumerate(numerical_columns, 1):\n    plt.subplot(1, 3, i)\n    sns.boxplot(y=df[col])\n    plt.title(f'Boxplot of {col}')\n    plt.ylabel(col)\n\nplt.tight_layout()\nplt.show()",
      "outputs": []
    },
    {
      "id": "dc22253d-509b-446c-8bb8-ed2e926ff927",
      "cell_type": "markdown",
      "source": "Age: The distribution of age seems fairly normal with no visible outliers.\n\nAnnual Income (k$): The distribution of annual income is slightly right-skewed, but there are no clear outliers.\n\nSpending Score (1-100): The spending score is uniformly distributed across the range, and there are no outliers.\n\nFrom the boxplots, it appears that the dataset is relatively clean and doesn't have any significant outliers that might skew our analysis.",
      "metadata": {}
    },
    {
      "id": "0b8e43a4-8c4d-4fd6-b177-9d868f5bbcc7",
      "cell_type": "code",
      "metadata": {
        "noteable": {
          "cell_type": "code",
          "output_collection_id": "dce9a989-5a0a-41f3-b1db-70ceeae11419"
        },
        "ExecuteTime": {
          "end_time": "2023-09-04T08:02:18.401049+00:00",
          "start_time": "2023-09-04T08:02:17.848547+00:00"
        }
      },
      "execution_count": null,
      "source": "from sklearn.preprocessing import StandardScaler\nfrom sklearn.cluster import KMeans\n\n# Selecting numerical columns for clustering\nfeatures = ['Age', 'Annual Income (k$)', 'Spending Score (1-100)']\nX = df[features]\n\n# Standardize the data\nscaler = StandardScaler()\nX_scaled = scaler.fit_transform(X)\n\n# Determine the optimal number of clusters using the Elbow Method\ninertia = []\nfor i in range(1, 11):\n    kmeans = KMeans(n_clusters=i, random_state=42)\n    kmeans.fit(X_scaled)\n    inertia.append(kmeans.inertia_)\n\n# Plotting the Elbow Method graph\nplt.figure(figsize=(10, 6))\nplt.plot(range(1, 11), inertia, marker='o', linestyle='--')\nplt.title('Elbow Method')\nplt.xlabel('Number of clusters')\nplt.ylabel('Inertia')\nplt.show()",
      "outputs": []
    },
    {
      "id": "84b0df6e-cf25-4bc0-806c-df4615c0e187",
      "cell_type": "markdown",
      "source": "From the graph, it appears that the elbow is around 5 clusters. This suggests that choosing K=5 might be a good choice for our dataset.",
      "metadata": {}
    },
    {
      "id": "e54a3ccb-dc01-49f6-ad02-f956cc5fa8b9",
      "cell_type": "code",
      "metadata": {
        "noteable": {
          "cell_type": "code",
          "output_collection_id": "fa217eae-ef8a-40de-b9ba-2b67bf7ba25d"
        },
        "ExecuteTime": {
          "end_time": "2023-09-04T08:02:18.880361+00:00",
          "start_time": "2023-09-04T08:02:18.623355+00:00"
        },
        "datalink": {
          "72e0a78a-3519-4bbe-94bb-50642128148d": {
            "applied_filters": [],
            "dataframe_info": {
              "default_index_used": true,
              "orig_num_cols": 12,
              "orig_num_rows": 5,
              "orig_size_bytes": 1531,
              "truncated_num_cols": 12,
              "truncated_num_rows": 5,
              "truncated_size_bytes": 1531,
              "truncated_string_columns": []
            },
            "display_id": "72e0a78a-3519-4bbe-94bb-50642128148d",
            "dx_settings": {
              "ALLOW_NOTEABLE_ATTRS": true,
              "COLUMN_SAMPLING_METHOD": "outer",
              "DB_LOCATION": ":memory:",
              "DEV_MODE": false,
              "DISPLAY_MAX_COLUMNS": 100,
              "DISPLAY_MAX_ROWS": 50000,
              "DISPLAY_MODE": "simple",
              "ENABLE_ASSIGNMENT": true,
              "ENABLE_DATALINK": true,
              "FLATTEN_COLUMN_VALUES": true,
              "FLATTEN_INDEX_VALUES": false,
              "GENERATE_DEX_METADATA": false,
              "HTML_TABLE_SCHEMA": false,
              "LOG_LEVEL": 30,
              "MAX_RENDER_SIZE_BYTES": 104857600,
              "MAX_STRING_LENGTH": 250,
              "NUM_PAST_SAMPLES_TRACKED": 3,
              "RANDOM_STATE": 12648430,
              "RESET_INDEX_VALUES": false,
              "ROW_SAMPLING_METHOD": "random",
              "SAMPLING_FACTOR": 0.1,
              "SAMPLING_METHOD": "random",
              "STRINGIFY_COLUMN_VALUES": true,
              "STRINGIFY_INDEX_VALUES": false
            },
            "sample_history": [],
            "sampling_time": "2023-09-04T07:41:43.407688",
            "user_variable_name": null,
            "variable_name": "unk_dataframe_c4a37061933247808fe62b50a63c05a5"
          },
          "3b5deb9e-872a-4513-a41d-25c2c1cce9d7": {
            "applied_filters": [],
            "dataframe_info": {
              "default_index_used": true,
              "orig_num_cols": 12,
              "orig_num_rows": 5,
              "orig_size_bytes": 1531,
              "truncated_num_cols": 12,
              "truncated_num_rows": 5,
              "truncated_size_bytes": 1531,
              "truncated_string_columns": []
            },
            "display_id": "3b5deb9e-872a-4513-a41d-25c2c1cce9d7",
            "dx_settings": {
              "ALLOW_NOTEABLE_ATTRS": true,
              "COLUMN_SAMPLING_METHOD": "outer",
              "DB_LOCATION": ":memory:",
              "DEV_MODE": false,
              "DISPLAY_MAX_COLUMNS": 100,
              "DISPLAY_MAX_ROWS": 50000,
              "DISPLAY_MODE": "simple",
              "ENABLE_ASSIGNMENT": true,
              "ENABLE_DATALINK": true,
              "FLATTEN_COLUMN_VALUES": true,
              "FLATTEN_INDEX_VALUES": false,
              "GENERATE_DEX_METADATA": false,
              "HTML_TABLE_SCHEMA": false,
              "LOG_LEVEL": 30,
              "MAX_RENDER_SIZE_BYTES": 104857600,
              "MAX_STRING_LENGTH": 250,
              "NUM_PAST_SAMPLES_TRACKED": 3,
              "RANDOM_STATE": 12648430,
              "RESET_INDEX_VALUES": false,
              "ROW_SAMPLING_METHOD": "random",
              "SAMPLING_FACTOR": 0.1,
              "SAMPLING_METHOD": "random",
              "STRINGIFY_COLUMN_VALUES": true,
              "STRINGIFY_INDEX_VALUES": false
            },
            "sample_history": [],
            "sampling_time": "2023-09-04T08:02:18.712625",
            "user_variable_name": null,
            "variable_name": "unk_dataframe_7eb48e4ec25241538590046a34e5bcaa"
          }
        }
      },
      "execution_count": null,
      "source": "# Apply K-Means clustering with 5 clusters\nkmeans = KMeans(n_clusters=5, random_state=42)\nclusters = kmeans.fit_predict(X_scaled)\n\n# Add the cluster labels to the original dataframe\ndf['Cluster'] = clusters\n\n# Display the first few rows of the dataframe with cluster labels\ndf.head()",
      "outputs": []
    },
    {
      "id": "d9443105-0ba2-47b8-bee0-bdbb9db81d3e",
      "cell_type": "markdown",
      "source": "The \"Cluster\" column indicates the cluster to which each customer belongs, ranging from 0 to 4 (since we chose 5 clusters).",
      "metadata": {}
    },
    {
      "id": "04da4325-2115-47d3-a92f-af45b0b09cc7",
      "cell_type": "code",
      "metadata": {
        "noteable": {
          "cell_type": "code",
          "output_collection_id": "5074df64-1169-4636-b7fb-112e8b684528"
        },
        "ExecuteTime": {
          "end_time": "2023-09-04T08:02:19.091829+00:00",
          "start_time": "2023-09-04T08:02:18.885916+00:00"
        },
        "datalink": {
          "a44e014c-5de2-431c-a2c6-df545221ff17": {
            "applied_filters": [],
            "dataframe_info": {
              "default_index_used": false,
              "orig_num_cols": 3,
              "orig_num_rows": 5,
              "orig_size_bytes": 160,
              "truncated_num_cols": 3,
              "truncated_num_rows": 5,
              "truncated_size_bytes": 160,
              "truncated_string_columns": []
            },
            "display_id": "a44e014c-5de2-431c-a2c6-df545221ff17",
            "dx_settings": {
              "ALLOW_NOTEABLE_ATTRS": true,
              "COLUMN_SAMPLING_METHOD": "outer",
              "DB_LOCATION": ":memory:",
              "DEV_MODE": false,
              "DISPLAY_MAX_COLUMNS": 100,
              "DISPLAY_MAX_ROWS": 50000,
              "DISPLAY_MODE": "simple",
              "ENABLE_ASSIGNMENT": true,
              "ENABLE_DATALINK": true,
              "FLATTEN_COLUMN_VALUES": true,
              "FLATTEN_INDEX_VALUES": false,
              "GENERATE_DEX_METADATA": false,
              "HTML_TABLE_SCHEMA": false,
              "LOG_LEVEL": 30,
              "MAX_RENDER_SIZE_BYTES": 104857600,
              "MAX_STRING_LENGTH": 250,
              "NUM_PAST_SAMPLES_TRACKED": 3,
              "RANDOM_STATE": 12648430,
              "RESET_INDEX_VALUES": false,
              "ROW_SAMPLING_METHOD": "random",
              "SAMPLING_FACTOR": 0.1,
              "SAMPLING_METHOD": "random",
              "STRINGIFY_COLUMN_VALUES": true,
              "STRINGIFY_INDEX_VALUES": false
            },
            "sample_history": [],
            "sampling_time": "2023-09-04T07:44:12.326246",
            "user_variable_name": "cluster_profile_numerical",
            "variable_name": "cluster_profile_numerical"
          },
          "44e39fd0-669e-474e-aa4f-2e8cb6c906b5": {
            "applied_filters": [],
            "dataframe_info": {
              "default_index_used": false,
              "orig_num_cols": 3,
              "orig_num_rows": 5,
              "orig_size_bytes": 160,
              "truncated_num_cols": 3,
              "truncated_num_rows": 5,
              "truncated_size_bytes": 160,
              "truncated_string_columns": []
            },
            "display_id": "44e39fd0-669e-474e-aa4f-2e8cb6c906b5",
            "dx_settings": {
              "ALLOW_NOTEABLE_ATTRS": true,
              "COLUMN_SAMPLING_METHOD": "outer",
              "DB_LOCATION": ":memory:",
              "DEV_MODE": false,
              "DISPLAY_MAX_COLUMNS": 100,
              "DISPLAY_MAX_ROWS": 50000,
              "DISPLAY_MODE": "simple",
              "ENABLE_ASSIGNMENT": true,
              "ENABLE_DATALINK": true,
              "FLATTEN_COLUMN_VALUES": true,
              "FLATTEN_INDEX_VALUES": false,
              "GENERATE_DEX_METADATA": false,
              "HTML_TABLE_SCHEMA": false,
              "LOG_LEVEL": 30,
              "MAX_RENDER_SIZE_BYTES": 104857600,
              "MAX_STRING_LENGTH": 250,
              "NUM_PAST_SAMPLES_TRACKED": 3,
              "RANDOM_STATE": 12648430,
              "RESET_INDEX_VALUES": false,
              "ROW_SAMPLING_METHOD": "random",
              "SAMPLING_FACTOR": 0.1,
              "SAMPLING_METHOD": "random",
              "STRINGIFY_COLUMN_VALUES": true,
              "STRINGIFY_INDEX_VALUES": false
            },
            "sample_history": [],
            "sampling_time": "2023-09-04T08:02:18.933904",
            "user_variable_name": "cluster_profile_numerical",
            "variable_name": "cluster_profile_numerical"
          }
        }
      },
      "execution_count": null,
      "source": "# Group by the cluster labels and calculate the mean for numerical columns\ncluster_profile_numerical = df.groupby('Cluster')[['Age', 'Annual Income (k$)', 'Spending Score (1-100)']].mean()\n\ncluster_profile_numerical",
      "outputs": []
    },
    {
      "id": "1660a450-d226-4024-b4bf-1a4fa9ced0aa",
      "cell_type": "markdown",
      "source": "From the above table, we can make some preliminary observations:\n\nCluster 0: Younger customers with lower income and lower spending scores.\n\nCluster 1: Middle-aged to older customers with high income and high spending scores.\n\nCluster 2: Older customers with lower-middle income and average spending scores.\n\nCluster 3: Younger customers with middle income and high spending scores.\n\nCluster 4: Middle-aged customers with high income but lower spending scores.",
      "metadata": {}
    },
    {
      "id": "b42dc952-a4e6-43da-b0e0-f87ae80d04ab",
      "cell_type": "code",
      "metadata": {
        "noteable": {
          "cell_type": "code",
          "output_collection_id": "ce1fec5d-6381-4642-b5c2-f404e33f1cac"
        },
        "ExecuteTime": {
          "end_time": "2023-09-04T08:02:19.356961+00:00",
          "start_time": "2023-09-04T08:02:19.133783+00:00"
        },
        "datalink": {
          "a0ad6853-870d-405f-b077-6eff886a5f7b": {
            "applied_filters": [],
            "dataframe_info": {
              "default_index_used": false,
              "orig_num_cols": 7,
              "orig_num_rows": 5,
              "orig_size_bytes": 320,
              "truncated_num_cols": 7,
              "truncated_num_rows": 5,
              "truncated_size_bytes": 320,
              "truncated_string_columns": []
            },
            "display_id": "a0ad6853-870d-405f-b077-6eff886a5f7b",
            "dx_settings": {
              "ALLOW_NOTEABLE_ATTRS": true,
              "COLUMN_SAMPLING_METHOD": "outer",
              "DB_LOCATION": ":memory:",
              "DEV_MODE": false,
              "DISPLAY_MAX_COLUMNS": 100,
              "DISPLAY_MAX_ROWS": 50000,
              "DISPLAY_MODE": "simple",
              "ENABLE_ASSIGNMENT": true,
              "ENABLE_DATALINK": true,
              "FLATTEN_COLUMN_VALUES": true,
              "FLATTEN_INDEX_VALUES": false,
              "GENERATE_DEX_METADATA": false,
              "HTML_TABLE_SCHEMA": false,
              "LOG_LEVEL": 30,
              "MAX_RENDER_SIZE_BYTES": 104857600,
              "MAX_STRING_LENGTH": 250,
              "NUM_PAST_SAMPLES_TRACKED": 3,
              "RANDOM_STATE": 12648430,
              "RESET_INDEX_VALUES": false,
              "ROW_SAMPLING_METHOD": "random",
              "SAMPLING_FACTOR": 0.1,
              "SAMPLING_METHOD": "random",
              "STRINGIFY_COLUMN_VALUES": true,
              "STRINGIFY_INDEX_VALUES": false
            },
            "sample_history": [],
            "sampling_time": "2023-09-04T07:45:01.716632",
            "user_variable_name": "cluster_profile_categorical",
            "variable_name": "cluster_profile_categorical"
          },
          "a74a6a2e-0380-4374-8502-58e80facd538": {
            "applied_filters": [],
            "dataframe_info": {
              "default_index_used": false,
              "orig_num_cols": 7,
              "orig_num_rows": 5,
              "orig_size_bytes": 320,
              "truncated_num_cols": 7,
              "truncated_num_rows": 5,
              "truncated_size_bytes": 320,
              "truncated_string_columns": []
            },
            "display_id": "a74a6a2e-0380-4374-8502-58e80facd538",
            "dx_settings": {
              "ALLOW_NOTEABLE_ATTRS": true,
              "COLUMN_SAMPLING_METHOD": "outer",
              "DB_LOCATION": ":memory:",
              "DEV_MODE": false,
              "DISPLAY_MAX_COLUMNS": 100,
              "DISPLAY_MAX_ROWS": 50000,
              "DISPLAY_MODE": "simple",
              "ENABLE_ASSIGNMENT": true,
              "ENABLE_DATALINK": true,
              "FLATTEN_COLUMN_VALUES": true,
              "FLATTEN_INDEX_VALUES": false,
              "GENERATE_DEX_METADATA": false,
              "HTML_TABLE_SCHEMA": false,
              "LOG_LEVEL": 30,
              "MAX_RENDER_SIZE_BYTES": 104857600,
              "MAX_STRING_LENGTH": 250,
              "NUM_PAST_SAMPLES_TRACKED": 3,
              "RANDOM_STATE": 12648430,
              "RESET_INDEX_VALUES": false,
              "ROW_SAMPLING_METHOD": "random",
              "SAMPLING_FACTOR": 0.1,
              "SAMPLING_METHOD": "random",
              "STRINGIFY_COLUMN_VALUES": true,
              "STRINGIFY_INDEX_VALUES": false
            },
            "sample_history": [],
            "sampling_time": "2023-09-04T08:02:19.198078",
            "user_variable_name": "cluster_profile_categorical",
            "variable_name": "cluster_profile_categorical"
          }
        }
      },
      "execution_count": null,
      "source": "# Group by the cluster labels and calculate the mode for categorical columns\ncategorical_columns = ['Gender', 'Occupation', 'Education', 'Marital Status', 'Online Purchase Frequency', 'Preferred Shopping Mode', 'Loyalty Program Member']\ncluster_profile_categorical = df.groupby('Cluster')[categorical_columns].agg(lambda x: x.mode().iloc[0])\n\ncluster_profile_categorical",
      "outputs": []
    },
    {
      "id": "82578720-242b-48e3-a1aa-315c2ad4e974",
      "cell_type": "markdown",
      "source": "From the above table, we can further refine our observations:\n\nCluster 0: Younger female managers with PhDs, married, rarely purchase online, prefer online shopping, and are members of the loyalty program.\n\nCluster 1: Middle-aged to older female engineers with master's degrees, divorced, rarely purchase online, prefer in-store shopping, and are not members of the loyalty program.\n\nCluster 2: Older male doctors with high school education, single, purchase online monthly, have no preference between online and in-store shopping, and are members of the loyalty program.\n\nCluster 3: Younger female students with high school education, single, purchase online weekly, have no preference between online and in-store shopping, and are members of the loyalty program.\n\nCluster 4: Middle-aged male lawyers with PhDs, single, purchase online monthly, prefer in-store shopping, and are not members of the loyalty program.",
      "metadata": {}
    },
    {
      "id": "378f52b7-6f6e-458a-8da1-dd541f41b3b3",
      "cell_type": "code",
      "metadata": {
        "noteable": {
          "cell_type": "code",
          "output_collection_id": "d3897497-934a-41bc-91a9-596cb52a0f82"
        },
        "ExecuteTime": {
          "end_time": "2023-09-04T08:02:20.564618+00:00",
          "start_time": "2023-09-04T08:02:19.362852+00:00"
        }
      },
      "execution_count": null,
      "source": "# Visualizing the clusters\n\nplt.figure(figsize=(20, 6))\n\n# Age vs. Annual Income\nplt.subplot(1, 3, 1)\nsns.scatterplot(x='Age', y='Annual Income (k$)', hue='Cluster', data=df, palette='viridis', s=60, edgecolor='w')\nplt.title('Age vs. Annual Income')\n\n# Age vs. Spending Score\nplt.subplot(1, 3, 2)\nsns.scatterplot(x='Age', y='Spending Score (1-100)', hue='Cluster', data=df, palette='viridis', s=60, edgecolor='w')\nplt.title('Age vs. Spending Score')\n\n# Annual Income vs. Spending Score\nplt.subplot(1, 3, 3)\nsns.scatterplot(x='Annual Income (k$)', y='Spending Score (1-100)', hue='Cluster', data=df, palette='viridis', s=60, edgecolor='w')\nplt.title('Annual Income vs. Spending Score')\n\nplt.tight_layout()\nplt.show()",
      "outputs": []
    },
    {
      "id": "25956fbb-6252-4b6a-bf99-fed28b1b9ac8",
      "cell_type": "markdown",
      "source": "Here are the visualizations of the clusters based on different pairs of features:\n\nAge vs. Annual Income:\nThe clusters seem to differentiate customers primarily based on age, with younger customers having a wider range of incomes compared to older customers.\n\nAge vs. Spending Score:\nThe clusters show a clear distinction between younger customers with high spending scores and older customers with lower spending scores. There's also a cluster of middle-aged customers with average spending scores.\n\nAnnual Income vs. Spending Score:\nThis visualization provides a clear distinction between the clusters. We can see groups of customers with low income and low spending scores, high income and high spending scores, high income but low spending scores, and so on.\n\nThese visualizations provide a comprehensive view of how customers are grouped based on their age, annual income, and spending scores. The clusters can be used to devise targeted marketing strategies, personalized offers, or other business initiatives.",
      "metadata": {}
    },
    {
      "id": "ccdf2d0c-2789-4f4d-aa51-4f2c8a40f094",
      "cell_type": "code",
      "metadata": {
        "noteable": {
          "cell_type": "code",
          "output_collection_id": "ed49389f-b359-49d8-b45b-2e57661226d8"
        },
        "ExecuteTime": {
          "end_time": "2023-09-04T08:02:21.147916+00:00",
          "start_time": "2023-09-04T08:02:20.961774+00:00"
        },
        "scrolled": true
      },
      "execution_count": null,
      "source": "# Detailed Cluster Profiles and Cluster Sizes\n\n# Cluster sizes\ncluster_sizes = df['Cluster'].value_counts().sort_index()\n\n# Detailed profiles for numerical columns\ncluster_profiles_numerical = df.groupby('Cluster')[['Age', 'Annual Income (k$)', 'Spending Score (1-100)']].describe()\n\ncluster_sizes, cluster_profiles_numerical",
      "outputs": []
    },
    {
      "id": "e1f366bd-24da-4abd-a04c-80dd82b5f30d",
      "cell_type": "markdown",
      "source": "Detailed Profiles for Numerical Columns:\n\nCluster 0 (164 customers):\n\nAge: Ranges from 18 to 52 years, with an average age of ~32.4 years.\nAnnual Income: Ranges from $10k to $58k, with an average income of ~$29.9k.\nSpending Score: Ranges from 1 to 63, with an average score of ~25.0.\n\nCluster 1 (185 customers):\n\nAge: Ranges from 28 to 69 years, with an average age of ~52.7 years.\nAnnual Income: Ranges from $45k to $99k, with an average income of ~$79.2k.\nSpending Score: Ranges from 27 to 100, with an average score of ~74.8.\n\nCluster 2 (242 customers):\n\nAge: Ranges from 44 to 69 years, with an average age of ~59.0 years.\nAnnual Income: Ranges from $10k to $78k, with an average income of ~$36.2k.\nSpending Score: Ranges from 3 to 100, with an average score of ~49.7.\n\nCluster 3 (208 customers):\n\nAge: Ranges from 18 to 52 years, with an average age of ~30.7 years.\nAnnual Income: Ranges from $10k to $96k, with an average income of ~$47.4k.\nSpending Score: Ranges from 44 to 100, with an average score of ~76.3.\n\nCluster 4 (201 customers):\n\nAge: Ranges from 18 to 68 years, with an average age of ~38.3 years.\nAnnual Income: Ranges from $52k to $99k, with an average income of ~$78.8k.\nSpending Score: Ranges from 1 to 65, with an average score of ~24.0.",
      "metadata": {}
    },
    {
      "id": "63498d03-6336-4ac3-88cd-68f1e31a5877",
      "cell_type": "code",
      "metadata": {
        "noteable": {
          "cell_type": "code",
          "output_collection_id": "e4407e84-a6fb-4eb9-997e-bf6e44da334f"
        },
        "ExecuteTime": {
          "end_time": "2023-09-04T08:02:22.241028+00:00",
          "start_time": "2023-09-04T08:02:21.154003+00:00"
        }
      },
      "execution_count": null,
      "source": "# Visualizing the distribution of features within each cluster\n\nfeatures_to_visualize = ['Age', 'Annual Income (k$)', 'Spending Score (1-100)']\nn_clusters = 5\n\nplt.figure(figsize=(15, 10))\n\nfor i, feature in enumerate(features_to_visualize, 1):\n    plt.subplot(3, 1, i)\n    for cluster in range(n_clusters):\n        sns.kdeplot(df[df['Cluster'] == cluster][feature], label=f'Cluster {cluster}', shade=True)\n    plt.title(f'Distribution of {feature} by Cluster')\n    plt.legend()\n\nplt.tight_layout()\nplt.show()",
      "outputs": []
    },
    {
      "id": "ad2e0d8c-315e-4ac5-84a9-549fd4d9aedf",
      "cell_type": "markdown",
      "source": "The density plots provide insights into the distribution of Age, Annual Income (k$), and Spending Score (1-100) across the different clusters:\n\nAge:\n\nCluster 0 & 3: Dominated by younger customers.\n\nCluster 1: Primarily consists of middle-aged to older customers.\n\nCluster 2: Dominated by older customers.\n\nCluster 4: Has a broader age range but peaks around middle age.\n\nAnnual Income (k$):\n\nCluster 0: Customers with lower incomes.\n\nCluster 1 & 4: Customers with higher incomes.\n\nCluster 2: A wider range of incomes but peaks in the lower-middle range.\n\nCluster 3: Middle income range.\n\nSpending Score (1-100):\n\nCluster 0 & 4: Customers with lower spending scores.\n\nCluster 1 & 3: Customers with higher spending scores.\n\nCluster 2: Average spending scores.",
      "metadata": {}
    },
    {
      "id": "be3f1d32-7d99-4258-bd7a-44d46855e922",
      "cell_type": "code",
      "metadata": {
        "noteable": {
          "cell_type": "code",
          "output_collection_id": "1b2a747d-a0a0-431c-9d89-81c39bd34d58"
        },
        "ExecuteTime": {
          "end_time": "2023-09-04T08:02:22.723946+00:00",
          "start_time": "2023-09-04T08:02:22.516892+00:00"
        },
        "datalink": {
          "7d304c83-6b53-48e9-9b0d-3a76202ad6fd": {
            "applied_filters": [],
            "dataframe_info": {
              "default_index_used": true,
              "orig_num_cols": 3,
              "orig_num_rows": 5,
              "orig_size_bytes": 160,
              "truncated_num_cols": 3,
              "truncated_num_rows": 5,
              "truncated_size_bytes": 160,
              "truncated_string_columns": []
            },
            "display_id": "7d304c83-6b53-48e9-9b0d-3a76202ad6fd",
            "dx_settings": {
              "ALLOW_NOTEABLE_ATTRS": true,
              "COLUMN_SAMPLING_METHOD": "outer",
              "DB_LOCATION": ":memory:",
              "DEV_MODE": false,
              "DISPLAY_MAX_COLUMNS": 100,
              "DISPLAY_MAX_ROWS": 50000,
              "DISPLAY_MODE": "simple",
              "ENABLE_ASSIGNMENT": true,
              "ENABLE_DATALINK": true,
              "FLATTEN_COLUMN_VALUES": true,
              "FLATTEN_INDEX_VALUES": false,
              "GENERATE_DEX_METADATA": false,
              "HTML_TABLE_SCHEMA": false,
              "LOG_LEVEL": 30,
              "MAX_RENDER_SIZE_BYTES": 104857600,
              "MAX_STRING_LENGTH": 250,
              "NUM_PAST_SAMPLES_TRACKED": 3,
              "RANDOM_STATE": 12648430,
              "RESET_INDEX_VALUES": false,
              "ROW_SAMPLING_METHOD": "random",
              "SAMPLING_FACTOR": 0.1,
              "SAMPLING_METHOD": "random",
              "STRINGIFY_COLUMN_VALUES": true,
              "STRINGIFY_INDEX_VALUES": false
            },
            "sample_history": [],
            "sampling_time": "2023-09-04T07:54:05.909030",
            "user_variable_name": "centroids",
            "variable_name": "centroids"
          },
          "70070975-a44b-48c2-9d72-f6fcb27c0683": {
            "applied_filters": [],
            "dataframe_info": {
              "default_index_used": true,
              "orig_num_cols": 3,
              "orig_num_rows": 5,
              "orig_size_bytes": 160,
              "truncated_num_cols": 3,
              "truncated_num_rows": 5,
              "truncated_size_bytes": 160,
              "truncated_string_columns": []
            },
            "display_id": "70070975-a44b-48c2-9d72-f6fcb27c0683",
            "dx_settings": {
              "ALLOW_NOTEABLE_ATTRS": true,
              "COLUMN_SAMPLING_METHOD": "outer",
              "DB_LOCATION": ":memory:",
              "DEV_MODE": false,
              "DISPLAY_MAX_COLUMNS": 100,
              "DISPLAY_MAX_ROWS": 50000,
              "DISPLAY_MODE": "simple",
              "ENABLE_ASSIGNMENT": true,
              "ENABLE_DATALINK": true,
              "FLATTEN_COLUMN_VALUES": true,
              "FLATTEN_INDEX_VALUES": false,
              "GENERATE_DEX_METADATA": false,
              "HTML_TABLE_SCHEMA": false,
              "LOG_LEVEL": 30,
              "MAX_RENDER_SIZE_BYTES": 104857600,
              "MAX_STRING_LENGTH": 250,
              "NUM_PAST_SAMPLES_TRACKED": 3,
              "RANDOM_STATE": 12648430,
              "RESET_INDEX_VALUES": false,
              "ROW_SAMPLING_METHOD": "random",
              "SAMPLING_FACTOR": 0.1,
              "SAMPLING_METHOD": "random",
              "STRINGIFY_COLUMN_VALUES": true,
              "STRINGIFY_INDEX_VALUES": false
            },
            "sample_history": [],
            "sampling_time": "2023-09-04T08:02:22.565309",
            "user_variable_name": "centroids",
            "variable_name": "centroids"
          }
        }
      },
      "execution_count": null,
      "source": "# Analyzing the centroids of each cluster\ncentroids = pd.DataFrame(kmeans.cluster_centers_, columns=['Age', 'Annual Income (k$)', 'Spending Score (1-100)'])\ncentroids",
      "outputs": []
    },
    {
      "id": "69bb3dd5-a4c2-4b52-866a-efa52defffe3",
      "cell_type": "code",
      "metadata": {
        "noteable": {
          "cell_type": "code",
          "output_collection_id": "eec5792f-36ea-4bd7-87e2-98fab926a383"
        },
        "ExecuteTime": {
          "end_time": "2023-09-04T08:02:22.888227+00:00",
          "start_time": "2023-09-04T08:02:22.729264+00:00"
        }
      },
      "execution_count": null,
      "source": "# Checking the number of unique cluster labels and centroids\nunique_clusters = df['Cluster'].unique()\nnumber_of_centroids = centroids.shape[0]\n\nunique_clusters, number_of_centroids",
      "outputs": []
    },
    {
      "id": "8d8e8170-51fe-4815-ac91-dba525687631",
      "cell_type": "code",
      "metadata": {
        "noteable": {
          "cell_type": "code",
          "output_collection_id": "da347ad5-8225-448f-a41f-09c51c7e830d"
        },
        "ExecuteTime": {
          "end_time": "2023-09-04T08:02:24.090146+00:00",
          "start_time": "2023-09-04T08:02:22.934116+00:00"
        }
      },
      "execution_count": null,
      "source": "# Re-visualizing the centroids alongside the data points with the legend outside the plot\n\nplt.figure(figsize=(20, 6))\n\n# Age vs. Annual Income\nplt.subplot(1, 3, 1)\nsns.scatterplot(x=df['Age'], y=df['Annual Income (k$)'], hue='Cluster', data=df, palette='viridis', s=60, edgecolor='w', alpha=0.7)\nsns.scatterplot(x=centroids_original[:, 0], y=centroids_original[:, 1], color='red', s=200, label='Centroids', marker='X')\nplt.title('Age vs. Annual Income with Centroids')\nplt.legend(loc='upper left', bbox_to_anchor=(1, 1))\n\n# Age vs. Spending Score\nplt.subplot(1, 3, 2)\nsns.scatterplot(x=df['Age'], y=df['Spending Score (1-100)'], hue='Cluster', data=df, palette='viridis', s=60, edgecolor='w', alpha=0.7)\nsns.scatterplot(x=centroids_original[:, 0], y=centroids_original[:, 2], color='red', s=200, label='Centroids', marker='X')\nplt.title('Age vs. Spending Score with Centroids')\nplt.legend(loc='upper left', bbox_to_anchor=(1, 1))\n\n# Annual Income vs. Spending Score\nplt.subplot(1, 3, 3)\nsns.scatterplot(x=df['Annual Income (k$)'], y=df['Spending Score (1-100)'], hue='Cluster', data=df, palette='viridis', s=60, edgecolor='w', alpha=0.7)\nsns.scatterplot(x=centroids_original[:, 1], y=centroids_original[:, 2], color='red', s=200, label='Centroids', marker='X')\nplt.title('Annual Income vs. Spending Score with Centroids')\nplt.legend(loc='upper left', bbox_to_anchor=(1, 1))\n\nplt.tight_layout()\nplt.show()",
      "outputs": []
    },
    {
      "id": "ac6696fa-c35b-4e6a-a623-06f5ce785fd3",
      "cell_type": "markdown",
      "source": "From the centroids, we can infer the following:\n\nCluster 0: Represents younger customers with lower incomes and lower spending scores.\n\nCluster 1: Represents middle-aged to older customers with higher incomes and higher spending scores.\n\nCluster 2: Represents older customers with moderate incomes and average spending scores.\n\nCluster 3: Represents younger customers with average incomes but higher spending scores.\n\nCluster 4: Represents middle-aged customers with higher incomes but lower spending scores.\n\nThese centroids essentially provide a summary of the \"average\" customer in each cluster, which can be useful for understanding the core characteristics of each segment.\n\nWith these insights, businesses can tailor their marketing campaigns, product offerings, and services to cater to the specific needs and preferences of each customer segment.",
      "metadata": {}
    }
  ]
}