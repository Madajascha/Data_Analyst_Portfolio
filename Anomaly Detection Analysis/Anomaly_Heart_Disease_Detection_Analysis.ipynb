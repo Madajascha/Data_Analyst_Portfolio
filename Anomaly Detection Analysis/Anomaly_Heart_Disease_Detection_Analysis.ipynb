{
  "nbformat": 4,
  "nbformat_minor": 5,
  "metadata": {
    "noteable-chatgpt": {
      "create_notebook": {
        "openai_conversation_id": "7e94f76b-0f19-57a8-87bd-ba8cf9bdb593",
        "openai_ephemeral_user_id": "ec41b749-6b7a-5bba-b732-6ac5a21e8455",
        "openai_subdivision1_iso_code": "AU-VIC"
      }
    },
    "kernel_info": {
      "name": "python3"
    },
    "kernelspec": {
      "display_name": "Python 3.9",
      "identifier": "legacy",
      "language": "python",
      "language_version": "3.9",
      "name": "python3"
    },
    "selected_hardware_size": "small"
  },
  "cells": [
    {
      "id": "eb5ab705-08c4-4424-bf45-e96fde5fa7f0",
      "cell_type": "code",
      "metadata": {
        "noteable": {
          "cell_type": "python",
          "output_collection_id": "81c57bc6-59fa-47af-9c81-b4fa536ea08c"
        },
        "ExecuteTime": {
          "end_time": "2023-10-16T05:39:00.109062+00:00",
          "start_time": "2023-10-16T05:38:59.949632+00:00"
        }
      },
      "execution_count": null,
      "source": "'''\nOnly 14 attributes used:\n      1. #3  (age)       \n      2. #4  (sex)       \n      3. #9  (cp)        \n      4. #10 (trestbps)  \n      5. #12 (chol)      \n      6. #16 (fbs)       \n      7. #19 (restecg)   \n      8. #32 (thalach)   \n      9. #38 (exang)     \n      10. #40 (oldpeak)   \n      11. #41 (slope)     \n      12. #44 (ca)        \n      13. #51 (thal)      \n      14. #58 (num)       (the predicted attribute)\n      \nComplete attribute documentation:\n      1 id: patient identification number\n      2 ccf: social security number (I replaced this with a dummy value of 0)\n      3 age: age in years\n      4 sex: sex (1 = male; 0 = female)\n      5 painloc: chest pain location (1 = substernal; 0 = otherwise)\n      6 painexer (1 = provoked by exertion; 0 = otherwise)\n      7 relrest (1 = relieved after rest; 0 = otherwise)\n      8 pncaden (sum of 5, 6, and 7)\n      9 cp: chest pain type\n        -- Value 1: typical angina\n        -- Value 2: atypical angina\n        -- Value 3: non-anginal pain\n        -- Value 4: asymptomatic\n     10 trestbps: resting blood pressure (in mm Hg on admission to the hospital)\n     11 htn\n     12 chol: serum cholestoral in mg/dl\n     13 smoke: I believe this is 1 = yes; 0 = no (is or is not a smoker)\n     14 cigs (cigarettes per day)\n     15 years (number of years as a smoker)\n     16 fbs: (fasting blood sugar > 120 mg/dl)  (1 = true; 0 = false)\n     17 dm (1 = history of diabetes; 0 = no such history)\n     18 famhist: family history of coronary artery disease (1 = yes; 0 = no)\n     19 restecg: resting electrocardiographic results\n        -- Value 0: normal\n        -- Value 1: having ST-T wave abnormality (T wave inversions and/or ST elevation or depression of > 0.05 mV)\n        -- Value 2: showing probable or definite left ventricular hypertrophy by Estes' criteria\n     20 ekgmo (month of exercise ECG reading)\n     21 ekgday(day of exercise ECG reading)\n     22 ekgyr (year of exercise ECG reading)\n     23 dig (digitalis used furing exercise ECG: 1 = yes; 0 = no)\n     24 prop (Beta blocker used during exercise ECG: 1 = yes; 0 = no)\n     25 nitr (nitrates used during exercise ECG: 1 = yes; 0 = no)\n     26 pro (calcium channel blocker used during exercise ECG: 1 = yes; 0 = no)\n     27 diuretic (diuretic used used during exercise ECG: 1 = yes; 0 = no)\n     28 proto: exercise protocol\n          1 = Bruce     \n          2 = Kottus\n          3 = McHenry\n          4 = fast Balke\n          5 = Balke\n          6 = Noughton \n          7 = bike 150 kpa min/min  (Not sure if \"kpa min/min\" is what was written!)\n          8 = bike 125 kpa min/min  \n          9 = bike 100 kpa min/min\n         10 = bike 75 kpa min/min\n         11 = bike 50 kpa min/min\n         12 = arm ergometer\n     29 thaldur: duration of exercise test in minutes\n     30 thaltime: time when ST measure depression was noted\n     31 met: mets achieved\n     32 thalach: maximum heart rate achieved\n     33 thalrest: resting heart rate\n     34 tpeakbps: peak exercise blood pressure (first of 2 parts)\n     35 tpeakbpd: peak exercise blood pressure (second of 2 parts)\n     36 dummy\n     37 trestbpd: resting blood pressure\n     38 exang: exercise induced angina (1 = yes; 0 = no)\n     39 xhypo: (1 = yes; 0 = no)\n     40 oldpeak = ST depression induced by exercise relative to rest\n     41 slope: the slope of the peak exercise ST segment\n        -- Value 1: upsloping\n        -- Value 2: flat\n        -- Value 3: downsloping\n     42 rldv5: height at rest\n     43 rldv5e: height at peak exercise\n     44 ca: number of major vessels (0-3) colored by flourosopy\n     45 restckm: irrelevant\n     46 exerckm: irrelevant\n     47 restef: rest raidonuclid (sp?) ejection fraction\n     48 restwm: rest wall (sp?) motion abnormality\n        0 = none\n        1 = mild or moderate\n        2 = moderate or severe\n        3 = akinesis or dyskmem (sp?)\n     49 exeref: exercise radinalid (sp?) ejection fraction\n     50 exerwm: exercise wall (sp?) motion \n     51 thal: 3 = normal; 6 = fixed defect; 7 = reversable defect\n     52 thalsev: not used\n     53 thalpul: not used\n     54 earlobe: not used\n     55 cmo: month of cardiac cath (sp?)  (perhaps \"call\")\n     56 cday: day of cardiac cath (sp?)\n     57 cyr: year of cardiac cath (sp?)\n     58 num: diagnosis of heart disease (angiographic disease status)\n        -- Value 0: < 50% diameter narrowing\n        -- Value 1: > 50% diameter narrowing\n        (in any major vessel: attributes 59 through 68 are vessels)\n     59 lmt\n     60 ladprox\n     61 laddist\n     62 diag\n     63 cxmain\n     64 ramus\n     65 om1\n     66 om2\n     67 rcaprox\n     68 rcadist\n     69 lvx1: not used\n     70 lvx2: not used\n     71 lvx3: not used\n     72 lvx4: not used\n     73 lvf: not used\n     74 cathef: not used\n     75 junk: not used\n     76 name: last name of patient  (I replaced this with the dummy string \"name\")\n'''",
      "outputs": []
    },
    {
      "id": "3a4aa462-3e32-4ceb-95ea-4554c031172f",
      "cell_type": "code",
      "metadata": {
        "noteable": {
          "cell_type": "code",
          "output_collection_id": "18546db3-04d0-42df-af7e-a2bead2a1d25"
        },
        "ExecuteTime": {
          "end_time": "2023-10-16T05:39:00.365276+00:00",
          "start_time": "2023-10-16T05:39:00.115596+00:00"
        },
        "datalink": {
          "e69aecaa-0083-4b2b-9ab1-d793953db100": {
            "applied_filters": [],
            "dataframe_info": {
              "default_index_used": true,
              "orig_num_cols": 14,
              "orig_num_rows": 5,
              "orig_size_bytes": 600,
              "truncated_num_cols": 14,
              "truncated_num_rows": 5,
              "truncated_size_bytes": 600,
              "truncated_string_columns": []
            },
            "display_id": "e69aecaa-0083-4b2b-9ab1-d793953db100",
            "dx_settings": {
              "ALLOW_NOTEABLE_ATTRS": true,
              "COLUMN_SAMPLING_METHOD": "outer",
              "DB_LOCATION": ":memory:",
              "DEV_MODE": false,
              "DISPLAY_MAX_COLUMNS": 100,
              "DISPLAY_MAX_ROWS": 50000,
              "DISPLAY_MODE": "simple",
              "ENABLE_ASSIGNMENT": true,
              "ENABLE_DATALINK": true,
              "FLATTEN_COLUMN_VALUES": true,
              "FLATTEN_INDEX_VALUES": false,
              "GENERATE_DEX_METADATA": false,
              "HTML_TABLE_SCHEMA": false,
              "LOG_LEVEL": 30,
              "MAX_RENDER_SIZE_BYTES": 104857600,
              "MAX_STRING_LENGTH": 250,
              "NUM_PAST_SAMPLES_TRACKED": 3,
              "RANDOM_STATE": 12648430,
              "RESET_INDEX_VALUES": false,
              "ROW_SAMPLING_METHOD": "random",
              "SAMPLING_FACTOR": 0.1,
              "SAMPLING_METHOD": "random",
              "STRINGIFY_COLUMN_VALUES": true,
              "STRINGIFY_INDEX_VALUES": false
            },
            "sample_history": [],
            "sampling_time": "2023-10-16T04:35:48.846804",
            "user_variable_name": null,
            "variable_name": "unk_dataframe_cc92f89fe95745b3b13065462d87b1ed"
          },
          "7b4cf033-7995-4d3e-a7a0-3c787418aad3": {
            "applied_filters": [],
            "dataframe_info": {
              "default_index_used": true,
              "orig_num_cols": 14,
              "orig_num_rows": 5,
              "orig_size_bytes": 600,
              "truncated_num_cols": 14,
              "truncated_num_rows": 5,
              "truncated_size_bytes": 600,
              "truncated_string_columns": []
            },
            "display_id": "7b4cf033-7995-4d3e-a7a0-3c787418aad3",
            "dx_settings": {
              "ALLOW_NOTEABLE_ATTRS": true,
              "COLUMN_SAMPLING_METHOD": "outer",
              "DB_LOCATION": ":memory:",
              "DEV_MODE": false,
              "DISPLAY_MAX_COLUMNS": 100,
              "DISPLAY_MAX_ROWS": 50000,
              "DISPLAY_MODE": "simple",
              "ENABLE_ASSIGNMENT": true,
              "ENABLE_DATALINK": true,
              "FLATTEN_COLUMN_VALUES": true,
              "FLATTEN_INDEX_VALUES": false,
              "GENERATE_DEX_METADATA": false,
              "HTML_TABLE_SCHEMA": false,
              "LOG_LEVEL": 30,
              "MAX_RENDER_SIZE_BYTES": 104857600,
              "MAX_STRING_LENGTH": 250,
              "NUM_PAST_SAMPLES_TRACKED": 3,
              "RANDOM_STATE": 12648430,
              "RESET_INDEX_VALUES": false,
              "ROW_SAMPLING_METHOD": "random",
              "SAMPLING_FACTOR": 0.1,
              "SAMPLING_METHOD": "random",
              "STRINGIFY_COLUMN_VALUES": true,
              "STRINGIFY_INDEX_VALUES": false
            },
            "sample_history": [],
            "sampling_time": "2023-10-16T05:28:32.603131",
            "user_variable_name": null,
            "variable_name": "unk_dataframe_dc0ccaf0a43c4c0faceed211dd8e260d"
          },
          "5ddb6ad8-9617-44b0-ba9e-31baec986f14": {
            "applied_filters": [],
            "dataframe_info": {
              "default_index_used": true,
              "orig_num_cols": 14,
              "orig_num_rows": 5,
              "orig_size_bytes": 600,
              "truncated_num_cols": 14,
              "truncated_num_rows": 5,
              "truncated_size_bytes": 600,
              "truncated_string_columns": []
            },
            "display_id": "5ddb6ad8-9617-44b0-ba9e-31baec986f14",
            "dx_settings": {
              "ALLOW_NOTEABLE_ATTRS": true,
              "COLUMN_SAMPLING_METHOD": "outer",
              "DB_LOCATION": ":memory:",
              "DEV_MODE": false,
              "DISPLAY_MAX_COLUMNS": 100,
              "DISPLAY_MAX_ROWS": 50000,
              "DISPLAY_MODE": "simple",
              "ENABLE_ASSIGNMENT": true,
              "ENABLE_DATALINK": true,
              "FLATTEN_COLUMN_VALUES": true,
              "FLATTEN_INDEX_VALUES": false,
              "GENERATE_DEX_METADATA": false,
              "HTML_TABLE_SCHEMA": false,
              "LOG_LEVEL": 30,
              "MAX_RENDER_SIZE_BYTES": 104857600,
              "MAX_STRING_LENGTH": 250,
              "NUM_PAST_SAMPLES_TRACKED": 3,
              "RANDOM_STATE": 12648430,
              "RESET_INDEX_VALUES": false,
              "ROW_SAMPLING_METHOD": "random",
              "SAMPLING_FACTOR": 0.1,
              "SAMPLING_METHOD": "random",
              "STRINGIFY_COLUMN_VALUES": true,
              "STRINGIFY_INDEX_VALUES": false
            },
            "sample_history": [],
            "sampling_time": "2023-10-16T05:37:19.225442",
            "user_variable_name": null,
            "variable_name": "unk_dataframe_81df258e0fba4712b0254d12877bf9cb"
          },
          "006038cd-800e-436e-9d21-9ca6ab55fc22": {
            "applied_filters": [],
            "dataframe_info": {
              "default_index_used": true,
              "orig_num_cols": 14,
              "orig_num_rows": 5,
              "orig_size_bytes": 600,
              "truncated_num_cols": 14,
              "truncated_num_rows": 5,
              "truncated_size_bytes": 600,
              "truncated_string_columns": []
            },
            "display_id": "006038cd-800e-436e-9d21-9ca6ab55fc22",
            "dx_settings": {
              "ALLOW_NOTEABLE_ATTRS": true,
              "COLUMN_SAMPLING_METHOD": "outer",
              "DB_LOCATION": ":memory:",
              "DEV_MODE": false,
              "DISPLAY_MAX_COLUMNS": 100,
              "DISPLAY_MAX_ROWS": 50000,
              "DISPLAY_MODE": "simple",
              "ENABLE_ASSIGNMENT": true,
              "ENABLE_DATALINK": true,
              "FLATTEN_COLUMN_VALUES": true,
              "FLATTEN_INDEX_VALUES": false,
              "GENERATE_DEX_METADATA": false,
              "HTML_TABLE_SCHEMA": false,
              "LOG_LEVEL": 30,
              "MAX_RENDER_SIZE_BYTES": 104857600,
              "MAX_STRING_LENGTH": 250,
              "NUM_PAST_SAMPLES_TRACKED": 3,
              "RANDOM_STATE": 12648430,
              "RESET_INDEX_VALUES": false,
              "ROW_SAMPLING_METHOD": "random",
              "SAMPLING_FACTOR": 0.1,
              "SAMPLING_METHOD": "random",
              "STRINGIFY_COLUMN_VALUES": true,
              "STRINGIFY_INDEX_VALUES": false
            },
            "sample_history": [],
            "sampling_time": "2023-10-16T05:39:00.203184",
            "user_variable_name": null,
            "variable_name": "unk_dataframe_64a034d7921b4c6ebd0f03480b5d9f0c"
          }
        }
      },
      "execution_count": null,
      "source": "import pandas as pd\n\n# Load the data from the file 'processed.cleveland.data'\ndata = pd.read_csv('processed.cleveland.data', header=None)\ndata.head()",
      "outputs": []
    },
    {
      "id": "6b02fecc-abe0-4f23-b3f9-f42995127be1",
      "cell_type": "code",
      "metadata": {
        "noteable": {
          "cell_type": "code",
          "output_collection_id": "2e797eba-add3-499f-a9f1-d7594f012da4"
        },
        "ExecuteTime": {
          "end_time": "2023-10-16T05:39:00.621457+00:00",
          "start_time": "2023-10-16T05:39:00.371878+00:00"
        },
        "datalink": {
          "fa182b08-3551-41b8-ada9-5ac06bbf9a51": {
            "applied_filters": [],
            "dataframe_info": {
              "default_index_used": true,
              "orig_num_cols": 14,
              "orig_num_rows": 5,
              "orig_size_bytes": 600,
              "truncated_num_cols": 14,
              "truncated_num_rows": 5,
              "truncated_size_bytes": 600,
              "truncated_string_columns": []
            },
            "display_id": "fa182b08-3551-41b8-ada9-5ac06bbf9a51",
            "dx_settings": {
              "ALLOW_NOTEABLE_ATTRS": true,
              "COLUMN_SAMPLING_METHOD": "outer",
              "DB_LOCATION": ":memory:",
              "DEV_MODE": false,
              "DISPLAY_MAX_COLUMNS": 100,
              "DISPLAY_MAX_ROWS": 50000,
              "DISPLAY_MODE": "simple",
              "ENABLE_ASSIGNMENT": true,
              "ENABLE_DATALINK": true,
              "FLATTEN_COLUMN_VALUES": true,
              "FLATTEN_INDEX_VALUES": false,
              "GENERATE_DEX_METADATA": false,
              "HTML_TABLE_SCHEMA": false,
              "LOG_LEVEL": 30,
              "MAX_RENDER_SIZE_BYTES": 104857600,
              "MAX_STRING_LENGTH": 250,
              "NUM_PAST_SAMPLES_TRACKED": 3,
              "RANDOM_STATE": 12648430,
              "RESET_INDEX_VALUES": false,
              "ROW_SAMPLING_METHOD": "random",
              "SAMPLING_FACTOR": 0.1,
              "SAMPLING_METHOD": "random",
              "STRINGIFY_COLUMN_VALUES": true,
              "STRINGIFY_INDEX_VALUES": false
            },
            "sample_history": [],
            "sampling_time": "2023-10-16T04:40:36.311229",
            "user_variable_name": null,
            "variable_name": "unk_dataframe_93f9b1bf50af4fe6bbf6015986ff851c"
          },
          "7216fb64-22d7-4bd5-b803-962b68a3cf1a": {
            "applied_filters": [],
            "dataframe_info": {
              "default_index_used": true,
              "orig_num_cols": 14,
              "orig_num_rows": 5,
              "orig_size_bytes": 600,
              "truncated_num_cols": 14,
              "truncated_num_rows": 5,
              "truncated_size_bytes": 600,
              "truncated_string_columns": []
            },
            "display_id": "7216fb64-22d7-4bd5-b803-962b68a3cf1a",
            "dx_settings": {
              "ALLOW_NOTEABLE_ATTRS": true,
              "COLUMN_SAMPLING_METHOD": "outer",
              "DB_LOCATION": ":memory:",
              "DEV_MODE": false,
              "DISPLAY_MAX_COLUMNS": 100,
              "DISPLAY_MAX_ROWS": 50000,
              "DISPLAY_MODE": "simple",
              "ENABLE_ASSIGNMENT": true,
              "ENABLE_DATALINK": true,
              "FLATTEN_COLUMN_VALUES": true,
              "FLATTEN_INDEX_VALUES": false,
              "GENERATE_DEX_METADATA": false,
              "HTML_TABLE_SCHEMA": false,
              "LOG_LEVEL": 30,
              "MAX_RENDER_SIZE_BYTES": 104857600,
              "MAX_STRING_LENGTH": 250,
              "NUM_PAST_SAMPLES_TRACKED": 3,
              "RANDOM_STATE": 12648430,
              "RESET_INDEX_VALUES": false,
              "ROW_SAMPLING_METHOD": "random",
              "SAMPLING_FACTOR": 0.1,
              "SAMPLING_METHOD": "random",
              "STRINGIFY_COLUMN_VALUES": true,
              "STRINGIFY_INDEX_VALUES": false
            },
            "sample_history": [],
            "sampling_time": "2023-10-16T05:28:32.894521",
            "user_variable_name": null,
            "variable_name": "unk_dataframe_7313ca5b0d3e4048a781f5cee7d556c2"
          },
          "feed9646-3ad4-42d6-a041-1a4d789c2324": {
            "applied_filters": [],
            "dataframe_info": {
              "default_index_used": true,
              "orig_num_cols": 14,
              "orig_num_rows": 5,
              "orig_size_bytes": 600,
              "truncated_num_cols": 14,
              "truncated_num_rows": 5,
              "truncated_size_bytes": 600,
              "truncated_string_columns": []
            },
            "display_id": "feed9646-3ad4-42d6-a041-1a4d789c2324",
            "dx_settings": {
              "ALLOW_NOTEABLE_ATTRS": true,
              "COLUMN_SAMPLING_METHOD": "outer",
              "DB_LOCATION": ":memory:",
              "DEV_MODE": false,
              "DISPLAY_MAX_COLUMNS": 100,
              "DISPLAY_MAX_ROWS": 50000,
              "DISPLAY_MODE": "simple",
              "ENABLE_ASSIGNMENT": true,
              "ENABLE_DATALINK": true,
              "FLATTEN_COLUMN_VALUES": true,
              "FLATTEN_INDEX_VALUES": false,
              "GENERATE_DEX_METADATA": false,
              "HTML_TABLE_SCHEMA": false,
              "LOG_LEVEL": 30,
              "MAX_RENDER_SIZE_BYTES": 104857600,
              "MAX_STRING_LENGTH": 250,
              "NUM_PAST_SAMPLES_TRACKED": 3,
              "RANDOM_STATE": 12648430,
              "RESET_INDEX_VALUES": false,
              "ROW_SAMPLING_METHOD": "random",
              "SAMPLING_FACTOR": 0.1,
              "SAMPLING_METHOD": "random",
              "STRINGIFY_COLUMN_VALUES": true,
              "STRINGIFY_INDEX_VALUES": false
            },
            "sample_history": [],
            "sampling_time": "2023-10-16T05:37:19.490227",
            "user_variable_name": null,
            "variable_name": "unk_dataframe_34be5ad86ce74e668350d3c1d0956c02"
          },
          "6344edc5-bfe1-4278-ade0-2863ffab37b4": {
            "applied_filters": [],
            "dataframe_info": {
              "default_index_used": true,
              "orig_num_cols": 14,
              "orig_num_rows": 5,
              "orig_size_bytes": 600,
              "truncated_num_cols": 14,
              "truncated_num_rows": 5,
              "truncated_size_bytes": 600,
              "truncated_string_columns": []
            },
            "display_id": "6344edc5-bfe1-4278-ade0-2863ffab37b4",
            "dx_settings": {
              "ALLOW_NOTEABLE_ATTRS": true,
              "COLUMN_SAMPLING_METHOD": "outer",
              "DB_LOCATION": ":memory:",
              "DEV_MODE": false,
              "DISPLAY_MAX_COLUMNS": 100,
              "DISPLAY_MAX_ROWS": 50000,
              "DISPLAY_MODE": "simple",
              "ENABLE_ASSIGNMENT": true,
              "ENABLE_DATALINK": true,
              "FLATTEN_COLUMN_VALUES": true,
              "FLATTEN_INDEX_VALUES": false,
              "GENERATE_DEX_METADATA": false,
              "HTML_TABLE_SCHEMA": false,
              "LOG_LEVEL": 30,
              "MAX_RENDER_SIZE_BYTES": 104857600,
              "MAX_STRING_LENGTH": 250,
              "NUM_PAST_SAMPLES_TRACKED": 3,
              "RANDOM_STATE": 12648430,
              "RESET_INDEX_VALUES": false,
              "ROW_SAMPLING_METHOD": "random",
              "SAMPLING_FACTOR": 0.1,
              "SAMPLING_METHOD": "random",
              "STRINGIFY_COLUMN_VALUES": true,
              "STRINGIFY_INDEX_VALUES": false
            },
            "sample_history": [],
            "sampling_time": "2023-10-16T05:39:00.459671",
            "user_variable_name": null,
            "variable_name": "unk_dataframe_2bcb74d25b0b49ea9a919b8fc4da152a"
          }
        }
      },
      "execution_count": null,
      "source": "# Rename the columns as per the updated names\ncolumn_names_updated = ['age', 'sex', 'cp', 'trestbps', 'chol', 'fbs', 'restecg', 'thalach', 'exang', 'oldpeak', 'slope', 'ca', 'thal', 'num']\ndata.columns = column_names_updated\ndata.head()",
      "outputs": []
    },
    {
      "id": "ce2df0d0-2cf1-41e4-9fd3-87cb1ccbde5d",
      "cell_type": "code",
      "metadata": {
        "noteable": {
          "cell_type": "code",
          "output_collection_id": "449ccb72-1f26-402f-a92b-3f1f731f7705"
        },
        "ExecuteTime": {
          "end_time": "2023-10-16T05:39:00.876733+00:00",
          "start_time": "2023-10-16T05:39:00.628408+00:00"
        },
        "datalink": {
          "819356a3-0ba7-4859-b2d8-1f99bf3b8544": {
            "applied_filters": [],
            "dataframe_info": {
              "default_index_used": true,
              "orig_num_cols": 14,
              "orig_num_rows": 5,
              "orig_size_bytes": 600,
              "truncated_num_cols": 14,
              "truncated_num_rows": 5,
              "truncated_size_bytes": 600,
              "truncated_string_columns": []
            },
            "display_id": "819356a3-0ba7-4859-b2d8-1f99bf3b8544",
            "dx_settings": {
              "ALLOW_NOTEABLE_ATTRS": true,
              "COLUMN_SAMPLING_METHOD": "outer",
              "DB_LOCATION": ":memory:",
              "DEV_MODE": false,
              "DISPLAY_MAX_COLUMNS": 100,
              "DISPLAY_MAX_ROWS": 50000,
              "DISPLAY_MODE": "simple",
              "ENABLE_ASSIGNMENT": true,
              "ENABLE_DATALINK": true,
              "FLATTEN_COLUMN_VALUES": true,
              "FLATTEN_INDEX_VALUES": false,
              "GENERATE_DEX_METADATA": false,
              "HTML_TABLE_SCHEMA": false,
              "LOG_LEVEL": 30,
              "MAX_RENDER_SIZE_BYTES": 104857600,
              "MAX_STRING_LENGTH": 250,
              "NUM_PAST_SAMPLES_TRACKED": 3,
              "RANDOM_STATE": 12648430,
              "RESET_INDEX_VALUES": false,
              "ROW_SAMPLING_METHOD": "random",
              "SAMPLING_FACTOR": 0.1,
              "SAMPLING_METHOD": "random",
              "STRINGIFY_COLUMN_VALUES": true,
              "STRINGIFY_INDEX_VALUES": false
            },
            "sample_history": [],
            "sampling_time": "2023-10-16T04:41:44.526472",
            "user_variable_name": null,
            "variable_name": "unk_dataframe_89cfec17a0614647b66319a6b94c616a"
          },
          "cb06a6e1-8517-46cc-b4f5-7055aba67eb4": {
            "applied_filters": [],
            "dataframe_info": {
              "default_index_used": true,
              "orig_num_cols": 14,
              "orig_num_rows": 5,
              "orig_size_bytes": 600,
              "truncated_num_cols": 14,
              "truncated_num_rows": 5,
              "truncated_size_bytes": 600,
              "truncated_string_columns": []
            },
            "display_id": "cb06a6e1-8517-46cc-b4f5-7055aba67eb4",
            "dx_settings": {
              "ALLOW_NOTEABLE_ATTRS": true,
              "COLUMN_SAMPLING_METHOD": "outer",
              "DB_LOCATION": ":memory:",
              "DEV_MODE": false,
              "DISPLAY_MAX_COLUMNS": 100,
              "DISPLAY_MAX_ROWS": 50000,
              "DISPLAY_MODE": "simple",
              "ENABLE_ASSIGNMENT": true,
              "ENABLE_DATALINK": true,
              "FLATTEN_COLUMN_VALUES": true,
              "FLATTEN_INDEX_VALUES": false,
              "GENERATE_DEX_METADATA": false,
              "HTML_TABLE_SCHEMA": false,
              "LOG_LEVEL": 30,
              "MAX_RENDER_SIZE_BYTES": 104857600,
              "MAX_STRING_LENGTH": 250,
              "NUM_PAST_SAMPLES_TRACKED": 3,
              "RANDOM_STATE": 12648430,
              "RESET_INDEX_VALUES": false,
              "ROW_SAMPLING_METHOD": "random",
              "SAMPLING_FACTOR": 0.1,
              "SAMPLING_METHOD": "random",
              "STRINGIFY_COLUMN_VALUES": true,
              "STRINGIFY_INDEX_VALUES": false
            },
            "sample_history": [],
            "sampling_time": "2023-10-16T05:28:33.135812",
            "user_variable_name": null,
            "variable_name": "unk_dataframe_6f505bb91ad04df69a9d5fb823b961ad"
          },
          "f0f9c8a4-bf05-4a6b-a5f8-4076b9e20eb8": {
            "applied_filters": [],
            "dataframe_info": {
              "default_index_used": true,
              "orig_num_cols": 14,
              "orig_num_rows": 5,
              "orig_size_bytes": 600,
              "truncated_num_cols": 14,
              "truncated_num_rows": 5,
              "truncated_size_bytes": 600,
              "truncated_string_columns": []
            },
            "display_id": "f0f9c8a4-bf05-4a6b-a5f8-4076b9e20eb8",
            "dx_settings": {
              "ALLOW_NOTEABLE_ATTRS": true,
              "COLUMN_SAMPLING_METHOD": "outer",
              "DB_LOCATION": ":memory:",
              "DEV_MODE": false,
              "DISPLAY_MAX_COLUMNS": 100,
              "DISPLAY_MAX_ROWS": 50000,
              "DISPLAY_MODE": "simple",
              "ENABLE_ASSIGNMENT": true,
              "ENABLE_DATALINK": true,
              "FLATTEN_COLUMN_VALUES": true,
              "FLATTEN_INDEX_VALUES": false,
              "GENERATE_DEX_METADATA": false,
              "HTML_TABLE_SCHEMA": false,
              "LOG_LEVEL": 30,
              "MAX_RENDER_SIZE_BYTES": 104857600,
              "MAX_STRING_LENGTH": 250,
              "NUM_PAST_SAMPLES_TRACKED": 3,
              "RANDOM_STATE": 12648430,
              "RESET_INDEX_VALUES": false,
              "ROW_SAMPLING_METHOD": "random",
              "SAMPLING_FACTOR": 0.1,
              "SAMPLING_METHOD": "random",
              "STRINGIFY_COLUMN_VALUES": true,
              "STRINGIFY_INDEX_VALUES": false
            },
            "sample_history": [],
            "sampling_time": "2023-10-16T05:37:19.768304",
            "user_variable_name": null,
            "variable_name": "unk_dataframe_89a6cc6acb654f369a4333eb4ed4521a"
          },
          "b310422b-0493-4c09-8a4a-515efe10307c": {
            "applied_filters": [],
            "dataframe_info": {
              "default_index_used": true,
              "orig_num_cols": 14,
              "orig_num_rows": 5,
              "orig_size_bytes": 600,
              "truncated_num_cols": 14,
              "truncated_num_rows": 5,
              "truncated_size_bytes": 600,
              "truncated_string_columns": []
            },
            "display_id": "b310422b-0493-4c09-8a4a-515efe10307c",
            "dx_settings": {
              "ALLOW_NOTEABLE_ATTRS": true,
              "COLUMN_SAMPLING_METHOD": "outer",
              "DB_LOCATION": ":memory:",
              "DEV_MODE": false,
              "DISPLAY_MAX_COLUMNS": 100,
              "DISPLAY_MAX_ROWS": 50000,
              "DISPLAY_MODE": "simple",
              "ENABLE_ASSIGNMENT": true,
              "ENABLE_DATALINK": true,
              "FLATTEN_COLUMN_VALUES": true,
              "FLATTEN_INDEX_VALUES": false,
              "GENERATE_DEX_METADATA": false,
              "HTML_TABLE_SCHEMA": false,
              "LOG_LEVEL": 30,
              "MAX_RENDER_SIZE_BYTES": 104857600,
              "MAX_STRING_LENGTH": 250,
              "NUM_PAST_SAMPLES_TRACKED": 3,
              "RANDOM_STATE": 12648430,
              "RESET_INDEX_VALUES": false,
              "ROW_SAMPLING_METHOD": "random",
              "SAMPLING_FACTOR": 0.1,
              "SAMPLING_METHOD": "random",
              "STRINGIFY_COLUMN_VALUES": true,
              "STRINGIFY_INDEX_VALUES": false
            },
            "sample_history": [],
            "sampling_time": "2023-10-16T05:39:00.713055",
            "user_variable_name": null,
            "variable_name": "unk_dataframe_f0e0d01a0c454a25989df6e7fa25ed0a"
          }
        }
      },
      "execution_count": null,
      "source": "# Rename the dataset to 'heart_disease_data'\nheart_disease_data = data.copy()\nheart_disease_data.head()",
      "outputs": []
    },
    {
      "id": "9c094b45-1bab-42e3-95f7-69031aeee621",
      "cell_type": "code",
      "metadata": {
        "jupyter": {
          "outputs_hidden": false,
          "source_hidden": false
        },
        "noteable": {
          "cell_type": "code",
          "output_collection_id": "c08ec0df-d254-4b74-b5a0-ab6d1bf4428c"
        },
        "ExecuteTime": {
          "end_time": "2023-10-16T05:39:01.117834+00:00",
          "start_time": "2023-10-16T05:39:00.884887+00:00"
        },
        "datalink": {
          "7b17a251-ee1a-4724-a1f0-0c4933ae5e9f": {
            "applied_filters": [],
            "dataframe_info": {
              "default_index_used": true,
              "orig_num_cols": 15,
              "orig_num_rows": 303,
              "orig_size_bytes": 6969,
              "truncated_num_cols": 15,
              "truncated_num_rows": 303,
              "truncated_size_bytes": 6969,
              "truncated_string_columns": []
            },
            "display_id": "7b17a251-ee1a-4724-a1f0-0c4933ae5e9f",
            "dx_settings": {
              "ALLOW_NOTEABLE_ATTRS": true,
              "COLUMN_SAMPLING_METHOD": "outer",
              "DB_LOCATION": ":memory:",
              "DEV_MODE": false,
              "DISPLAY_MAX_COLUMNS": 100,
              "DISPLAY_MAX_ROWS": 50000,
              "DISPLAY_MODE": "simple",
              "ENABLE_ASSIGNMENT": true,
              "ENABLE_DATALINK": true,
              "FLATTEN_COLUMN_VALUES": true,
              "FLATTEN_INDEX_VALUES": false,
              "GENERATE_DEX_METADATA": false,
              "HTML_TABLE_SCHEMA": false,
              "LOG_LEVEL": 30,
              "MAX_RENDER_SIZE_BYTES": 104857600,
              "MAX_STRING_LENGTH": 250,
              "NUM_PAST_SAMPLES_TRACKED": 3,
              "RANDOM_STATE": 12648430,
              "RESET_INDEX_VALUES": false,
              "ROW_SAMPLING_METHOD": "random",
              "SAMPLING_FACTOR": 0.1,
              "SAMPLING_METHOD": "random",
              "STRINGIFY_COLUMN_VALUES": true,
              "STRINGIFY_INDEX_VALUES": false
            },
            "sample_history": [],
            "sampling_time": "2023-10-16T05:35:18.069548",
            "user_variable_name": null,
            "variable_name": "unk_dataframe_b0e5cbf06e674bfda2e1a2897eeb788c"
          },
          "78e8f74b-e07c-4e5e-917e-de9eb83f031b": {
            "applied_filters": [],
            "dataframe_info": {
              "default_index_used": false,
              "orig_num_cols": 1,
              "orig_num_rows": 15,
              "orig_size_bytes": 240,
              "truncated_num_cols": 1,
              "truncated_num_rows": 15,
              "truncated_size_bytes": 240,
              "truncated_string_columns": []
            },
            "display_id": "78e8f74b-e07c-4e5e-917e-de9eb83f031b",
            "dx_settings": {
              "ALLOW_NOTEABLE_ATTRS": true,
              "COLUMN_SAMPLING_METHOD": "outer",
              "DB_LOCATION": ":memory:",
              "DEV_MODE": false,
              "DISPLAY_MAX_COLUMNS": 100,
              "DISPLAY_MAX_ROWS": 50000,
              "DISPLAY_MODE": "simple",
              "ENABLE_ASSIGNMENT": true,
              "ENABLE_DATALINK": true,
              "FLATTEN_COLUMN_VALUES": true,
              "FLATTEN_INDEX_VALUES": false,
              "GENERATE_DEX_METADATA": false,
              "HTML_TABLE_SCHEMA": false,
              "LOG_LEVEL": 30,
              "MAX_RENDER_SIZE_BYTES": 104857600,
              "MAX_STRING_LENGTH": 250,
              "NUM_PAST_SAMPLES_TRACKED": 3,
              "RANDOM_STATE": 12648430,
              "RESET_INDEX_VALUES": false,
              "ROW_SAMPLING_METHOD": "random",
              "SAMPLING_FACTOR": 0.1,
              "SAMPLING_METHOD": "random",
              "STRINGIFY_COLUMN_VALUES": true,
              "STRINGIFY_INDEX_VALUES": false
            },
            "sample_history": [],
            "sampling_time": "2023-10-16T05:35:38.479273",
            "user_variable_name": null,
            "variable_name": "unk_dataframe_61b8ea08c11343748466335d9c66211a"
          },
          "3232d1c9-c389-4dfe-9701-c536b5375352": {
            "applied_filters": [],
            "dataframe_info": {
              "default_index_used": false,
              "orig_num_cols": 1,
              "orig_num_rows": 15,
              "orig_size_bytes": 240,
              "truncated_num_cols": 1,
              "truncated_num_rows": 15,
              "truncated_size_bytes": 240,
              "truncated_string_columns": []
            },
            "display_id": "3232d1c9-c389-4dfe-9701-c536b5375352",
            "dx_settings": {
              "ALLOW_NOTEABLE_ATTRS": true,
              "COLUMN_SAMPLING_METHOD": "outer",
              "DB_LOCATION": ":memory:",
              "DEV_MODE": false,
              "DISPLAY_MAX_COLUMNS": 100,
              "DISPLAY_MAX_ROWS": 50000,
              "DISPLAY_MODE": "simple",
              "ENABLE_ASSIGNMENT": true,
              "ENABLE_DATALINK": true,
              "FLATTEN_COLUMN_VALUES": true,
              "FLATTEN_INDEX_VALUES": false,
              "GENERATE_DEX_METADATA": false,
              "HTML_TABLE_SCHEMA": false,
              "LOG_LEVEL": 30,
              "MAX_RENDER_SIZE_BYTES": 104857600,
              "MAX_STRING_LENGTH": 250,
              "NUM_PAST_SAMPLES_TRACKED": 3,
              "RANDOM_STATE": 12648430,
              "RESET_INDEX_VALUES": false,
              "ROW_SAMPLING_METHOD": "random",
              "SAMPLING_FACTOR": 0.1,
              "SAMPLING_METHOD": "random",
              "STRINGIFY_COLUMN_VALUES": true,
              "STRINGIFY_INDEX_VALUES": false
            },
            "sample_history": [],
            "sampling_time": "2023-10-16T05:36:06.681155",
            "user_variable_name": null,
            "variable_name": "unk_dataframe_96a75624574c400b87d8cbd1fc312407"
          },
          "909ddf8e-2223-4552-8fb2-33223a54a869": {
            "applied_filters": [],
            "dataframe_info": {
              "default_index_used": false,
              "orig_num_cols": 1,
              "orig_num_rows": 14,
              "orig_size_bytes": 224,
              "truncated_num_cols": 1,
              "truncated_num_rows": 14,
              "truncated_size_bytes": 224,
              "truncated_string_columns": []
            },
            "display_id": "909ddf8e-2223-4552-8fb2-33223a54a869",
            "dx_settings": {
              "ALLOW_NOTEABLE_ATTRS": true,
              "COLUMN_SAMPLING_METHOD": "outer",
              "DB_LOCATION": ":memory:",
              "DEV_MODE": false,
              "DISPLAY_MAX_COLUMNS": 100,
              "DISPLAY_MAX_ROWS": 50000,
              "DISPLAY_MODE": "simple",
              "ENABLE_ASSIGNMENT": true,
              "ENABLE_DATALINK": true,
              "FLATTEN_COLUMN_VALUES": true,
              "FLATTEN_INDEX_VALUES": false,
              "GENERATE_DEX_METADATA": false,
              "HTML_TABLE_SCHEMA": false,
              "LOG_LEVEL": 30,
              "MAX_RENDER_SIZE_BYTES": 104857600,
              "MAX_STRING_LENGTH": 250,
              "NUM_PAST_SAMPLES_TRACKED": 3,
              "RANDOM_STATE": 12648430,
              "RESET_INDEX_VALUES": false,
              "ROW_SAMPLING_METHOD": "random",
              "SAMPLING_FACTOR": 0.1,
              "SAMPLING_METHOD": "random",
              "STRINGIFY_COLUMN_VALUES": true,
              "STRINGIFY_INDEX_VALUES": false
            },
            "sample_history": [],
            "sampling_time": "2023-10-16T05:37:20.007029",
            "user_variable_name": null,
            "variable_name": "unk_dataframe_5849726d04ce405a981f96fc720c5f7a"
          },
          "2ec9cdce-0247-490c-a7f4-56922313331a": {
            "applied_filters": [],
            "dataframe_info": {
              "default_index_used": false,
              "orig_num_cols": 1,
              "orig_num_rows": 14,
              "orig_size_bytes": 224,
              "truncated_num_cols": 1,
              "truncated_num_rows": 14,
              "truncated_size_bytes": 224,
              "truncated_string_columns": []
            },
            "display_id": "2ec9cdce-0247-490c-a7f4-56922313331a",
            "dx_settings": {
              "ALLOW_NOTEABLE_ATTRS": true,
              "COLUMN_SAMPLING_METHOD": "outer",
              "DB_LOCATION": ":memory:",
              "DEV_MODE": false,
              "DISPLAY_MAX_COLUMNS": 100,
              "DISPLAY_MAX_ROWS": 50000,
              "DISPLAY_MODE": "simple",
              "ENABLE_ASSIGNMENT": true,
              "ENABLE_DATALINK": true,
              "FLATTEN_COLUMN_VALUES": true,
              "FLATTEN_INDEX_VALUES": false,
              "GENERATE_DEX_METADATA": false,
              "HTML_TABLE_SCHEMA": false,
              "LOG_LEVEL": 30,
              "MAX_RENDER_SIZE_BYTES": 104857600,
              "MAX_STRING_LENGTH": 250,
              "NUM_PAST_SAMPLES_TRACKED": 3,
              "RANDOM_STATE": 12648430,
              "RESET_INDEX_VALUES": false,
              "ROW_SAMPLING_METHOD": "random",
              "SAMPLING_FACTOR": 0.1,
              "SAMPLING_METHOD": "random",
              "STRINGIFY_COLUMN_VALUES": true,
              "STRINGIFY_INDEX_VALUES": false
            },
            "sample_history": [],
            "sampling_time": "2023-10-16T05:39:00.958752",
            "user_variable_name": null,
            "variable_name": "unk_dataframe_b242f359c0a140af83785bfc25d5d85b"
          }
        }
      },
      "execution_count": null,
      "source": "heart_disease_data.isnull().sum()",
      "outputs": []
    },
    {
      "id": "8829c9f5-ff9d-4dc9-aced-a788da669a2e",
      "cell_type": "code",
      "metadata": {
        "jupyter": {
          "outputs_hidden": false,
          "source_hidden": false
        },
        "noteable": {
          "cell_type": "code",
          "output_collection_id": "388b36de-f864-4f6e-9f2f-27e0b40929d0"
        },
        "ExecuteTime": {
          "end_time": "2023-10-16T05:39:01.291224+00:00",
          "start_time": "2023-10-16T05:39:01.127779+00:00"
        }
      },
      "execution_count": null,
      "source": "heart_disease_data.info()",
      "outputs": []
    },
    {
      "id": "39dedc87-06c3-427b-9aba-982382391c90",
      "cell_type": "code",
      "metadata": {
        "noteable": {
          "cell_type": "code",
          "output_collection_id": "6f12b651-d9f4-426b-9a4f-78938612086c"
        },
        "ExecuteTime": {
          "end_time": "2023-10-16T05:39:01.749872+00:00",
          "start_time": "2023-10-16T05:39:01.330345+00:00"
        },
        "datalink": {
          "b4270a20-7329-43dc-81a1-9fa4d3f54a10": {
            "applied_filters": [],
            "dataframe_info": {
              "default_index_used": true,
              "orig_num_cols": 15,
              "orig_num_rows": 5,
              "orig_size_bytes": 640,
              "truncated_num_cols": 15,
              "truncated_num_rows": 5,
              "truncated_size_bytes": 640,
              "truncated_string_columns": []
            },
            "display_id": "b4270a20-7329-43dc-81a1-9fa4d3f54a10",
            "dx_settings": {
              "ALLOW_NOTEABLE_ATTRS": true,
              "COLUMN_SAMPLING_METHOD": "outer",
              "DB_LOCATION": ":memory:",
              "DEV_MODE": false,
              "DISPLAY_MAX_COLUMNS": 100,
              "DISPLAY_MAX_ROWS": 50000,
              "DISPLAY_MODE": "simple",
              "ENABLE_ASSIGNMENT": true,
              "ENABLE_DATALINK": true,
              "FLATTEN_COLUMN_VALUES": true,
              "FLATTEN_INDEX_VALUES": false,
              "GENERATE_DEX_METADATA": false,
              "HTML_TABLE_SCHEMA": false,
              "LOG_LEVEL": 30,
              "MAX_RENDER_SIZE_BYTES": 104857600,
              "MAX_STRING_LENGTH": 250,
              "NUM_PAST_SAMPLES_TRACKED": 3,
              "RANDOM_STATE": 12648430,
              "RESET_INDEX_VALUES": false,
              "ROW_SAMPLING_METHOD": "random",
              "SAMPLING_FACTOR": 0.1,
              "SAMPLING_METHOD": "random",
              "STRINGIFY_COLUMN_VALUES": true,
              "STRINGIFY_INDEX_VALUES": false
            },
            "sample_history": [],
            "sampling_time": "2023-10-16T04:43:09.567764",
            "user_variable_name": null,
            "variable_name": "unk_dataframe_b93e91df0297475a93673fae74fc7714"
          },
          "903d8781-cdc5-43fb-ac25-de358ec1df9b": {
            "applied_filters": [],
            "dataframe_info": {
              "default_index_used": true,
              "orig_num_cols": 15,
              "orig_num_rows": 5,
              "orig_size_bytes": 640,
              "truncated_num_cols": 15,
              "truncated_num_rows": 5,
              "truncated_size_bytes": 640,
              "truncated_string_columns": []
            },
            "display_id": "903d8781-cdc5-43fb-ac25-de358ec1df9b",
            "dx_settings": {
              "ALLOW_NOTEABLE_ATTRS": true,
              "COLUMN_SAMPLING_METHOD": "outer",
              "DB_LOCATION": ":memory:",
              "DEV_MODE": false,
              "DISPLAY_MAX_COLUMNS": 100,
              "DISPLAY_MAX_ROWS": 50000,
              "DISPLAY_MODE": "simple",
              "ENABLE_ASSIGNMENT": true,
              "ENABLE_DATALINK": true,
              "FLATTEN_COLUMN_VALUES": true,
              "FLATTEN_INDEX_VALUES": false,
              "GENERATE_DEX_METADATA": false,
              "HTML_TABLE_SCHEMA": false,
              "LOG_LEVEL": 30,
              "MAX_RENDER_SIZE_BYTES": 104857600,
              "MAX_STRING_LENGTH": 250,
              "NUM_PAST_SAMPLES_TRACKED": 3,
              "RANDOM_STATE": 12648430,
              "RESET_INDEX_VALUES": false,
              "ROW_SAMPLING_METHOD": "random",
              "SAMPLING_FACTOR": 0.1,
              "SAMPLING_METHOD": "random",
              "STRINGIFY_COLUMN_VALUES": true,
              "STRINGIFY_INDEX_VALUES": false
            },
            "sample_history": [],
            "sampling_time": "2023-10-16T05:28:33.558139",
            "user_variable_name": null,
            "variable_name": "unk_dataframe_e27618d22ee4409fbff1091f8c4ee42b"
          },
          "14cde165-754b-4d7f-bb5d-bb87799cd0cb": {
            "applied_filters": [],
            "dataframe_info": {
              "default_index_used": true,
              "orig_num_cols": 15,
              "orig_num_rows": 5,
              "orig_size_bytes": 640,
              "truncated_num_cols": 15,
              "truncated_num_rows": 5,
              "truncated_size_bytes": 640,
              "truncated_string_columns": []
            },
            "display_id": "14cde165-754b-4d7f-bb5d-bb87799cd0cb",
            "dx_settings": {
              "ALLOW_NOTEABLE_ATTRS": true,
              "COLUMN_SAMPLING_METHOD": "outer",
              "DB_LOCATION": ":memory:",
              "DEV_MODE": false,
              "DISPLAY_MAX_COLUMNS": 100,
              "DISPLAY_MAX_ROWS": 50000,
              "DISPLAY_MODE": "simple",
              "ENABLE_ASSIGNMENT": true,
              "ENABLE_DATALINK": true,
              "FLATTEN_COLUMN_VALUES": true,
              "FLATTEN_INDEX_VALUES": false,
              "GENERATE_DEX_METADATA": false,
              "HTML_TABLE_SCHEMA": false,
              "LOG_LEVEL": 30,
              "MAX_RENDER_SIZE_BYTES": 104857600,
              "MAX_STRING_LENGTH": 250,
              "NUM_PAST_SAMPLES_TRACKED": 3,
              "RANDOM_STATE": 12648430,
              "RESET_INDEX_VALUES": false,
              "ROW_SAMPLING_METHOD": "random",
              "SAMPLING_FACTOR": 0.1,
              "SAMPLING_METHOD": "random",
              "STRINGIFY_COLUMN_VALUES": true,
              "STRINGIFY_INDEX_VALUES": false
            },
            "sample_history": [],
            "sampling_time": "2023-10-16T05:37:20.608479",
            "user_variable_name": null,
            "variable_name": "unk_dataframe_f4d9247a478a4993a483e3ca0dda47b7"
          },
          "572debf5-b0db-42e0-8968-4033f6094bfb": {
            "applied_filters": [],
            "dataframe_info": {
              "default_index_used": true,
              "orig_num_cols": 15,
              "orig_num_rows": 5,
              "orig_size_bytes": 640,
              "truncated_num_cols": 15,
              "truncated_num_rows": 5,
              "truncated_size_bytes": 640,
              "truncated_string_columns": []
            },
            "display_id": "572debf5-b0db-42e0-8968-4033f6094bfb",
            "dx_settings": {
              "ALLOW_NOTEABLE_ATTRS": true,
              "COLUMN_SAMPLING_METHOD": "outer",
              "DB_LOCATION": ":memory:",
              "DEV_MODE": false,
              "DISPLAY_MAX_COLUMNS": 100,
              "DISPLAY_MAX_ROWS": 50000,
              "DISPLAY_MODE": "simple",
              "ENABLE_ASSIGNMENT": true,
              "ENABLE_DATALINK": true,
              "FLATTEN_COLUMN_VALUES": true,
              "FLATTEN_INDEX_VALUES": false,
              "GENERATE_DEX_METADATA": false,
              "HTML_TABLE_SCHEMA": false,
              "LOG_LEVEL": 30,
              "MAX_RENDER_SIZE_BYTES": 104857600,
              "MAX_STRING_LENGTH": 250,
              "NUM_PAST_SAMPLES_TRACKED": 3,
              "RANDOM_STATE": 12648430,
              "RESET_INDEX_VALUES": false,
              "ROW_SAMPLING_METHOD": "random",
              "SAMPLING_FACTOR": 0.1,
              "SAMPLING_METHOD": "random",
              "STRINGIFY_COLUMN_VALUES": true,
              "STRINGIFY_INDEX_VALUES": false
            },
            "sample_history": [],
            "sampling_time": "2023-10-16T05:39:01.586489",
            "user_variable_name": null,
            "variable_name": "unk_dataframe_30cf9edfb5274a21a92008f1c9380c44"
          }
        }
      },
      "execution_count": null,
      "source": "from sklearn.ensemble import IsolationForest\nimport numpy as np\n\n# Handling non-numeric columns\nheart_disease_data_numeric = heart_disease_data.copy()\nfor col in heart_disease_data_numeric.columns:\n    heart_disease_data_numeric[col] = pd.to_numeric(heart_disease_data_numeric[col], errors='coerce')\n\n# Filling NaN values with column means\nheart_disease_data_numeric.fillna(heart_disease_data_numeric.mean(), inplace=True)\n\n# Applying Isolation Forest\niso_forest = IsolationForest(contamination=0.05)\nanomalies = iso_forest.fit_predict(heart_disease_data_numeric)\n\n# Mapping the predicted values to 'Normal' and 'Anomaly'\nanomaly_map = {1: 'Normal', -1: 'Anomaly'}\nanomalies = np.vectorize(anomaly_map.get)(anomalies)\n\n# Adding the anomaly labels to the dataset\nheart_disease_data['Anomaly'] = anomalies\n\n# Displaying the first few rows of the dataset with anomaly labels\nheart_disease_data.head()",
      "outputs": []
    },
    {
      "id": "e6b97ce9-5f56-41c0-a205-71a5796097b0",
      "cell_type": "code",
      "metadata": {
        "noteable": {
          "cell_type": "code",
          "output_collection_id": "8dd9e70e-093d-4568-9d99-537e3865e4d6"
        },
        "ExecuteTime": {
          "end_time": "2023-10-16T05:39:04.076731+00:00",
          "start_time": "2023-10-16T05:39:01.756777+00:00"
        }
      },
      "execution_count": null,
      "source": "import matplotlib.pyplot as plt\nimport seaborn as sns\n\n# Filter the dataset for anomalies\nanomaly_data = heart_disease_data[heart_disease_data['Anomaly'] == 'Anomaly']\n\n# Identifying numeric columns\nnumeric_columns = heart_disease_data.select_dtypes(include=['float64', 'int64']).columns\n\n# Plotting the distribution of numeric features for anomalies vs the entire dataset\nfig, axes = plt.subplots(nrows=len(numeric_columns), ncols=1, figsize=(10, 40))\n\nfor i, col in enumerate(numeric_columns):\n    sns.kdeplot(heart_disease_data[col], ax=axes[i], label='Overall Distribution', shade=True)\n    sns.kdeplot(anomaly_data[col], ax=axes[i], label='Anomaly Distribution', shade=True)\n    axes[i].set_title(f'Distribution of {col}')\n    axes[i].legend()\n\nplt.tight_layout()\nplt.show()",
      "outputs": []
    },
    {
      "id": "411aec2e-bca6-435b-8e3a-d4f2be2b3bfa",
      "cell_type": "markdown",
      "source": "Age: The anomalies seem to have a slightly different distribution compared to the overall data, with a higher density around the age of 60.\n\nTrestbps: The anomalies have a higher density around the 140-160 range.\n\nChol: The anomalies have a higher density in the 200-250 range.\n\nThalach: The distribution of anomalies is slightly shifted towards the lower values.\n\nOldpeak: The anomalies have a higher density around the 0-2 range.\n\nSlope, Ca, Thal, Num: The distributions for these features are quite similar for both anomalies and the overall data.",
      "metadata": {}
    },
    {
      "id": "d2ebc2a8-2912-4f38-ad97-d9ee9d1b3e35",
      "cell_type": "code",
      "metadata": {
        "noteable": {
          "cell_type": "python",
          "output_collection_id": "f950287d-06b8-4a2c-9a75-3bef5c61b6fb"
        },
        "ExecuteTime": {
          "end_time": "2023-10-16T06:00:14.010621+00:00",
          "start_time": "2023-10-16T06:00:13.756942+00:00"
        },
        "datalink": {
          "628237bc-6d34-4480-97dd-3bed4433f122": {
            "applied_filters": [],
            "dataframe_info": {
              "default_index_used": true,
              "orig_num_cols": 15,
              "orig_num_rows": 16,
              "orig_size_bytes": 2048,
              "truncated_num_cols": 15,
              "truncated_num_rows": 16,
              "truncated_size_bytes": 2048,
              "truncated_string_columns": []
            },
            "display_id": "628237bc-6d34-4480-97dd-3bed4433f122",
            "dx_settings": {
              "ALLOW_NOTEABLE_ATTRS": true,
              "COLUMN_SAMPLING_METHOD": "outer",
              "DB_LOCATION": ":memory:",
              "DEV_MODE": false,
              "DISPLAY_MAX_COLUMNS": 100,
              "DISPLAY_MAX_ROWS": 50000,
              "DISPLAY_MODE": "simple",
              "ENABLE_ASSIGNMENT": true,
              "ENABLE_DATALINK": true,
              "FLATTEN_COLUMN_VALUES": true,
              "FLATTEN_INDEX_VALUES": false,
              "GENERATE_DEX_METADATA": false,
              "HTML_TABLE_SCHEMA": false,
              "LOG_LEVEL": 30,
              "MAX_RENDER_SIZE_BYTES": 104857600,
              "MAX_STRING_LENGTH": 250,
              "NUM_PAST_SAMPLES_TRACKED": 3,
              "RANDOM_STATE": 12648430,
              "RESET_INDEX_VALUES": false,
              "ROW_SAMPLING_METHOD": "random",
              "SAMPLING_FACTOR": 0.1,
              "SAMPLING_METHOD": "random",
              "STRINGIFY_COLUMN_VALUES": true,
              "STRINGIFY_INDEX_VALUES": false
            },
            "sample_history": [],
            "sampling_time": "2023-10-16T06:00:13.846821",
            "user_variable_name": "anomaly_data",
            "variable_name": "anomaly_data"
          }
        }
      },
      "execution_count": null,
      "source": "anomaly_data",
      "outputs": []
    },
    {
      "id": "89e89523-f993-4560-a71a-c0afdaae5223",
      "cell_type": "markdown",
      "source": "showcasing the clients who may potentially be an anomaly",
      "metadata": {
        "noteable": {
          "cell_type": "markdown"
        }
      }
    },
    {
      "id": "c86465b7-8dcd-4b13-a18a-8a68d6775185",
      "cell_type": "code",
      "metadata": {
        "noteable": {
          "cell_type": "code",
          "output_collection_id": "276aa466-bdb6-49da-9cf5-81183097788f"
        },
        "ExecuteTime": {
          "end_time": "2023-10-16T05:39:05.151607+00:00",
          "start_time": "2023-10-16T05:39:04.857916+00:00"
        },
        "datalink": {
          "fe466845-d26c-45fe-a062-141198edf366": {
            "applied_filters": [],
            "dataframe_info": {
              "default_index_used": false,
              "orig_num_cols": 16,
              "orig_num_rows": 12,
              "orig_size_bytes": 1632,
              "truncated_num_cols": 16,
              "truncated_num_rows": 12,
              "truncated_size_bytes": 1632,
              "truncated_string_columns": []
            },
            "display_id": "fe466845-d26c-45fe-a062-141198edf366",
            "dx_settings": {
              "ALLOW_NOTEABLE_ATTRS": true,
              "COLUMN_SAMPLING_METHOD": "outer",
              "DB_LOCATION": ":memory:",
              "DEV_MODE": false,
              "DISPLAY_MAX_COLUMNS": 100,
              "DISPLAY_MAX_ROWS": 50000,
              "DISPLAY_MODE": "simple",
              "ENABLE_ASSIGNMENT": true,
              "ENABLE_DATALINK": true,
              "FLATTEN_COLUMN_VALUES": true,
              "FLATTEN_INDEX_VALUES": false,
              "GENERATE_DEX_METADATA": false,
              "HTML_TABLE_SCHEMA": false,
              "LOG_LEVEL": 30,
              "MAX_RENDER_SIZE_BYTES": 104857600,
              "MAX_STRING_LENGTH": 250,
              "NUM_PAST_SAMPLES_TRACKED": 3,
              "RANDOM_STATE": 12648430,
              "RESET_INDEX_VALUES": false,
              "ROW_SAMPLING_METHOD": "random",
              "SAMPLING_FACTOR": 0.1,
              "SAMPLING_METHOD": "random",
              "STRINGIFY_COLUMN_VALUES": true,
              "STRINGIFY_INDEX_VALUES": false
            },
            "sample_history": [],
            "sampling_time": "2023-10-16T04:53:40.378224",
            "user_variable_name": "stats_comparison",
            "variable_name": "stats_comparison"
          },
          "92ef406a-cf51-4cea-b474-9b0526c08ff4": {
            "applied_filters": [],
            "dataframe_info": {
              "default_index_used": false,
              "orig_num_cols": 16,
              "orig_num_rows": 12,
              "orig_size_bytes": 1632,
              "truncated_num_cols": 16,
              "truncated_num_rows": 12,
              "truncated_size_bytes": 1632,
              "truncated_string_columns": []
            },
            "display_id": "92ef406a-cf51-4cea-b474-9b0526c08ff4",
            "dx_settings": {
              "ALLOW_NOTEABLE_ATTRS": true,
              "COLUMN_SAMPLING_METHOD": "outer",
              "DB_LOCATION": ":memory:",
              "DEV_MODE": false,
              "DISPLAY_MAX_COLUMNS": 100,
              "DISPLAY_MAX_ROWS": 50000,
              "DISPLAY_MODE": "simple",
              "ENABLE_ASSIGNMENT": true,
              "ENABLE_DATALINK": true,
              "FLATTEN_COLUMN_VALUES": true,
              "FLATTEN_INDEX_VALUES": false,
              "GENERATE_DEX_METADATA": false,
              "HTML_TABLE_SCHEMA": false,
              "LOG_LEVEL": 30,
              "MAX_RENDER_SIZE_BYTES": 104857600,
              "MAX_STRING_LENGTH": 250,
              "NUM_PAST_SAMPLES_TRACKED": 3,
              "RANDOM_STATE": 12648430,
              "RESET_INDEX_VALUES": false,
              "ROW_SAMPLING_METHOD": "random",
              "SAMPLING_FACTOR": 0.1,
              "SAMPLING_METHOD": "random",
              "STRINGIFY_COLUMN_VALUES": true,
              "STRINGIFY_INDEX_VALUES": false
            },
            "sample_history": [],
            "sampling_time": "2023-10-16T05:28:36.590740",
            "user_variable_name": "stats_comparison",
            "variable_name": "stats_comparison"
          },
          "f1431ac8-4cbc-41fe-b810-488c1db98039": {
            "applied_filters": [],
            "dataframe_info": {
              "default_index_used": false,
              "orig_num_cols": 16,
              "orig_num_rows": 12,
              "orig_size_bytes": 1632,
              "truncated_num_cols": 16,
              "truncated_num_rows": 12,
              "truncated_size_bytes": 1632,
              "truncated_string_columns": []
            },
            "display_id": "f1431ac8-4cbc-41fe-b810-488c1db98039",
            "dx_settings": {
              "ALLOW_NOTEABLE_ATTRS": true,
              "COLUMN_SAMPLING_METHOD": "outer",
              "DB_LOCATION": ":memory:",
              "DEV_MODE": false,
              "DISPLAY_MAX_COLUMNS": 100,
              "DISPLAY_MAX_ROWS": 50000,
              "DISPLAY_MODE": "simple",
              "ENABLE_ASSIGNMENT": true,
              "ENABLE_DATALINK": true,
              "FLATTEN_COLUMN_VALUES": true,
              "FLATTEN_INDEX_VALUES": false,
              "GENERATE_DEX_METADATA": false,
              "HTML_TABLE_SCHEMA": false,
              "LOG_LEVEL": 30,
              "MAX_RENDER_SIZE_BYTES": 104857600,
              "MAX_STRING_LENGTH": 250,
              "NUM_PAST_SAMPLES_TRACKED": 3,
              "RANDOM_STATE": 12648430,
              "RESET_INDEX_VALUES": false,
              "ROW_SAMPLING_METHOD": "random",
              "SAMPLING_FACTOR": 0.1,
              "SAMPLING_METHOD": "random",
              "STRINGIFY_COLUMN_VALUES": true,
              "STRINGIFY_INDEX_VALUES": false
            },
            "sample_history": [],
            "sampling_time": "2023-10-16T05:37:25.004802",
            "user_variable_name": "stats_comparison",
            "variable_name": "stats_comparison"
          },
          "d61f968d-cc0e-45aa-8faf-de0d1d1b2b4b": {
            "applied_filters": [],
            "dataframe_info": {
              "default_index_used": false,
              "orig_num_cols": 16,
              "orig_num_rows": 12,
              "orig_size_bytes": 1632,
              "truncated_num_cols": 16,
              "truncated_num_rows": 12,
              "truncated_size_bytes": 1632,
              "truncated_string_columns": []
            },
            "display_id": "d61f968d-cc0e-45aa-8faf-de0d1d1b2b4b",
            "dx_settings": {
              "ALLOW_NOTEABLE_ATTRS": true,
              "COLUMN_SAMPLING_METHOD": "outer",
              "DB_LOCATION": ":memory:",
              "DEV_MODE": false,
              "DISPLAY_MAX_COLUMNS": 100,
              "DISPLAY_MAX_ROWS": 50000,
              "DISPLAY_MODE": "simple",
              "ENABLE_ASSIGNMENT": true,
              "ENABLE_DATALINK": true,
              "FLATTEN_COLUMN_VALUES": true,
              "FLATTEN_INDEX_VALUES": false,
              "GENERATE_DEX_METADATA": false,
              "HTML_TABLE_SCHEMA": false,
              "LOG_LEVEL": 30,
              "MAX_RENDER_SIZE_BYTES": 104857600,
              "MAX_STRING_LENGTH": 250,
              "NUM_PAST_SAMPLES_TRACKED": 3,
              "RANDOM_STATE": 12648430,
              "RESET_INDEX_VALUES": false,
              "ROW_SAMPLING_METHOD": "random",
              "SAMPLING_FACTOR": 0.1,
              "SAMPLING_METHOD": "random",
              "STRINGIFY_COLUMN_VALUES": true,
              "STRINGIFY_INDEX_VALUES": false
            },
            "sample_history": [],
            "sampling_time": "2023-10-16T05:39:04.989806",
            "user_variable_name": "stats_comparison",
            "variable_name": "stats_comparison"
          }
        }
      },
      "execution_count": null,
      "source": "# Descriptive statistics for the entire dataset and the anomalies\noverall_stats = heart_disease_data.describe().transpose()\nanomaly_stats = anomaly_data.describe().transpose()\n\n# Combining the statistics for comparison\nstats_comparison = pd.concat([overall_stats, anomaly_stats], axis=1, keys=['Overall', 'Anomaly'])\nstats_comparison[['Overall', 'Anomaly']]",
      "outputs": []
    },
    {
      "id": "a227dad6-3a78-4a56-99cf-80e575dbdd76",
      "cell_type": "markdown",
      "source": "exang (exercise induced angina): The mean and median values for anomalies are higher than the overall data, indicating that anomalies tend to have a higher occurrence of exercise-induced angina.\n\nslope (slope of the peak exercise ST segment): The anomalies have a higher mean and median slope value compared to the overall data.\n\nchol (serum cholesterol in mg/dl): The anomalies have a higher mean and median cholesterol level compared to the overall data.\n\nfbs (fasting blood sugar > 120 mg/dl): The mean and median values for anomalies are higher, indicating that anomalies tend to have a higher fasting blood sugar level.\n\nnum (diagnosis of heart disease): The anomalies have a significantly higher mean and median value for the diagnosis of heart disease.\n",
      "metadata": {}
    },
    {
      "id": "bf55f5e7-cd13-41f2-87ee-14a743813982",
      "cell_type": "markdown",
      "source": "Features like chol (serum cholesterol), fbs (fasting blood sugar), and num (diagnosis of heart disease) show noticeable differences in their distributions between normal data points and anomalies. The anomalies tend to have higher values for these features.",
      "metadata": {
        "noteable": {
          "cell_type": "markdown"
        }
      }
    },
    {
      "id": "cc112776-6990-44f7-b0d5-21aa806a08f9",
      "cell_type": "code",
      "metadata": {
        "noteable": {
          "cell_type": "code",
          "output_collection_id": "2884c764-9652-4e6c-aff8-3f48ec44843b"
        },
        "ExecuteTime": {
          "end_time": "2023-10-16T05:39:06.777666+00:00",
          "start_time": "2023-10-16T05:39:05.159696+00:00"
        }
      },
      "execution_count": null,
      "source": "# Visualizing the distribution of features for anomalies using box plots with 7 rows and 2 columns\nfig, axes = plt.subplots(nrows=6, ncols=2, figsize=(15, 40))\n\nfor i, col in enumerate(numeric_columns):\n    row = i // 2\n    col_idx = i % 2\n    sns.boxplot(x='Anomaly', y=col, data=heart_disease_data, ax=axes[row, col_idx])\n    axes[row, col_idx].set_title(f'Box Plot of {col} by Anomaly')\n\nplt.tight_layout()\nplt.show()",
      "outputs": []
    },
    {
      "id": "736b58bf-e322-48dc-babd-266fa413e7e1",
      "cell_type": "markdown",
      "source": "Features like chol (serum cholesterol), fbs (fasting blood sugar), and num (diagnosis of heart disease) show noticeable differences in their distributions between normal data points and anomalies. The anomalies tend to have higher values for these features.\n\nOther features also show some differences in their distributions, but they might not be as pronounced.",
      "metadata": {
        "noteable": {
          "cell_type": "markdown"
        }
      }
    },
    {
      "id": "10a899e1-9b03-4b43-a9c4-50322d9a61a4",
      "cell_type": "code",
      "metadata": {
        "noteable": {
          "cell_type": "code",
          "output_collection_id": "80dd8ac4-0ee5-4b64-8433-04fe42e619a9"
        },
        "ExecuteTime": {
          "end_time": "2023-10-16T05:39:07.129317+00:00",
          "start_time": "2023-10-16T05:39:06.972343+00:00"
        }
      },
      "execution_count": null,
      "source": "# Count of anomalies\nanomaly_count = anomaly_data.shape[0]\ntotal_data_count = heart_disease_data.shape[0]\nanomaly_percentage = (anomaly_count / total_data_count) * 100\n\nanomaly_count, anomaly_percentage",
      "outputs": []
    },
    {
      "id": "571a721e-f637-4fcb-b8e5-537926c19bbf",
      "cell_type": "code",
      "metadata": {
        "noteable": {
          "cell_type": "code",
          "output_collection_id": "a4a84e47-9a4e-4d0e-8c16-409fb41aad02"
        },
        "ExecuteTime": {
          "end_time": "2023-10-16T05:39:07.389364+00:00",
          "start_time": "2023-10-16T05:39:07.137297+00:00"
        },
        "datalink": {
          "c7151511-7552-486d-a5fc-756cf0ab5968": {
            "applied_filters": [],
            "dataframe_info": {
              "default_index_used": false,
              "orig_num_cols": 5,
              "orig_num_rows": 12,
              "orig_size_bytes": 576,
              "truncated_num_cols": 5,
              "truncated_num_rows": 12,
              "truncated_size_bytes": 576,
              "truncated_string_columns": []
            },
            "display_id": "c7151511-7552-486d-a5fc-756cf0ab5968",
            "dx_settings": {
              "ALLOW_NOTEABLE_ATTRS": true,
              "COLUMN_SAMPLING_METHOD": "outer",
              "DB_LOCATION": ":memory:",
              "DEV_MODE": false,
              "DISPLAY_MAX_COLUMNS": 100,
              "DISPLAY_MAX_ROWS": 50000,
              "DISPLAY_MODE": "simple",
              "ENABLE_ASSIGNMENT": true,
              "ENABLE_DATALINK": true,
              "FLATTEN_COLUMN_VALUES": true,
              "FLATTEN_INDEX_VALUES": false,
              "GENERATE_DEX_METADATA": false,
              "HTML_TABLE_SCHEMA": false,
              "LOG_LEVEL": 30,
              "MAX_RENDER_SIZE_BYTES": 104857600,
              "MAX_STRING_LENGTH": 250,
              "NUM_PAST_SAMPLES_TRACKED": 3,
              "RANDOM_STATE": 12648430,
              "RESET_INDEX_VALUES": false,
              "ROW_SAMPLING_METHOD": "random",
              "SAMPLING_FACTOR": 0.1,
              "SAMPLING_METHOD": "random",
              "STRINGIFY_COLUMN_VALUES": true,
              "STRINGIFY_INDEX_VALUES": false
            },
            "sample_history": [],
            "sampling_time": "2023-10-16T05:05:28.992191",
            "user_variable_name": "feature_ranges",
            "variable_name": "feature_ranges"
          },
          "dd959355-c72b-4ed4-b627-27bfdbb9084b": {
            "applied_filters": [],
            "dataframe_info": {
              "default_index_used": false,
              "orig_num_cols": 5,
              "orig_num_rows": 12,
              "orig_size_bytes": 576,
              "truncated_num_cols": 5,
              "truncated_num_rows": 12,
              "truncated_size_bytes": 576,
              "truncated_string_columns": []
            },
            "display_id": "dd959355-c72b-4ed4-b627-27bfdbb9084b",
            "dx_settings": {
              "ALLOW_NOTEABLE_ATTRS": true,
              "COLUMN_SAMPLING_METHOD": "outer",
              "DB_LOCATION": ":memory:",
              "DEV_MODE": false,
              "DISPLAY_MAX_COLUMNS": 100,
              "DISPLAY_MAX_ROWS": 50000,
              "DISPLAY_MODE": "simple",
              "ENABLE_ASSIGNMENT": true,
              "ENABLE_DATALINK": true,
              "FLATTEN_COLUMN_VALUES": true,
              "FLATTEN_INDEX_VALUES": false,
              "GENERATE_DEX_METADATA": false,
              "HTML_TABLE_SCHEMA": false,
              "LOG_LEVEL": 30,
              "MAX_RENDER_SIZE_BYTES": 104857600,
              "MAX_STRING_LENGTH": 250,
              "NUM_PAST_SAMPLES_TRACKED": 3,
              "RANDOM_STATE": 12648430,
              "RESET_INDEX_VALUES": false,
              "ROW_SAMPLING_METHOD": "random",
              "SAMPLING_FACTOR": 0.1,
              "SAMPLING_METHOD": "random",
              "STRINGIFY_COLUMN_VALUES": true,
              "STRINGIFY_INDEX_VALUES": false
            },
            "sample_history": [],
            "sampling_time": "2023-10-16T05:28:39.378490",
            "user_variable_name": "feature_ranges",
            "variable_name": "feature_ranges"
          },
          "df9e2af0-9e93-428b-b5b2-ab98ed63bf6d": {
            "applied_filters": [],
            "dataframe_info": {
              "default_index_used": false,
              "orig_num_cols": 5,
              "orig_num_rows": 12,
              "orig_size_bytes": 576,
              "truncated_num_cols": 5,
              "truncated_num_rows": 12,
              "truncated_size_bytes": 576,
              "truncated_string_columns": []
            },
            "display_id": "df9e2af0-9e93-428b-b5b2-ab98ed63bf6d",
            "dx_settings": {
              "ALLOW_NOTEABLE_ATTRS": true,
              "COLUMN_SAMPLING_METHOD": "outer",
              "DB_LOCATION": ":memory:",
              "DEV_MODE": false,
              "DISPLAY_MAX_COLUMNS": 100,
              "DISPLAY_MAX_ROWS": 50000,
              "DISPLAY_MODE": "simple",
              "ENABLE_ASSIGNMENT": true,
              "ENABLE_DATALINK": true,
              "FLATTEN_COLUMN_VALUES": true,
              "FLATTEN_INDEX_VALUES": false,
              "GENERATE_DEX_METADATA": false,
              "HTML_TABLE_SCHEMA": false,
              "LOG_LEVEL": 30,
              "MAX_RENDER_SIZE_BYTES": 104857600,
              "MAX_STRING_LENGTH": 250,
              "NUM_PAST_SAMPLES_TRACKED": 3,
              "RANDOM_STATE": 12648430,
              "RESET_INDEX_VALUES": false,
              "ROW_SAMPLING_METHOD": "random",
              "SAMPLING_FACTOR": 0.1,
              "SAMPLING_METHOD": "random",
              "STRINGIFY_COLUMN_VALUES": true,
              "STRINGIFY_INDEX_VALUES": false
            },
            "sample_history": [],
            "sampling_time": "2023-10-16T05:37:27.840683",
            "user_variable_name": "feature_ranges",
            "variable_name": "feature_ranges"
          },
          "2eb8b0b0-d1ef-4e7b-8f2a-b7aadfc0137f": {
            "applied_filters": [],
            "dataframe_info": {
              "default_index_used": false,
              "orig_num_cols": 5,
              "orig_num_rows": 12,
              "orig_size_bytes": 576,
              "truncated_num_cols": 5,
              "truncated_num_rows": 12,
              "truncated_size_bytes": 576,
              "truncated_string_columns": []
            },
            "display_id": "2eb8b0b0-d1ef-4e7b-8f2a-b7aadfc0137f",
            "dx_settings": {
              "ALLOW_NOTEABLE_ATTRS": true,
              "COLUMN_SAMPLING_METHOD": "outer",
              "DB_LOCATION": ":memory:",
              "DEV_MODE": false,
              "DISPLAY_MAX_COLUMNS": 100,
              "DISPLAY_MAX_ROWS": 50000,
              "DISPLAY_MODE": "simple",
              "ENABLE_ASSIGNMENT": true,
              "ENABLE_DATALINK": true,
              "FLATTEN_COLUMN_VALUES": true,
              "FLATTEN_INDEX_VALUES": false,
              "GENERATE_DEX_METADATA": false,
              "HTML_TABLE_SCHEMA": false,
              "LOG_LEVEL": 30,
              "MAX_RENDER_SIZE_BYTES": 104857600,
              "MAX_STRING_LENGTH": 250,
              "NUM_PAST_SAMPLES_TRACKED": 3,
              "RANDOM_STATE": 12648430,
              "RESET_INDEX_VALUES": false,
              "ROW_SAMPLING_METHOD": "random",
              "SAMPLING_FACTOR": 0.1,
              "SAMPLING_METHOD": "random",
              "STRINGIFY_COLUMN_VALUES": true,
              "STRINGIFY_INDEX_VALUES": false
            },
            "sample_history": [],
            "sampling_time": "2023-10-16T05:39:07.229598",
            "user_variable_name": "feature_ranges",
            "variable_name": "feature_ranges"
          }
        }
      },
      "execution_count": null,
      "source": "# Feature value ranges for anomalies\nfeature_ranges = anomaly_data.describe().transpose()[['min', '25%', '50%', '75%', 'max']]\nfeature_ranges",
      "outputs": []
    },
    {
      "id": "c4951bb4-e022-43ee-a8ff-a4307484ed94",
      "cell_type": "code",
      "metadata": {
        "noteable": {
          "cell_type": "code",
          "output_collection_id": "f42551f8-5f0d-45e6-80e0-f40941a67105"
        },
        "ExecuteTime": {
          "end_time": "2023-10-16T05:39:07.817420+00:00",
          "start_time": "2023-10-16T05:39:07.427008+00:00"
        }
      },
      "execution_count": null,
      "source": "# Distribution of the target variable 'num' within the anomalies\nplt.figure(figsize=(10, 6))\nsns.countplot(x='num', data=anomaly_data)\nplt.title('Distribution of Diagnosis of Heart Disease (num) within Anomalies')\nplt.xlabel('Diagnosis of Heart Disease (num)')\nplt.ylabel('Count')\nplt.show()",
      "outputs": []
    },
    {
      "id": "894ec92f-86ee-47d1-8ff9-8d5e03cf23bc",
      "cell_type": "markdown",
      "source": "From the plot, we can observe:\n\nA significant number of anomalies have a num value of 3, indicating a higher likelihood of having heart disease.\n\nThere are also anomalies with num values of 0, 2, and 4, but the count for num = 3 is the most pronounced.\n\nThis suggests that many of the anomalies identified by the Isolation Forest algorithm are associated with a higher likelihood of heart disease.",
      "metadata": {
        "noteable": {
          "cell_type": "markdown"
        }
      }
    },
    {
      "id": "1c00febb-3aa9-4bb1-9e87-d1fd1e909b7f",
      "cell_type": "code",
      "metadata": {
        "noteable": {
          "cell_type": "code",
          "output_collection_id": "bb491c66-dc76-4182-9b6e-6bdad5737b52"
        },
        "ExecuteTime": {
          "end_time": "2023-10-16T05:39:13.966790+00:00",
          "start_time": "2023-10-16T05:39:07.913153+00:00"
        }
      },
      "execution_count": null,
      "source": "# Selecting a subset of features for the pair plot\nselected_features = ['age', 'trestbps', 'chol', 'thalach', 'oldpeak', 'num']\n\n# Creating the pair plot for the anomalies\nsns.pairplot(anomaly_data[selected_features], hue='num', palette='viridis', diag_kind='kde')\nplt.suptitle('Pairwise Relationships Among Anomalies', y=1.02)\nplt.show()",
      "outputs": []
    },
    {
      "id": "c68110e3-7101-4051-8048-1d04a8d445b0",
      "cell_type": "markdown",
      "source": "Age vs. Chol: There seems to be a cluster of anomalies with higher cholesterol levels as age increases.\n\nTrestbps vs. Thalach: Anomalies with higher resting blood pressure (trestbps) tend to have a lower maximum heart rate achieved (thalach).\n\nOldpeak vs. Thalach: Anomalies with a higher ST depression induced by exercise relative to rest (oldpeak) tend to have a lower maximum heart rate achieved (thalach).",
      "metadata": {
        "noteable": {
          "cell_type": "markdown"
        }
      }
    },
    {
      "id": "ae241d61-6a59-4f79-9a46-085038b4b114",
      "cell_type": "markdown",
      "source": "## Further Analysis of Anomalies",
      "metadata": {
        "noteable": {
          "cell_type": "markdown"
        }
      }
    },
    {
      "id": "fed31d73-6052-4107-a235-5d10f77de7c2",
      "cell_type": "code",
      "metadata": {
        "noteable": {
          "cell_type": "code",
          "output_collection_id": "476811ce-85bd-4f0f-af65-24ce5e4c9bb9"
        },
        "ExecuteTime": {
          "end_time": "2023-10-16T05:40:45.003964+00:00",
          "start_time": "2023-10-16T05:40:44.721727+00:00"
        },
        "datalink": {
          "5b41974a-3b34-4841-9359-3e399193ee05": {
            "applied_filters": [],
            "dataframe_info": {
              "default_index_used": false,
              "orig_num_cols": 8,
              "orig_num_rows": 12,
              "orig_size_bytes": 864,
              "truncated_num_cols": 8,
              "truncated_num_rows": 12,
              "truncated_size_bytes": 864,
              "truncated_string_columns": []
            },
            "display_id": "5b41974a-3b34-4841-9359-3e399193ee05",
            "dx_settings": {
              "ALLOW_NOTEABLE_ATTRS": true,
              "COLUMN_SAMPLING_METHOD": "outer",
              "DB_LOCATION": ":memory:",
              "DEV_MODE": false,
              "DISPLAY_MAX_COLUMNS": 100,
              "DISPLAY_MAX_ROWS": 50000,
              "DISPLAY_MODE": "simple",
              "ENABLE_ASSIGNMENT": true,
              "ENABLE_DATALINK": true,
              "FLATTEN_COLUMN_VALUES": true,
              "FLATTEN_INDEX_VALUES": false,
              "GENERATE_DEX_METADATA": false,
              "HTML_TABLE_SCHEMA": false,
              "LOG_LEVEL": 30,
              "MAX_RENDER_SIZE_BYTES": 104857600,
              "MAX_STRING_LENGTH": 250,
              "NUM_PAST_SAMPLES_TRACKED": 3,
              "RANDOM_STATE": 12648430,
              "RESET_INDEX_VALUES": false,
              "ROW_SAMPLING_METHOD": "random",
              "SAMPLING_FACTOR": 0.1,
              "SAMPLING_METHOD": "random",
              "STRINGIFY_COLUMN_VALUES": true,
              "STRINGIFY_INDEX_VALUES": false
            },
            "sample_history": [],
            "sampling_time": "2023-10-16T05:40:44.841297",
            "user_variable_name": "anomaly_stats",
            "variable_name": "anomaly_stats"
          }
        }
      },
      "execution_count": null,
      "source": "# Statistical summary of the anomalies\nanomaly_summary = anomaly_data.describe().transpose()\nanomaly_summary",
      "outputs": []
    },
    {
      "id": "30d0316e-38d2-433d-a4f9-a9d74bc6f325",
      "cell_type": "code",
      "metadata": {
        "noteable": {
          "cell_type": "code",
          "output_collection_id": "b3108846-b4f3-4c3d-b49d-51deb0d3fa1e"
        },
        "ExecuteTime": {
          "end_time": "2023-10-16T05:41:47.449625+00:00",
          "start_time": "2023-10-16T05:41:46.766094+00:00"
        }
      },
      "execution_count": null,
      "source": "import seaborn as sns\nimport matplotlib.pyplot as plt\n\n# Correlation matrix of the anomalies\ncorrelation_matrix = anomaly_data.corr()\n\n# Visualizing the correlation matrix using a heatmap\nplt.figure(figsize=(12, 8))\nsns.heatmap(correlation_matrix, annot=True, cmap='coolwarm', vmin=-1, vmax=1)\nplt.title('Correlation Matrix of Anomalies')\nplt.show()",
      "outputs": []
    },
    {
      "id": "86d442f9-96f6-4330-9df3-744c5e86be34",
      "cell_type": "markdown",
      "source": "age and oldpeak have a negative correlation of -0.25.\n\nthalach (maximum heart rate achieved) has a negative correlation with several features like age, oldpeak, and exang (exercise induced angina).\n\ncp (chest pain type) and num (diagnosis of heart disease) have a positive correlation.",
      "metadata": {
        "noteable": {
          "cell_type": "markdown"
        }
      }
    },
    {
      "id": "fad35baa-c2c5-4c10-8c8f-f57c26d1611f",
      "cell_type": "code",
      "metadata": {
        "noteable": {
          "cell_type": "python"
        }
      },
      "execution_count": null,
      "source": "",
      "outputs": []
    },
    {
      "id": "432db772-5933-45ac-819e-e99ed71fef3e",
      "cell_type": "code",
      "metadata": {
        "noteable": {
          "cell_type": "code",
          "output_collection_id": "7a9e4101-dd6d-4811-bc38-c4d98434ecc6"
        },
        "ExecuteTime": {
          "end_time": "2023-10-16T05:52:27.154367+00:00",
          "start_time": "2023-10-16T05:52:26.631996+00:00"
        }
      },
      "execution_count": null,
      "source": "from sklearn.ensemble import RandomForestClassifier\n\n# Features and target\nX = anomaly_data.drop(['num', 'Anomaly'], axis=1)\ny = anomaly_data['num']\n\n# Train a Random Forest classifier\nclf = RandomForestClassifier(n_estimators=100, random_state=42)\nclf.fit(X, y)\n\n# Extract feature importances\nfeature_importances = clf.feature_importances_\nfeatures = X.columns\n\n# Visualize feature importances\nplt.figure(figsize=(12, 8))\nsns.barplot(x=feature_importances, y=features, palette='viridis')\nplt.title('Feature Importance for Anomalies')\nplt.xlabel('Importance Score')\nplt.ylabel('Features')\nplt.show()",
      "outputs": []
    },
    {
      "id": "3d8baad5-44d4-4a12-a124-00b2ef88cdaa",
      "cell_type": "markdown",
      "source": "From the chart, we can observe:\n\nthalach (maximum heart rate achieved) appears to be the most influential feature in determining whether a data point is considered an anomaly.\n\noldpeak (ST depression induced by exercise relative to rest) and trestbps are also among the top influential features.\n\nFeatures like sex, fbs (fasting blood sugar), and restecg (resting electrocardiographic results) have relatively lower importance scores, indicating that they might not be as influential in distinguishing anomalies from the rest of the data.",
      "metadata": {
        "noteable": {
          "cell_type": "markdown"
        }
      }
    }
  ]
}