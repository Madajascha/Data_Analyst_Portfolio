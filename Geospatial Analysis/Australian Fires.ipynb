{
  "nbformat": 4,
  "nbformat_minor": 5,
  "metadata": {
    "kernel_info": {
      "name": "python3"
    },
    "kernelspec": {
      "display_name": "Python 3.9",
      "identifier": "legacy",
      "language": "python",
      "language_version": "3.9",
      "name": "python3"
    },
    "selected_hardware_size": "small"
  },
  "cells": [
    {
      "id": "6c558371",
      "cell_type": "code",
      "metadata": {
        "noteable": {
          "output_collection_id": "17f5702a-9062-4d96-afee-c20292d3f204"
        },
        "ExecuteTime": {
          "end_time": "2023-11-20T02:17:01.261442+00:00",
          "start_time": "2023-11-20T02:17:00.306462+00:00"
        }
      },
      "execution_count": null,
      "source": "import numpy as np\nimport pandas as pd\nimport matplotlib.pyplot as plt\nimport seaborn as sns\nimport geopandas as gpd\nimport folium\nimport plotly.graph_objects as go\nimport plotly.express as px",
      "outputs": []
    },
    {
      "id": "decd55f2-6796-4f2c-a014-ec75fbba5e4d",
      "cell_type": "code",
      "metadata": {
        "jupyter": {
          "outputs_hidden": false,
          "source_hidden": false
        },
        "noteable": {
          "cell_type": "code",
          "output_collection_id": "30db9f27-86e7-43a2-8c62-16cc6c5c9638"
        },
        "ExecuteTime": {
          "end_time": "2023-11-20T02:17:12.944588+00:00",
          "start_time": "2023-11-20T02:17:10.779343+00:00"
        },
        "datalink": {
          "b2a7bc8c-cda5-49a7-b49f-86d35ae140d9": {
            "applied_filters": [],
            "dataframe_info": {
              "default_index_used": true,
              "orig_num_cols": 15,
              "orig_num_rows": 5,
              "orig_size_bytes": 640,
              "truncated_num_cols": 15,
              "truncated_num_rows": 5,
              "truncated_size_bytes": 640,
              "truncated_string_columns": []
            },
            "display_id": "b2a7bc8c-cda5-49a7-b49f-86d35ae140d9",
            "dx_settings": {
              "ALLOW_NOTEABLE_ATTRS": true,
              "COLUMN_SAMPLING_METHOD": "outer",
              "DB_LOCATION": ":memory:",
              "DEV_MODE": false,
              "DISPLAY_MAX_COLUMNS": 100,
              "DISPLAY_MAX_ROWS": 50000,
              "DISPLAY_MODE": "simple",
              "ENABLE_ASSIGNMENT": true,
              "ENABLE_DATALINK": true,
              "FLATTEN_COLUMN_VALUES": true,
              "FLATTEN_INDEX_VALUES": false,
              "GENERATE_DEX_METADATA": false,
              "HTML_TABLE_SCHEMA": false,
              "LOG_LEVEL": 30,
              "MAX_RENDER_SIZE_BYTES": 104857600,
              "MAX_STRING_LENGTH": 250,
              "NUM_PAST_SAMPLES_TRACKED": 3,
              "RANDOM_STATE": 12648430,
              "RESET_INDEX_VALUES": false,
              "ROW_SAMPLING_METHOD": "random",
              "SAMPLING_FACTOR": 0.1,
              "SAMPLING_METHOD": "random",
              "STRINGIFY_COLUMN_VALUES": true,
              "STRINGIFY_INDEX_VALUES": false
            },
            "sample_history": [],
            "sampling_time": "2023-11-20T02:17:12.780598",
            "user_variable_name": null,
            "variable_name": "unk_dataframe_c3d7eb84d80c482a8da95d79b9300db7"
          }
        }
      },
      "execution_count": null,
      "source": "raw_data_1 = pd.read_csv('fire_archive_M6_96619.csv')\nraw_data_2 = pd.read_csv('fire_nrt_M6_96619.csv')\nfire_data = pd.concat([raw_data_1, raw_data_2])\nfire_data.head()",
      "outputs": []
    },
    {
      "id": "d3aacc2c-1e01-4c72-9337-3bc4fb7b2688",
      "cell_type": "code",
      "metadata": {
        "jupyter": {
          "outputs_hidden": false,
          "source_hidden": false
        },
        "noteable": {
          "cell_type": "code",
          "output_collection_id": "20d15d87-cbc3-4540-8eb7-f6d0d4462fb5"
        },
        "ExecuteTime": {
          "end_time": "2023-11-20T02:17:43.757473+00:00",
          "start_time": "2023-11-20T02:17:43.461528+00:00"
        }
      },
      "execution_count": null,
      "source": "fire_data.info()",
      "outputs": []
    },
    {
      "id": "250497da-44b2-49a5-ae4c-881128cfba47",
      "cell_type": "code",
      "metadata": {
        "jupyter": {
          "outputs_hidden": false,
          "source_hidden": false
        },
        "noteable": {
          "cell_type": "code",
          "output_collection_id": "42514f10-5bf0-46d4-9940-35909665fe0e"
        },
        "ExecuteTime": {
          "end_time": "2023-11-20T02:17:56.814742+00:00",
          "start_time": "2023-11-20T02:17:56.551248+00:00"
        }
      },
      "execution_count": null,
      "source": "fire_data.duplicated().sum()",
      "outputs": []
    },
    {
      "id": "6030d522-145e-43e3-94d8-9801237bf0aa",
      "cell_type": "code",
      "metadata": {
        "jupyter": {
          "outputs_hidden": false,
          "source_hidden": false
        },
        "noteable": {
          "cell_type": "code",
          "output_collection_id": "16e77da1-0235-408b-b67a-cd3d1bc06de9"
        },
        "ExecuteTime": {
          "end_time": "2023-11-20T02:18:07.310804+00:00",
          "start_time": "2023-11-20T02:18:07.121304+00:00"
        }
      },
      "execution_count": null,
      "source": "fire_data = fire_data.drop(columns = 'type')",
      "outputs": []
    },
    {
      "id": "952c6a79-e1e9-4729-81a8-802a30d2cf3b",
      "cell_type": "code",
      "metadata": {
        "jupyter": {
          "outputs_hidden": false,
          "source_hidden": false
        },
        "noteable": {
          "cell_type": "code",
          "output_collection_id": "fce3ad7d-c2e8-41b5-9775-6d9011ad6b1b"
        },
        "ExecuteTime": {
          "end_time": "2023-11-20T02:18:24.369525+00:00",
          "start_time": "2023-11-20T02:18:22.579871+00:00"
        },
        "datalink": {
          "309eb171-8da4-4f32-82be-fac2ec503cce": {
            "applied_filters": [],
            "dataframe_info": {
              "default_index_used": true,
              "orig_num_cols": 14,
              "orig_num_rows": 5,
              "orig_size_bytes": 600,
              "truncated_num_cols": 14,
              "truncated_num_rows": 5,
              "truncated_size_bytes": 600,
              "truncated_string_columns": []
            },
            "display_id": "309eb171-8da4-4f32-82be-fac2ec503cce",
            "dx_settings": {
              "ALLOW_NOTEABLE_ATTRS": true,
              "COLUMN_SAMPLING_METHOD": "outer",
              "DB_LOCATION": ":memory:",
              "DEV_MODE": false,
              "DISPLAY_MAX_COLUMNS": 100,
              "DISPLAY_MAX_ROWS": 50000,
              "DISPLAY_MODE": "simple",
              "ENABLE_ASSIGNMENT": true,
              "ENABLE_DATALINK": true,
              "FLATTEN_COLUMN_VALUES": true,
              "FLATTEN_INDEX_VALUES": false,
              "GENERATE_DEX_METADATA": false,
              "HTML_TABLE_SCHEMA": false,
              "LOG_LEVEL": 30,
              "MAX_RENDER_SIZE_BYTES": 104857600,
              "MAX_STRING_LENGTH": 250,
              "NUM_PAST_SAMPLES_TRACKED": 3,
              "RANDOM_STATE": 12648430,
              "RESET_INDEX_VALUES": false,
              "ROW_SAMPLING_METHOD": "random",
              "SAMPLING_FACTOR": 0.1,
              "SAMPLING_METHOD": "random",
              "STRINGIFY_COLUMN_VALUES": true,
              "STRINGIFY_INDEX_VALUES": false
            },
            "sample_history": [],
            "sampling_time": "2023-11-20T02:18:24.208761",
            "user_variable_name": null,
            "variable_name": "unk_dataframe_50047bb45f5d43328b5db3b96e8a1679"
          }
        }
      },
      "execution_count": null,
      "source": "fire_data.head()",
      "outputs": []
    },
    {
      "id": "33ed2881-e6c3-4685-9da5-3ba1021f771b",
      "cell_type": "code",
      "metadata": {
        "jupyter": {
          "outputs_hidden": false,
          "source_hidden": false
        },
        "noteable": {
          "cell_type": "code",
          "output_collection_id": "c09c5d3e-886e-40a4-b6e9-704b105e2ac6"
        },
        "ExecuteTime": {
          "end_time": "2023-11-20T02:18:41.238276+00:00",
          "start_time": "2023-11-20T02:18:41.015224+00:00"
        }
      },
      "execution_count": null,
      "source": "fire_data['acq_date'].min()\nfire_data['acq_date'].max()\nprint('Min:', fire_data['acq_date'].min())\nprint('Max:', fire_data['acq_date'].max())",
      "outputs": []
    },
    {
      "id": "492af6ef-1f89-4ca5-ba29-43d176c8f5f2",
      "cell_type": "code",
      "metadata": {
        "jupyter": {
          "outputs_hidden": false,
          "source_hidden": false
        },
        "noteable": {
          "cell_type": "code",
          "output_collection_id": "90995e9e-9e1f-463b-9316-d75d463cf04a"
        },
        "ExecuteTime": {
          "end_time": "2023-11-20T02:18:53.626059+00:00",
          "start_time": "2023-11-20T02:18:51.387680+00:00"
        },
        "datalink": {
          "312d73ca-c020-40db-8128-fcffdd2fd069": {
            "applied_filters": [],
            "dataframe_info": {
              "default_index_used": true,
              "orig_num_cols": 17,
              "orig_num_rows": 5,
              "orig_size_bytes": 720,
              "truncated_num_cols": 17,
              "truncated_num_rows": 5,
              "truncated_size_bytes": 720,
              "truncated_string_columns": []
            },
            "display_id": "312d73ca-c020-40db-8128-fcffdd2fd069",
            "dx_settings": {
              "ALLOW_NOTEABLE_ATTRS": true,
              "COLUMN_SAMPLING_METHOD": "outer",
              "DB_LOCATION": ":memory:",
              "DEV_MODE": false,
              "DISPLAY_MAX_COLUMNS": 100,
              "DISPLAY_MAX_ROWS": 50000,
              "DISPLAY_MODE": "simple",
              "ENABLE_ASSIGNMENT": true,
              "ENABLE_DATALINK": true,
              "FLATTEN_COLUMN_VALUES": true,
              "FLATTEN_INDEX_VALUES": false,
              "GENERATE_DEX_METADATA": false,
              "HTML_TABLE_SCHEMA": false,
              "LOG_LEVEL": 30,
              "MAX_RENDER_SIZE_BYTES": 104857600,
              "MAX_STRING_LENGTH": 250,
              "NUM_PAST_SAMPLES_TRACKED": 3,
              "RANDOM_STATE": 12648430,
              "RESET_INDEX_VALUES": false,
              "ROW_SAMPLING_METHOD": "random",
              "SAMPLING_FACTOR": 0.1,
              "SAMPLING_METHOD": "random",
              "STRINGIFY_COLUMN_VALUES": true,
              "STRINGIFY_INDEX_VALUES": false
            },
            "sample_history": [],
            "sampling_time": "2023-11-20T02:18:53.458314",
            "user_variable_name": null,
            "variable_name": "unk_dataframe_f63f3405fbab489fb77eefed83a2b00d"
          }
        }
      },
      "execution_count": null,
      "source": "fire_data['acq_date'] = pd.to_datetime(fire_data['acq_date'])\n\nfire_data['month'] = fire_data['acq_date'].dt.month\nfire_data['date'] = fire_data['acq_date'].dt.day\nfire_data['day_of_week'] = fire_data['acq_date'].dt.day_name()\n\nfire_data.head()",
      "outputs": []
    },
    {
      "id": "4961176d-9e06-419f-8da4-ec5638ebf363",
      "cell_type": "code",
      "metadata": {
        "jupyter": {
          "outputs_hidden": false,
          "source_hidden": false
        },
        "noteable": {
          "cell_type": "code",
          "output_collection_id": "81777ae4-c336-4f2f-acd8-e7558d460739"
        },
        "ExecuteTime": {
          "end_time": "2023-11-20T02:19:02.980357+00:00",
          "start_time": "2023-11-20T02:19:02.712040+00:00"
        }
      },
      "execution_count": null,
      "source": "fire_data['acq_date_string'] = fire_data['acq_date'].dt.strftime('%Y-%m-%d')\nfire_data['acq_date_string'].dtype",
      "outputs": []
    },
    {
      "id": "79dc774a-102d-4d8d-97e7-344bb851817d",
      "cell_type": "code",
      "metadata": {
        "jupyter": {
          "outputs_hidden": false,
          "source_hidden": false
        },
        "noteable": {
          "cell_type": "code",
          "output_collection_id": "c200786e-7a3a-46b9-927d-ef3da5bb090a"
        },
        "ExecuteTime": {
          "end_time": "2023-11-20T02:19:11.663750+00:00",
          "start_time": "2023-11-20T02:19:11.507842+00:00"
        }
      },
      "execution_count": null,
      "source": "fire_data['month'].unique()",
      "outputs": []
    },
    {
      "id": "172e688e-5a32-4649-bec3-9c423bf3ebd5",
      "cell_type": "markdown",
      "source": "# Fire counts",
      "metadata": {
        "noteable": {
          "cell_type": "markdown"
        }
      }
    },
    {
      "id": "b70000f5-ec01-4805-8c4f-ed82534caa88",
      "cell_type": "code",
      "metadata": {
        "noteable": {
          "cell_type": "python",
          "output_collection_id": "f79bd68d-a4b8-439b-ade2-54f14a6c3ecd"
        },
        "ExecuteTime": {
          "end_time": "2023-11-20T02:19:52.495465+00:00",
          "start_time": "2023-11-20T02:19:50.424820+00:00"
        },
        "datalink": {
          "5a78a7dd-d67d-4e80-8046-2d59d895839c": {
            "applied_filters": [],
            "dataframe_info": {
              "default_index_used": false,
              "orig_num_cols": 1,
              "orig_num_rows": 5,
              "orig_size_bytes": 80,
              "truncated_num_cols": 1,
              "truncated_num_rows": 5,
              "truncated_size_bytes": 80,
              "truncated_string_columns": []
            },
            "display_id": "5a78a7dd-d67d-4e80-8046-2d59d895839c",
            "dx_settings": {
              "ALLOW_NOTEABLE_ATTRS": true,
              "COLUMN_SAMPLING_METHOD": "outer",
              "DB_LOCATION": ":memory:",
              "DEV_MODE": false,
              "DISPLAY_MAX_COLUMNS": 100,
              "DISPLAY_MAX_ROWS": 50000,
              "DISPLAY_MODE": "simple",
              "ENABLE_ASSIGNMENT": true,
              "ENABLE_DATALINK": true,
              "FLATTEN_COLUMN_VALUES": true,
              "FLATTEN_INDEX_VALUES": false,
              "GENERATE_DEX_METADATA": false,
              "HTML_TABLE_SCHEMA": false,
              "LOG_LEVEL": 30,
              "MAX_RENDER_SIZE_BYTES": 104857600,
              "MAX_STRING_LENGTH": 250,
              "NUM_PAST_SAMPLES_TRACKED": 3,
              "RANDOM_STATE": 12648430,
              "RESET_INDEX_VALUES": false,
              "ROW_SAMPLING_METHOD": "random",
              "SAMPLING_FACTOR": 0.1,
              "SAMPLING_METHOD": "random",
              "STRINGIFY_COLUMN_VALUES": true,
              "STRINGIFY_INDEX_VALUES": false
            },
            "sample_history": [],
            "sampling_time": "2023-11-20T02:19:52.334658",
            "user_variable_name": null,
            "variable_name": "unk_dataframe_4354bf74a0344d52bbbd384b2f0405f9"
          }
        }
      },
      "execution_count": null,
      "source": "fire_count_per_month = fire_data.groupby('month').size()\nfire_count_per_month.head()",
      "outputs": []
    },
    {
      "id": "ea51889d-1ce9-4df5-8859-51ad45402297",
      "cell_type": "code",
      "metadata": {
        "jupyter": {
          "outputs_hidden": false,
          "source_hidden": false
        },
        "noteable": {
          "cell_type": "code",
          "output_collection_id": "3c54cea1-1c5b-47a2-ba2a-886c38bfdd2d"
        },
        "ExecuteTime": {
          "end_time": "2023-11-20T02:20:03.513655+00:00",
          "start_time": "2023-11-20T02:20:02.894522+00:00"
        }
      },
      "execution_count": null,
      "source": "fire_count_per_month.plot(kind='bar', figsize=(10, 6), color='skyblue')\n\nplt.title('Count of Fire Records by Month')\nplt.xlabel('Month')\nplt.ylabel('Count of Fires')\nplt.xticks(rotation=None)\nplt.tight_layout()\nplt.show()",
      "outputs": []
    },
    {
      "id": "9579e058-6ed6-4520-88ca-a764b7044e6c",
      "cell_type": "code",
      "metadata": {
        "jupyter": {
          "outputs_hidden": false,
          "source_hidden": false
        },
        "noteable": {
          "cell_type": "code",
          "output_collection_id": "6efa1413-b84b-4651-b182-f385bc4585ed"
        },
        "ExecuteTime": {
          "end_time": "2023-11-20T02:20:17.298575+00:00",
          "start_time": "2023-11-20T02:20:15.180192+00:00"
        },
        "datalink": {
          "2648058d-87d9-43e8-b496-c8300149d4fc": {
            "applied_filters": [],
            "dataframe_info": {
              "default_index_used": false,
              "orig_num_cols": 2,
              "orig_num_rows": 5,
              "orig_size_bytes": 120,
              "truncated_num_cols": 2,
              "truncated_num_rows": 5,
              "truncated_size_bytes": 120,
              "truncated_string_columns": []
            },
            "display_id": "2648058d-87d9-43e8-b496-c8300149d4fc",
            "dx_settings": {
              "ALLOW_NOTEABLE_ATTRS": true,
              "COLUMN_SAMPLING_METHOD": "outer",
              "DB_LOCATION": ":memory:",
              "DEV_MODE": false,
              "DISPLAY_MAX_COLUMNS": 100,
              "DISPLAY_MAX_ROWS": 50000,
              "DISPLAY_MODE": "simple",
              "ENABLE_ASSIGNMENT": true,
              "ENABLE_DATALINK": true,
              "FLATTEN_COLUMN_VALUES": true,
              "FLATTEN_INDEX_VALUES": false,
              "GENERATE_DEX_METADATA": false,
              "HTML_TABLE_SCHEMA": false,
              "LOG_LEVEL": 30,
              "MAX_RENDER_SIZE_BYTES": 104857600,
              "MAX_STRING_LENGTH": 250,
              "NUM_PAST_SAMPLES_TRACKED": 3,
              "RANDOM_STATE": 12648430,
              "RESET_INDEX_VALUES": false,
              "ROW_SAMPLING_METHOD": "random",
              "SAMPLING_FACTOR": 0.1,
              "SAMPLING_METHOD": "random",
              "STRINGIFY_COLUMN_VALUES": true,
              "STRINGIFY_INDEX_VALUES": false
            },
            "sample_history": [],
            "sampling_time": "2023-11-20T02:20:17.129271",
            "user_variable_name": null,
            "variable_name": "unk_dataframe_65748526e1f64306ac6e38ac71675257"
          }
        }
      },
      "execution_count": null,
      "source": "fire_count_daynight = fire_data.groupby(['month', 'daynight']).size().unstack()\nfire_count_daynight.head()",
      "outputs": []
    },
    {
      "id": "b72c40d1-25e2-4ed3-9200-dd39831e7a63",
      "cell_type": "code",
      "metadata": {
        "jupyter": {
          "outputs_hidden": false,
          "source_hidden": false
        },
        "noteable": {
          "cell_type": "code",
          "output_collection_id": "9a237bc2-74b1-42f8-b5d9-4da9647c2f37"
        },
        "ExecuteTime": {
          "end_time": "2023-11-20T02:20:28.868106+00:00",
          "start_time": "2023-11-20T02:20:28.392794+00:00"
        }
      },
      "execution_count": null,
      "source": "fire_count_daynight.plot(kind='bar', stacked=True, figsize=(12, 6))\nplt.title('Fire Count by Month and Day/Night')\nplt.xlabel('Month')\nplt.ylabel('Count of Fires')\nplt.legend(title='Day/Night', labels = ['Day', 'Night'])\nplt.xticks(rotation=None)\nplt.tight_layout()\nplt.show()",
      "outputs": []
    },
    {
      "id": "ab0a7622-93c3-491b-8b5e-fbab2941cb71",
      "cell_type": "markdown",
      "source": "# Geospatial fires (static)",
      "metadata": {
        "noteable": {
          "cell_type": "markdown"
        }
      }
    },
    {
      "id": "a63c9332-1b73-40e2-892c-5cb2f000dd49",
      "cell_type": "code",
      "metadata": {
        "noteable": {
          "cell_type": "python",
          "output_collection_id": "48b5c229-6ed7-4d6c-a915-598dcd4bc846"
        },
        "ExecuteTime": {
          "end_time": "2023-11-20T02:21:12.763534+00:00",
          "start_time": "2023-11-20T02:21:12.565329+00:00"
        }
      },
      "execution_count": null,
      "source": "fire_data_aug = fire_data[fire_data['month'] == 8]\nfire_data_sep = fire_data[fire_data['month'] == 9]\nfire_data_oct = fire_data[fire_data['month'] == 10]\nfire_data_nov = fire_data[fire_data['month'] == 11]\nfire_data_dec = fire_data[fire_data['month'] == 12]",
      "outputs": []
    },
    {
      "id": "a2918266-3678-411e-aa4a-13de14b23415",
      "cell_type": "code",
      "metadata": {
        "jupyter": {
          "outputs_hidden": false,
          "source_hidden": false
        },
        "noteable": {
          "cell_type": "code",
          "output_collection_id": "d84f7f87-40e1-4a60-bd3b-f228bec3f2a8"
        },
        "ExecuteTime": {
          "end_time": "2023-11-20T02:21:49.520301+00:00",
          "start_time": "2023-11-20T02:21:23.049327+00:00"
        }
      },
      "execution_count": null,
      "source": "def create_geodataframe(df):\n    return gpd.GeoDataFrame(df, geometry=gpd.points_from_xy(df.longitude, df.latitude))\n\ngdf_aug = create_geodataframe(fire_data_aug)\ngdf_sep = create_geodataframe(fire_data_sep)\ngdf_oct = create_geodataframe(fire_data_oct)\ngdf_nov = create_geodataframe(fire_data_nov)\ngdf_dec = create_geodataframe(fire_data_dec)\ngdf_all = create_geodataframe(fire_data)\n\n# Plotting the subplots for each month and the entire fire_data\nfig, axes = plt.subplots(3, 2, figsize=(14, 18))\nfig.suptitle('Fire Data by Months and Entire Data')\n\ngdf_aug.plot(ax=axes[0, 0], color='blue', markersize=5)\naxes[0, 0].set_title('August')\n\ngdf_sep.plot(ax=axes[0, 1], color='green', markersize=5)\naxes[0, 1].set_title('September')\n\ngdf_oct.plot(ax=axes[1, 0], color='red', markersize=5)\naxes[1, 0].set_title('October')\n\ngdf_nov.plot(ax=axes[1, 1], color='purple', markersize=5)\naxes[1, 1].set_title('November')\n\ngdf_dec.plot(ax=axes[2, 0], color='orange', markersize=5)\naxes[2, 0].set_title('December')\n\ngdf_all.plot(ax=axes[2, 1], color='gray', markersize=5)\naxes[2, 1].set_title('Entire Data')\n\nplt.tight_layout(rect=[0, 0, 1, 0.96])\nplt.show()",
      "outputs": []
    },
    {
      "id": "2c15751b-d582-4d39-9096-2c56685df235",
      "cell_type": "code",
      "metadata": {
        "jupyter": {
          "outputs_hidden": false,
          "source_hidden": false
        },
        "noteable": {
          "cell_type": "code",
          "output_collection_id": "468a4585-759d-4992-9a6d-3862b7fb557d"
        },
        "ExecuteTime": {
          "end_time": "2023-11-20T02:22:35.606043+00:00",
          "start_time": "2023-11-20T02:22:17.976581+00:00"
        }
      },
      "execution_count": null,
      "source": "# Function to filter \"day\" records and create GeoDataFrame\ndef create_day_geodataframe(df):\n    day_data = df[df['daynight'] == 'D']\n    return gpd.GeoDataFrame(day_data, geometry=gpd.points_from_xy(day_data.longitude, day_data.latitude))\n\n# Creating GeoDataFrames for \"day\" records for the months and entire fire_data\ngdf_day_aug = create_day_geodataframe(fire_data_aug)\ngdf_day_sep = create_day_geodataframe(fire_data_sep)\ngdf_day_oct = create_day_geodataframe(fire_data_oct)\ngdf_day_nov = create_day_geodataframe(fire_data_nov)\ngdf_day_dec = create_day_geodataframe(fire_data_dec)\ngdf_day_all = create_day_geodataframe(fire_data)\n\n# Plotting the subplots for \"day\" records for each month and the entire fire_data\nfig, axes = plt.subplots(3, 2, figsize=(14, 18))\nfig.suptitle('Fire Data by Months and Entire Data (Day Records)')\n\ngdf_day_aug.plot(ax=axes[0, 0], color='blue', markersize=5)\naxes[0, 0].set_title('August (Day)')\n\ngdf_day_sep.plot(ax=axes[0, 1], color='green', markersize=5)\naxes[0, 1].set_title('September (Day)')\n\ngdf_day_oct.plot(ax=axes[1, 0], color='red', markersize=5)\naxes[1, 0].set_title('October (Day)')\n\ngdf_day_nov.plot(ax=axes[1, 1], color='purple', markersize=5)\naxes[1, 1].set_title('November (Day)')\n\ngdf_day_dec.plot(ax=axes[2, 0], color='orange', markersize=5)\naxes[2, 0].set_title('December (Day)')\n\ngdf_day_all.plot(ax=axes[2, 1], color='grey', markersize=5)\naxes[2, 1].set_title('Entire Data (Day)')\n\nplt.tight_layout(rect=[0, 0, 1, 0.96])\nplt.show()",
      "outputs": []
    },
    {
      "id": "3fbc4739-37a3-4ec7-a7d8-e4ffac33373e",
      "cell_type": "code",
      "metadata": {
        "jupyter": {
          "outputs_hidden": false,
          "source_hidden": false
        },
        "noteable": {
          "cell_type": "code",
          "output_collection_id": "373b6bb2-ec9b-42e0-bdcd-57e4aaeb1c92"
        },
        "ExecuteTime": {
          "end_time": "2023-11-20T02:23:23.859074+00:00",
          "start_time": "2023-11-20T02:23:13.242826+00:00"
        }
      },
      "execution_count": null,
      "source": "def create_day_geodataframe(df):\n    day_data = df[df['daynight'] == 'N']\n    return gpd.GeoDataFrame(day_data, geometry=gpd.points_from_xy(day_data.longitude, day_data.latitude))\n\n# Creating GeoDataFrames for \"day\" records for the months and entire fire_data\ngdf_day_aug = create_day_geodataframe(fire_data_aug)\ngdf_day_sep = create_day_geodataframe(fire_data_sep)\ngdf_day_oct = create_day_geodataframe(fire_data_oct)\ngdf_day_nov = create_day_geodataframe(fire_data_nov)\ngdf_day_dec = create_day_geodataframe(fire_data_dec)\ngdf_day_all = create_day_geodataframe(fire_data)\n\n# Plotting the subplots for \"day\" records for each month and the entire fire_data\nfig, axes = plt.subplots(3, 2, figsize=(14, 18))\nfig.suptitle('Fire Data by Months and Entire Data (Day Records)')\n\ngdf_day_aug.plot(ax=axes[0, 0], color='blue', markersize=5)\naxes[0, 0].set_title('August (Night)')\n\ngdf_day_sep.plot(ax=axes[0, 1], color='green', markersize=5)\naxes[0, 1].set_title('September (Night)')\n\ngdf_day_oct.plot(ax=axes[1, 0], color='red', markersize=5)\naxes[1, 0].set_title('October (Night)')\n\ngdf_day_nov.plot(ax=axes[1, 1], color='purple', markersize=5)\naxes[1, 1].set_title('November (Night)')\n\ngdf_day_dec.plot(ax=axes[2, 0], color='orange', markersize=5)\naxes[2, 0].set_title('December (Night)')\n\ngdf_day_all.plot(ax=axes[2, 1], color='grey', markersize=5)\naxes[2, 1].set_title('Entire Data (Night)')\n\nplt.tight_layout(rect=[0, 0, 1, 0.96])\nplt.show()",
      "outputs": []
    },
    {
      "id": "be13a2f1-559d-4e9b-acb4-bd012b23043f",
      "cell_type": "markdown",
      "source": "# Geospatial Fires (Dynamic/interactive)",
      "metadata": {
        "noteable": {
          "cell_type": "markdown"
        }
      }
    },
    {
      "id": "d35888a0-e943-4d49-9508-45169f60a08c",
      "cell_type": "code",
      "metadata": {
        "noteable": {
          "cell_type": "python",
          "output_collection_id": "794d2681-a5ee-47c2-b0c3-a18b163e3305"
        },
        "ExecuteTime": {
          "end_time": "2023-11-20T02:23:43.912043+00:00",
          "start_time": "2023-11-20T02:23:42.887544+00:00"
        }
      },
      "execution_count": null,
      "source": "fig = go.Figure(go.Densitymapbox(lat=fire_data.latitude, \n                                 lon=fire_data.longitude, \n                                 z= fire_data.brightness, \n                                 radius=8, \n                                 colorscale ='Reds'))\n\nfig.update_layout(mapbox_style=\"carto-positron\",\n                  mapbox_center_lon=134,\n                  mapbox_center_lat=-25,\n                  mapbox_zoom=2.5)\n\nfig.update_layout(title = 'Australian Fires',\n                  title_font = dict(size = 20,color = 'FireBrick'),\n                  title_x = 0.5)\n\nfig.show()",
      "outputs": []
    },
    {
      "id": "9717ea35-2535-4f0d-9c2b-6ad0b46cb948",
      "cell_type": "code",
      "metadata": {
        "jupyter": {
          "outputs_hidden": false,
          "source_hidden": false
        },
        "noteable": {
          "cell_type": "code",
          "output_collection_id": "95dcbc5c-f8c4-47f3-8dfe-492002f0004d"
        },
        "ExecuteTime": {
          "end_time": "2023-11-20T02:24:31.141979+00:00",
          "start_time": "2023-11-20T02:24:26.697627+00:00"
        }
      },
      "execution_count": null,
      "source": "fdtime = fire_data.sort_values(by = ['acq_date_string'],ascending = True)\n\nfig = px.density_mapbox(fdtime, lon = 'longitude', lat = 'latitude',z = 'brightness', \n                        radius = 8,\n                        center = dict(lon = 134,lat = -25),\n                        zoom = 2.5,\n                        mapbox_style='carto-positron',\n                        color_continuous_scale = 'reds',\n                        animation_frame = 'acq_date_string',\n                        labels = {\"acq_date\":\"Date\"})\n\nfig.update_layout(title = 'Australian Fires: From 2019/08/01 to 2020/01/11',\n                  title_font = dict(size = 18,color = 'FireBrick'),\n                  title_x = 0.5)\n\nfig.show()",
      "outputs": []
    },
    {
      "id": "e38e5f9e-dda9-4255-94da-f9933124fa9d",
      "cell_type": "code",
      "metadata": {
        "jupyter": {
          "outputs_hidden": false,
          "source_hidden": false
        },
        "noteable": {
          "cell_type": "code",
          "output_collection_id": "cd44434f-2722-4341-9530-1c1fa2f75ce6"
        },
        "ExecuteTime": {
          "end_time": "2023-11-20T02:25:33.955078+00:00",
          "start_time": "2023-11-20T02:25:31.865348+00:00"
        }
      },
      "execution_count": null,
      "source": "fdday =fire_data[fire_data['daynight'] == 'D'].sort_values(by = ['acq_date_string'],ascending = True)\n\nfig = px.density_mapbox(fdday, lon = 'longitude', lat = 'latitude',z = 'brightness', \n                        radius = 8,\n                        center = dict(lon = 134,lat = -25),\n                        zoom = 2.5,\n                        mapbox_style='carto-positron',\n                        color_continuous_scale = 'reds',\n                        animation_frame = 'acq_date_string',\n                        labels = {\"acq_date\":\"Date\"})\n\nfig.update_layout(title = 'Australian Fires: From 2019/08/01 to 2020/01/11 During Day',\n                  title_font = dict(size = 18,color = 'FireBrick'),\n                  title_x = 0.5)\n\nfig.show()",
      "outputs": []
    },
    {
      "id": "4b7b5af0-a0b0-47b8-a7f5-735b5b663522",
      "cell_type": "code",
      "metadata": {
        "jupyter": {
          "outputs_hidden": false,
          "source_hidden": false
        },
        "noteable": {
          "cell_type": "code",
          "output_collection_id": "26972be7-afba-474b-803b-3b96718ef46e"
        },
        "ExecuteTime": {
          "end_time": "2023-11-20T02:25:42.751176+00:00",
          "start_time": "2023-11-20T02:25:41.351071+00:00"
        }
      },
      "execution_count": null,
      "source": "fdnight =fire_data[fire_data['daynight'] == 'N'].sort_values(by = ['acq_date_string'],ascending = True)\n\nfig = px.density_mapbox(fdnight, lon = 'longitude', lat = 'latitude',z = 'brightness', \n                        radius = 8,\n                        center = dict(lon = 134,lat = -25),\n                        zoom = 2.5,\n                        mapbox_style='carto-positron',\n                        color_continuous_scale = 'reds',\n                        animation_frame = 'acq_date_string',\n                        labels = {\"acq_date\":\"Date\"})\n\nfig.update_layout(title = 'Australian Fires: From 2019/08/01 to 2020/01/11 During Night',\n                  title_font = dict(size = 18,color = 'FireBrick'),\n                  title_x = 0.5)\n\nfig.show()",
      "outputs": []
    },
    {
      "id": "30c6e59f-54f6-4c73-958c-afec7508d4e2",
      "cell_type": "markdown",
      "source": "# Time series Forecasting",
      "metadata": {
        "noteable": {
          "cell_type": "markdown"
        }
      }
    },
    {
      "id": "ff688cd1-a860-4284-a8c3-5391559007a9",
      "cell_type": "code",
      "metadata": {
        "noteable": {
          "cell_type": "python",
          "output_collection_id": "b01a698e-9859-4808-93c4-51cb8d488aff"
        },
        "ExecuteTime": {
          "end_time": "2023-11-20T02:26:10.769513+00:00",
          "start_time": "2023-11-20T02:26:10.523781+00:00"
        }
      },
      "execution_count": null,
      "source": "from statsmodels.tsa.arima.model import ARIMA\nfrom statsmodels.graphics.tsaplots import plot_acf, plot_pacf\nfrom sklearn.metrics import mean_absolute_error, mean_squared_error",
      "outputs": []
    },
    {
      "id": "7f373b50-5b84-49ad-a730-46c08d9fe297",
      "cell_type": "code",
      "metadata": {
        "jupyter": {
          "outputs_hidden": false,
          "source_hidden": false
        },
        "noteable": {
          "cell_type": "code",
          "output_collection_id": "169553e1-7767-4dae-a3ec-ff8af09e15df"
        },
        "ExecuteTime": {
          "end_time": "2023-11-20T02:26:37.610625+00:00",
          "start_time": "2023-11-20T02:26:17.311381+00:00"
        },
        "datalink": {
          "a223ed6c-88a8-41cf-adf6-fe81e516ed38": {
            "applied_filters": [],
            "dataframe_info": {
              "default_index_used": false,
              "orig_num_cols": 1,
              "orig_num_rows": 5,
              "orig_size_bytes": 80,
              "truncated_num_cols": 1,
              "truncated_num_rows": 5,
              "truncated_size_bytes": 80,
              "truncated_string_columns": []
            },
            "display_id": "a223ed6c-88a8-41cf-adf6-fe81e516ed38",
            "dx_settings": {
              "ALLOW_NOTEABLE_ATTRS": true,
              "COLUMN_SAMPLING_METHOD": "outer",
              "DB_LOCATION": ":memory:",
              "DEV_MODE": false,
              "DISPLAY_MAX_COLUMNS": 100,
              "DISPLAY_MAX_ROWS": 50000,
              "DISPLAY_MODE": "simple",
              "ENABLE_ASSIGNMENT": true,
              "ENABLE_DATALINK": true,
              "FLATTEN_COLUMN_VALUES": true,
              "FLATTEN_INDEX_VALUES": false,
              "GENERATE_DEX_METADATA": false,
              "HTML_TABLE_SCHEMA": false,
              "LOG_LEVEL": 30,
              "MAX_RENDER_SIZE_BYTES": 104857600,
              "MAX_STRING_LENGTH": 250,
              "NUM_PAST_SAMPLES_TRACKED": 3,
              "RANDOM_STATE": 12648430,
              "RESET_INDEX_VALUES": false,
              "ROW_SAMPLING_METHOD": "random",
              "SAMPLING_FACTOR": 0.1,
              "SAMPLING_METHOD": "random",
              "STRINGIFY_COLUMN_VALUES": true,
              "STRINGIFY_INDEX_VALUES": false
            },
            "sample_history": [],
            "sampling_time": "2023-11-20T02:26:37.423699",
            "user_variable_name": null,
            "variable_name": "unk_dataframe_d998ad2d61f04d58bdedae74d01f5b94"
          }
        }
      },
      "execution_count": null,
      "source": "# Aggregating the data to get the daily count of fire occurrences\ndaily_fire_counts = fire_data.groupby('acq_date').size()\n\n# Displaying the first few rows of the aggregated data\ndaily_fire_counts.head()\n",
      "outputs": []
    },
    {
      "id": "2c88606c-aa99-4627-8abc-20aae7df6d35",
      "cell_type": "code",
      "metadata": {
        "jupyter": {
          "outputs_hidden": false,
          "source_hidden": false
        },
        "noteable": {
          "cell_type": "code",
          "output_collection_id": "63941181-0f28-4d5e-a60e-2ee81b61517b"
        },
        "ExecuteTime": {
          "end_time": "2023-11-20T02:26:49.510039+00:00",
          "start_time": "2023-11-20T02:26:46.351172+00:00"
        }
      },
      "execution_count": null,
      "source": "# Splitting the data into training and test sets (80% train, 20% test)\ntrain_size = int(len(daily_fire_counts) * 0.8)\ntrain, test = daily_fire_counts[0:train_size], daily_fire_counts[train_size:]\n\n# Plotting auto-correlation and partial auto-correlation to help identify ARIMA parameters\nfig, ax = plt.subplots(1, 2, figsize=(12, 4))\n\n# Plotting the ACF\nplot_acf(train, ax=ax[0], lags=40)\n\n# Plotting the PACF\nplot_pacf(train, ax=ax[1], lags=40)\n\nplt.tight_layout()\nplt.show()",
      "outputs": []
    },
    {
      "id": "952204a8-5d54-4dee-ad7a-f644248c4ae7",
      "cell_type": "code",
      "metadata": {
        "jupyter": {
          "outputs_hidden": false,
          "source_hidden": false
        },
        "noteable": {
          "cell_type": "code",
          "output_collection_id": "f4beab51-f273-4731-a35b-15750d54fe4a"
        },
        "ExecuteTime": {
          "end_time": "2023-11-20T02:27:17.430100+00:00",
          "start_time": "2023-11-20T02:27:16.975105+00:00"
        }
      },
      "execution_count": null,
      "source": "# Fitting the ARIMA(1, 0, 1) model\nmodel = ARIMA(train, order=(1, 0, 1))\nmodel_fit = model.fit()\n\n# Summary of the model\nmodel_fit.summary()",
      "outputs": []
    },
    {
      "id": "0aea2439-1ef1-4096-a3e4-6a76758910fb",
      "cell_type": "code",
      "metadata": {
        "jupyter": {
          "outputs_hidden": false,
          "source_hidden": false
        },
        "noteable": {
          "cell_type": "code",
          "output_collection_id": "8c6ec7a8-1a5d-4854-9502-aa2422614672"
        },
        "ExecuteTime": {
          "end_time": "2023-11-20T02:27:30.076039+00:00",
          "start_time": "2023-11-20T02:27:29.578802+00:00"
        }
      },
      "execution_count": null,
      "source": "forecast = model_fit.forecast(steps=len(test))\n\n# Calculate evaluation metrics\nmae = mean_absolute_error(test, forecast)\nrmse = np.sqrt(mean_squared_error(test, forecast))\n\n# Plotting actual vs predicted values\nplt.figure(figsize=(14, 7))\nplt.plot(train.index, train, label='Training Data', color='blue')\nplt.plot(test.index, test, label='Actual Test Data', color='green')\nplt.plot(test.index, forecast, label='Predicted Data', color='red', linestyle='--')\nplt.title('ARIMA Forecast vs Actuals')\nplt.legend(loc='best')\nplt.grid(True)\nplt.show()\n\nmae, rmse",
      "outputs": []
    },
    {
      "id": "14d626ec-e574-423f-bcc3-467eba8c951b",
      "cell_type": "code",
      "metadata": {
        "jupyter": {
          "outputs_hidden": false,
          "source_hidden": false
        },
        "noteable": {
          "cell_type": "code",
          "output_collection_id": "c3f827b3-8a01-4f75-abcf-86d121385f44"
        },
        "ExecuteTime": {
          "end_time": "2023-11-20T02:27:46.443060+00:00",
          "start_time": "2023-11-20T02:27:40.563960+00:00"
        }
      },
      "execution_count": null,
      "source": "import warnings\n\n# Defining the p, d, and q ranges to try\np_range = range(0, 3)\nd_range = range(0, 3)\nq_range = range(0, 3)\n\n# Suppressing warnings\nwarnings.filterwarnings(\"ignore\")\n\n# Storing the results\nbest_aic = float(\"inf\")\nbest_order = None\nbest_model = None\n\n# Grid search over p, d, q values\nfor p in p_range:\n    for d in d_range:\n        for q in q_range:\n            try:\n                # Fitting the ARIMA model\n                temp_model = ARIMA(train, order=(p, d, q))\n                temp_model_fit = temp_model.fit()\n                \n                # Checking if this model has a better AIC than the previous best\n                if temp_model_fit.aic < best_aic:\n                    best_aic = temp_model_fit.aic\n                    best_order = (p, d, q)\n                    best_model = temp_model_fit\n            except:\n                continue\n\nbest_aic, best_order\n",
      "outputs": []
    },
    {
      "id": "e17c50c9-b4a0-4419-8782-4e54fc94dc09",
      "cell_type": "code",
      "metadata": {
        "jupyter": {
          "outputs_hidden": false,
          "source_hidden": false
        },
        "noteable": {
          "cell_type": "code",
          "output_collection_id": "c86384db-4fee-4be4-b093-c7d9b62790cf"
        },
        "ExecuteTime": {
          "end_time": "2023-11-20T02:27:51.625394+00:00",
          "start_time": "2023-11-20T02:27:50.900213+00:00"
        }
      },
      "execution_count": null,
      "source": "# Fitting the ARIMA(1, 2, 2) model to the training data\noptimized_model = ARIMA(train, order=(1, 2, 2))\noptimized_model_fit = optimized_model.fit()\n\n# Making predictions on the test set\noptimized_forecast = optimized_model_fit.forecast(steps=len(test))\n\n# Calculate evaluation metrics\noptimized_mae = mean_absolute_error(test, optimized_forecast)\noptimized_rmse = np.sqrt(mean_squared_error(test, optimized_forecast))\n\n# Plotting actual vs predicted values\nplt.figure(figsize=(14, 7))\nplt.plot(train.index, train, label='Training Data', color='blue')\nplt.plot(test.index, test, label='Actual Test Data', color='green')\nplt.plot(test.index, optimized_forecast, label='Optimized Predicted Data', color='red', linestyle='--')\nplt.title('Optimized ARIMA Forecast vs Actuals')\nplt.legend(loc='best')\nplt.grid(True)\nplt.show()\n\noptimized_mae, optimized_rmse\n",
      "outputs": []
    },
    {
      "id": "eb1cc2ed-dec5-4d21-91e0-dfbdb1af939e",
      "cell_type": "code",
      "metadata": {
        "jupyter": {
          "outputs_hidden": false,
          "source_hidden": false
        },
        "noteable": {
          "cell_type": "code",
          "output_collection_id": "1958223b-808f-4be4-99ee-7f2a7ba134cf"
        },
        "ExecuteTime": {
          "end_time": "2023-11-20T02:27:59.311077+00:00",
          "start_time": "2023-11-20T02:27:59.117284+00:00"
        }
      },
      "execution_count": null,
      "source": "optimized_model_fit.summary()",
      "outputs": []
    }
  ]
}